{
  "nbformat": 4,
  "nbformat_minor": 0,
  "metadata": {
    "colab": {
      "name": "31_와인_베스트모델.ipynb",
      "provenance": [],
      "collapsed_sections": []
    },
    "kernelspec": {
      "name": "python3",
      "display_name": "Python 3"
    },
    "language_info": {
      "name": "python"
    }
  },
  "cells": [
    {
      "cell_type": "markdown",
      "metadata": {
        "id": "4sC0WHOcBcb4"
      },
      "source": [
        "# 와인 베스트 모델 찾기"
      ]
    },
    {
      "cell_type": "code",
      "metadata": {
        "id": "6dPtiL83Bgec"
      },
      "source": [
        "import numpy as np\n",
        "import pandas as pd\n",
        "import tensorflow as tf"
      ],
      "execution_count": 1,
      "outputs": []
    },
    {
      "cell_type": "code",
      "metadata": {
        "id": "uRoHUmKuBpQ3"
      },
      "source": [
        "seed = 2021\n",
        "np.random.seed(seed)\n",
        "tf.random.set_seed(seed)"
      ],
      "execution_count": 2,
      "outputs": []
    },
    {
      "cell_type": "markdown",
      "metadata": {
        "id": "GIb0A3T5Byxf"
      },
      "source": [
        "### 데이터 전처리"
      ]
    },
    {
      "cell_type": "code",
      "metadata": {
        "colab": {
          "resources": {
            "http://localhost:8080/nbextensions/google.colab/files.js": {
              "data": "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",
              "ok": true,
              "headers": [
                [
                  "content-type",
                  "application/javascript"
                ]
              ],
              "status": 200,
              "status_text": ""
            }
          },
          "base_uri": "https://localhost:8080/",
          "height": 77
        },
        "id": "KBELsGepBvec",
        "outputId": "4355ab66-9aca-47c4-9c22-ef3cdc70724e"
      },
      "source": [
        "from google.colab import files \n",
        "uploaded = files.upload()"
      ],
      "execution_count": 3,
      "outputs": [
        {
          "output_type": "display_data",
          "data": {
            "text/html": [
              "\n",
              "     <input type=\"file\" id=\"files-094d98f4-e115-4315-9736-ebc949b481a1\" name=\"files[]\" multiple disabled\n",
              "        style=\"border:none\" />\n",
              "     <output id=\"result-094d98f4-e115-4315-9736-ebc949b481a1\">\n",
              "      Upload widget is only available when the cell has been executed in the\n",
              "      current browser session. Please rerun this cell to enable.\n",
              "      </output>\n",
              "      <script src=\"/nbextensions/google.colab/files.js\"></script> "
            ],
            "text/plain": [
              "<IPython.core.display.HTML object>"
            ]
          },
          "metadata": {
            "tags": []
          }
        },
        {
          "output_type": "stream",
          "text": [
            "Saving wine.csv to wine.csv\n"
          ],
          "name": "stdout"
        }
      ]
    },
    {
      "cell_type": "code",
      "metadata": {
        "colab": {
          "base_uri": "https://localhost:8080/",
          "height": 138
        },
        "id": "j7hOOcHsB76w",
        "outputId": "e3905e42-8f36-471c-8b1d-ec26bd68526e"
      },
      "source": [
        "filename = list(uploaded.keys())[0]\n",
        "df = pd.read_csv(filename, header=None)\n",
        "df.head(3)"
      ],
      "execution_count": 4,
      "outputs": [
        {
          "output_type": "execute_result",
          "data": {
            "text/html": [
              "<div>\n",
              "<style scoped>\n",
              "    .dataframe tbody tr th:only-of-type {\n",
              "        vertical-align: middle;\n",
              "    }\n",
              "\n",
              "    .dataframe tbody tr th {\n",
              "        vertical-align: top;\n",
              "    }\n",
              "\n",
              "    .dataframe thead th {\n",
              "        text-align: right;\n",
              "    }\n",
              "</style>\n",
              "<table border=\"1\" class=\"dataframe\">\n",
              "  <thead>\n",
              "    <tr style=\"text-align: right;\">\n",
              "      <th></th>\n",
              "      <th>0</th>\n",
              "      <th>1</th>\n",
              "      <th>2</th>\n",
              "      <th>3</th>\n",
              "      <th>4</th>\n",
              "      <th>5</th>\n",
              "      <th>6</th>\n",
              "      <th>7</th>\n",
              "      <th>8</th>\n",
              "      <th>9</th>\n",
              "      <th>10</th>\n",
              "      <th>11</th>\n",
              "      <th>12</th>\n",
              "    </tr>\n",
              "  </thead>\n",
              "  <tbody>\n",
              "    <tr>\n",
              "      <th>0</th>\n",
              "      <td>7.4</td>\n",
              "      <td>0.70</td>\n",
              "      <td>0.00</td>\n",
              "      <td>1.9</td>\n",
              "      <td>0.076</td>\n",
              "      <td>11.0</td>\n",
              "      <td>34.0</td>\n",
              "      <td>0.9978</td>\n",
              "      <td>3.51</td>\n",
              "      <td>0.56</td>\n",
              "      <td>9.4</td>\n",
              "      <td>5</td>\n",
              "      <td>1</td>\n",
              "    </tr>\n",
              "    <tr>\n",
              "      <th>1</th>\n",
              "      <td>7.8</td>\n",
              "      <td>0.88</td>\n",
              "      <td>0.00</td>\n",
              "      <td>2.6</td>\n",
              "      <td>0.098</td>\n",
              "      <td>25.0</td>\n",
              "      <td>67.0</td>\n",
              "      <td>0.9968</td>\n",
              "      <td>3.20</td>\n",
              "      <td>0.68</td>\n",
              "      <td>9.8</td>\n",
              "      <td>5</td>\n",
              "      <td>1</td>\n",
              "    </tr>\n",
              "    <tr>\n",
              "      <th>2</th>\n",
              "      <td>7.8</td>\n",
              "      <td>0.76</td>\n",
              "      <td>0.04</td>\n",
              "      <td>2.3</td>\n",
              "      <td>0.092</td>\n",
              "      <td>15.0</td>\n",
              "      <td>54.0</td>\n",
              "      <td>0.9970</td>\n",
              "      <td>3.26</td>\n",
              "      <td>0.65</td>\n",
              "      <td>9.8</td>\n",
              "      <td>5</td>\n",
              "      <td>1</td>\n",
              "    </tr>\n",
              "  </tbody>\n",
              "</table>\n",
              "</div>"
            ],
            "text/plain": [
              "    0     1     2    3      4     5     6       7     8     9    10  11  12\n",
              "0  7.4  0.70  0.00  1.9  0.076  11.0  34.0  0.9978  3.51  0.56  9.4   5   1\n",
              "1  7.8  0.88  0.00  2.6  0.098  25.0  67.0  0.9968  3.20  0.68  9.8   5   1\n",
              "2  7.8  0.76  0.04  2.3  0.092  15.0  54.0  0.9970  3.26  0.65  9.8   5   1"
            ]
          },
          "metadata": {
            "tags": []
          },
          "execution_count": 4
        }
      ]
    },
    {
      "cell_type": "code",
      "metadata": {
        "id": "WJ6iqyC8CNUL"
      },
      "source": [
        "from sklearn.preprocessing import StandardScaler\n",
        "scaler = StandardScaler()\n",
        "X_norm = scaler.fit_transform(df.iloc[:,:-1].values)"
      ],
      "execution_count": 7,
      "outputs": []
    },
    {
      "cell_type": "code",
      "metadata": {
        "colab": {
          "base_uri": "https://localhost:8080/"
        },
        "id": "6AX7bgtUCXvf",
        "outputId": "ec6c0942-02fa-4c69-c24f-7e5312861ea8"
      },
      "source": [
        "from sklearn.model_selection import train_test_split\n",
        "X_train, X_test, y_train, y_test = train_test_split(\n",
        "    X_norm, df[12].values, stratify=df[12].values, random_state=2021\n",
        ")\n",
        "X_train.shape, X_test.shape"
      ],
      "execution_count": 8,
      "outputs": [
        {
          "output_type": "execute_result",
          "data": {
            "text/plain": [
              "((4872, 12), (1625, 12))"
            ]
          },
          "metadata": {
            "tags": []
          },
          "execution_count": 8
        }
      ]
    },
    {
      "cell_type": "markdown",
      "metadata": {
        "id": "xi9wjZxxDHYO"
      },
      "source": [
        "### 모델 정의/설정"
      ]
    },
    {
      "cell_type": "code",
      "metadata": {
        "id": "Wb0Cwvp8DAKD"
      },
      "source": [
        "from tensorflow.keras.models import Sequential\n",
        "from tensorflow.keras.layers import Dense"
      ],
      "execution_count": 9,
      "outputs": []
    },
    {
      "cell_type": "code",
      "metadata": {
        "colab": {
          "base_uri": "https://localhost:8080/"
        },
        "id": "qp3ZFe-nDVJt",
        "outputId": "752a16b6-4ef9-482a-b63e-4e024828f3bc"
      },
      "source": [
        "model = Sequential([\n",
        "    Dense(30, input_dim=12, activation='relu'),\n",
        "    Dense(12, activation='relu'),\n",
        "    Dense(8, activation='relu'),\n",
        "    Dense(1, activation='sigmoid')                \n",
        "])\n",
        "model.summary()"
      ],
      "execution_count": 10,
      "outputs": [
        {
          "output_type": "stream",
          "text": [
            "Model: \"sequential\"\n",
            "_________________________________________________________________\n",
            "Layer (type)                 Output Shape              Param #   \n",
            "=================================================================\n",
            "dense (Dense)                (None, 30)                390       \n",
            "_________________________________________________________________\n",
            "dense_1 (Dense)              (None, 12)                372       \n",
            "_________________________________________________________________\n",
            "dense_2 (Dense)              (None, 8)                 104       \n",
            "_________________________________________________________________\n",
            "dense_3 (Dense)              (None, 1)                 9         \n",
            "=================================================================\n",
            "Total params: 875\n",
            "Trainable params: 875\n",
            "Non-trainable params: 0\n",
            "_________________________________________________________________\n"
          ],
          "name": "stdout"
        }
      ]
    },
    {
      "cell_type": "code",
      "metadata": {
        "id": "AKEmdQxtEFPP"
      },
      "source": [
        "model.compile(loss='binary_crossentropy', optimizer='adam', metrics=['accuracy'])"
      ],
      "execution_count": 11,
      "outputs": []
    },
    {
      "cell_type": "markdown",
      "metadata": {
        "id": "5D-5TzVcEnwA"
      },
      "source": [
        "### 모델 저장관련 설정"
      ]
    },
    {
      "cell_type": "code",
      "metadata": {
        "id": "23H3bjALEkXt"
      },
      "source": [
        "import os\n",
        "MODEL_DIR = './model/'\n",
        "if not os.path.exists(MODEL_DIR):\n",
        "    os.mkdir(MODEL_DIR)"
      ],
      "execution_count": 13,
      "outputs": []
    },
    {
      "cell_type": "code",
      "metadata": {
        "id": "ruCYIcu3FDCx"
      },
      "source": [
        "# 모델 파일 이름\n",
        "modelpath = MODEL_DIR + 'wine-{epoch:03d}.hdf5'"
      ],
      "execution_count": 14,
      "outputs": []
    },
    {
      "cell_type": "code",
      "metadata": {
        "id": "cwhoKtqxFitp"
      },
      "source": [
        "from tensorflow.keras.callbacks import ModelCheckpoint\n",
        "checkpoint = ModelCheckpoint(\n",
        "                    filepath=modelpath,     # 모델을 저장할 파일\n",
        "                    monitor='val_loss',     # validation loss를 체크\n",
        "                    verbose=1,\n",
        "                    save_best_only=True     # 베스트 모델만 저장\n",
        ")"
      ],
      "execution_count": 15,
      "outputs": []
    },
    {
      "cell_type": "markdown",
      "metadata": {
        "id": "N3eLEB_ZGaF-"
      },
      "source": [
        "### 모델 학습"
      ]
    },
    {
      "cell_type": "code",
      "metadata": {
        "colab": {
          "base_uri": "https://localhost:8080/"
        },
        "id": "7JfEAShxGXkk",
        "outputId": "17545206-9171-420c-f9da-92d97a48992e"
      },
      "source": [
        "history = model.fit(\n",
        "    X_train, y_train,\n",
        "    validation_split=0.2,\n",
        "    epochs=200, batch_size=200,\n",
        "    verbose=0,\n",
        "    callbacks=[checkpoint]      # 위에서 정의한 checkpoint\n",
        ")"
      ],
      "execution_count": 16,
      "outputs": [
        {
          "output_type": "stream",
          "text": [
            "\n",
            "Epoch 00001: val_loss improved from inf to 0.57130, saving model to ./model/wine-001.hdf5\n",
            "\n",
            "Epoch 00002: val_loss improved from 0.57130 to 0.47085, saving model to ./model/wine-002.hdf5\n",
            "\n",
            "Epoch 00003: val_loss improved from 0.47085 to 0.36882, saving model to ./model/wine-003.hdf5\n",
            "\n",
            "Epoch 00004: val_loss improved from 0.36882 to 0.28201, saving model to ./model/wine-004.hdf5\n",
            "\n",
            "Epoch 00005: val_loss improved from 0.28201 to 0.21210, saving model to ./model/wine-005.hdf5\n",
            "\n",
            "Epoch 00006: val_loss improved from 0.21210 to 0.15115, saving model to ./model/wine-006.hdf5\n",
            "\n",
            "Epoch 00007: val_loss improved from 0.15115 to 0.09823, saving model to ./model/wine-007.hdf5\n",
            "\n",
            "Epoch 00008: val_loss improved from 0.09823 to 0.06449, saving model to ./model/wine-008.hdf5\n",
            "\n",
            "Epoch 00009: val_loss improved from 0.06449 to 0.04949, saving model to ./model/wine-009.hdf5\n",
            "\n",
            "Epoch 00010: val_loss improved from 0.04949 to 0.04190, saving model to ./model/wine-010.hdf5\n",
            "\n",
            "Epoch 00011: val_loss improved from 0.04190 to 0.03737, saving model to ./model/wine-011.hdf5\n",
            "\n",
            "Epoch 00012: val_loss improved from 0.03737 to 0.03385, saving model to ./model/wine-012.hdf5\n",
            "\n",
            "Epoch 00013: val_loss improved from 0.03385 to 0.03155, saving model to ./model/wine-013.hdf5\n",
            "\n",
            "Epoch 00014: val_loss improved from 0.03155 to 0.02930, saving model to ./model/wine-014.hdf5\n",
            "\n",
            "Epoch 00015: val_loss improved from 0.02930 to 0.02804, saving model to ./model/wine-015.hdf5\n",
            "\n",
            "Epoch 00016: val_loss improved from 0.02804 to 0.02704, saving model to ./model/wine-016.hdf5\n",
            "\n",
            "Epoch 00017: val_loss improved from 0.02704 to 0.02605, saving model to ./model/wine-017.hdf5\n",
            "\n",
            "Epoch 00018: val_loss improved from 0.02605 to 0.02538, saving model to ./model/wine-018.hdf5\n",
            "\n",
            "Epoch 00019: val_loss improved from 0.02538 to 0.02486, saving model to ./model/wine-019.hdf5\n",
            "\n",
            "Epoch 00020: val_loss improved from 0.02486 to 0.02455, saving model to ./model/wine-020.hdf5\n",
            "\n",
            "Epoch 00021: val_loss improved from 0.02455 to 0.02430, saving model to ./model/wine-021.hdf5\n",
            "\n",
            "Epoch 00022: val_loss improved from 0.02430 to 0.02398, saving model to ./model/wine-022.hdf5\n",
            "\n",
            "Epoch 00023: val_loss improved from 0.02398 to 0.02388, saving model to ./model/wine-023.hdf5\n",
            "\n",
            "Epoch 00024: val_loss improved from 0.02388 to 0.02368, saving model to ./model/wine-024.hdf5\n",
            "\n",
            "Epoch 00025: val_loss improved from 0.02368 to 0.02365, saving model to ./model/wine-025.hdf5\n",
            "\n",
            "Epoch 00026: val_loss improved from 0.02365 to 0.02339, saving model to ./model/wine-026.hdf5\n",
            "\n",
            "Epoch 00027: val_loss improved from 0.02339 to 0.02332, saving model to ./model/wine-027.hdf5\n",
            "\n",
            "Epoch 00028: val_loss did not improve from 0.02332\n",
            "\n",
            "Epoch 00029: val_loss improved from 0.02332 to 0.02318, saving model to ./model/wine-029.hdf5\n",
            "\n",
            "Epoch 00030: val_loss improved from 0.02318 to 0.02305, saving model to ./model/wine-030.hdf5\n",
            "\n",
            "Epoch 00031: val_loss improved from 0.02305 to 0.02300, saving model to ./model/wine-031.hdf5\n",
            "\n",
            "Epoch 00032: val_loss improved from 0.02300 to 0.02280, saving model to ./model/wine-032.hdf5\n",
            "\n",
            "Epoch 00033: val_loss did not improve from 0.02280\n",
            "\n",
            "Epoch 00034: val_loss improved from 0.02280 to 0.02274, saving model to ./model/wine-034.hdf5\n",
            "\n",
            "Epoch 00035: val_loss improved from 0.02274 to 0.02256, saving model to ./model/wine-035.hdf5\n",
            "\n",
            "Epoch 00036: val_loss did not improve from 0.02256\n",
            "\n",
            "Epoch 00037: val_loss improved from 0.02256 to 0.02251, saving model to ./model/wine-037.hdf5\n",
            "\n",
            "Epoch 00038: val_loss improved from 0.02251 to 0.02227, saving model to ./model/wine-038.hdf5\n",
            "\n",
            "Epoch 00039: val_loss did not improve from 0.02227\n",
            "\n",
            "Epoch 00040: val_loss did not improve from 0.02227\n",
            "\n",
            "Epoch 00041: val_loss did not improve from 0.02227\n",
            "\n",
            "Epoch 00042: val_loss did not improve from 0.02227\n",
            "\n",
            "Epoch 00043: val_loss did not improve from 0.02227\n",
            "\n",
            "Epoch 00044: val_loss did not improve from 0.02227\n",
            "\n",
            "Epoch 00045: val_loss did not improve from 0.02227\n",
            "\n",
            "Epoch 00046: val_loss did not improve from 0.02227\n",
            "\n",
            "Epoch 00047: val_loss did not improve from 0.02227\n",
            "\n",
            "Epoch 00048: val_loss did not improve from 0.02227\n",
            "\n",
            "Epoch 00049: val_loss did not improve from 0.02227\n",
            "\n",
            "Epoch 00050: val_loss did not improve from 0.02227\n",
            "\n",
            "Epoch 00051: val_loss did not improve from 0.02227\n",
            "\n",
            "Epoch 00052: val_loss did not improve from 0.02227\n",
            "\n",
            "Epoch 00053: val_loss improved from 0.02227 to 0.02199, saving model to ./model/wine-053.hdf5\n",
            "\n",
            "Epoch 00054: val_loss did not improve from 0.02199\n",
            "\n",
            "Epoch 00055: val_loss did not improve from 0.02199\n",
            "\n",
            "Epoch 00056: val_loss did not improve from 0.02199\n",
            "\n",
            "Epoch 00057: val_loss did not improve from 0.02199\n",
            "\n",
            "Epoch 00058: val_loss did not improve from 0.02199\n",
            "\n",
            "Epoch 00059: val_loss did not improve from 0.02199\n",
            "\n",
            "Epoch 00060: val_loss did not improve from 0.02199\n",
            "\n",
            "Epoch 00061: val_loss did not improve from 0.02199\n",
            "\n",
            "Epoch 00062: val_loss did not improve from 0.02199\n",
            "\n",
            "Epoch 00063: val_loss improved from 0.02199 to 0.02183, saving model to ./model/wine-063.hdf5\n",
            "\n",
            "Epoch 00064: val_loss did not improve from 0.02183\n",
            "\n",
            "Epoch 00065: val_loss did not improve from 0.02183\n",
            "\n",
            "Epoch 00066: val_loss did not improve from 0.02183\n",
            "\n",
            "Epoch 00067: val_loss did not improve from 0.02183\n",
            "\n",
            "Epoch 00068: val_loss did not improve from 0.02183\n",
            "\n",
            "Epoch 00069: val_loss did not improve from 0.02183\n",
            "\n",
            "Epoch 00070: val_loss did not improve from 0.02183\n",
            "\n",
            "Epoch 00071: val_loss did not improve from 0.02183\n",
            "\n",
            "Epoch 00072: val_loss did not improve from 0.02183\n",
            "\n",
            "Epoch 00073: val_loss did not improve from 0.02183\n",
            "\n",
            "Epoch 00074: val_loss did not improve from 0.02183\n",
            "\n",
            "Epoch 00075: val_loss did not improve from 0.02183\n",
            "\n",
            "Epoch 00076: val_loss did not improve from 0.02183\n",
            "\n",
            "Epoch 00077: val_loss did not improve from 0.02183\n",
            "\n",
            "Epoch 00078: val_loss did not improve from 0.02183\n",
            "\n",
            "Epoch 00079: val_loss did not improve from 0.02183\n",
            "\n",
            "Epoch 00080: val_loss did not improve from 0.02183\n",
            "\n",
            "Epoch 00081: val_loss did not improve from 0.02183\n",
            "\n",
            "Epoch 00082: val_loss did not improve from 0.02183\n",
            "\n",
            "Epoch 00083: val_loss did not improve from 0.02183\n",
            "\n",
            "Epoch 00084: val_loss did not improve from 0.02183\n",
            "\n",
            "Epoch 00085: val_loss did not improve from 0.02183\n",
            "\n",
            "Epoch 00086: val_loss did not improve from 0.02183\n",
            "\n",
            "Epoch 00087: val_loss did not improve from 0.02183\n",
            "\n",
            "Epoch 00088: val_loss did not improve from 0.02183\n",
            "\n",
            "Epoch 00089: val_loss did not improve from 0.02183\n",
            "\n",
            "Epoch 00090: val_loss did not improve from 0.02183\n",
            "\n",
            "Epoch 00091: val_loss did not improve from 0.02183\n",
            "\n",
            "Epoch 00092: val_loss did not improve from 0.02183\n",
            "\n",
            "Epoch 00093: val_loss did not improve from 0.02183\n",
            "\n",
            "Epoch 00094: val_loss did not improve from 0.02183\n",
            "\n",
            "Epoch 00095: val_loss did not improve from 0.02183\n",
            "\n",
            "Epoch 00096: val_loss did not improve from 0.02183\n",
            "\n",
            "Epoch 00097: val_loss did not improve from 0.02183\n",
            "\n",
            "Epoch 00098: val_loss did not improve from 0.02183\n",
            "\n",
            "Epoch 00099: val_loss did not improve from 0.02183\n",
            "\n",
            "Epoch 00100: val_loss did not improve from 0.02183\n",
            "\n",
            "Epoch 00101: val_loss did not improve from 0.02183\n",
            "\n",
            "Epoch 00102: val_loss did not improve from 0.02183\n",
            "\n",
            "Epoch 00103: val_loss did not improve from 0.02183\n",
            "\n",
            "Epoch 00104: val_loss did not improve from 0.02183\n",
            "\n",
            "Epoch 00105: val_loss did not improve from 0.02183\n",
            "\n",
            "Epoch 00106: val_loss did not improve from 0.02183\n",
            "\n",
            "Epoch 00107: val_loss did not improve from 0.02183\n",
            "\n",
            "Epoch 00108: val_loss did not improve from 0.02183\n",
            "\n",
            "Epoch 00109: val_loss did not improve from 0.02183\n",
            "\n",
            "Epoch 00110: val_loss did not improve from 0.02183\n",
            "\n",
            "Epoch 00111: val_loss did not improve from 0.02183\n",
            "\n",
            "Epoch 00112: val_loss did not improve from 0.02183\n",
            "\n",
            "Epoch 00113: val_loss did not improve from 0.02183\n",
            "\n",
            "Epoch 00114: val_loss did not improve from 0.02183\n",
            "\n",
            "Epoch 00115: val_loss did not improve from 0.02183\n",
            "\n",
            "Epoch 00116: val_loss did not improve from 0.02183\n",
            "\n",
            "Epoch 00117: val_loss did not improve from 0.02183\n",
            "\n",
            "Epoch 00118: val_loss did not improve from 0.02183\n",
            "\n",
            "Epoch 00119: val_loss did not improve from 0.02183\n",
            "\n",
            "Epoch 00120: val_loss did not improve from 0.02183\n",
            "\n",
            "Epoch 00121: val_loss did not improve from 0.02183\n",
            "\n",
            "Epoch 00122: val_loss did not improve from 0.02183\n",
            "\n",
            "Epoch 00123: val_loss did not improve from 0.02183\n",
            "\n",
            "Epoch 00124: val_loss did not improve from 0.02183\n",
            "\n",
            "Epoch 00125: val_loss did not improve from 0.02183\n",
            "\n",
            "Epoch 00126: val_loss did not improve from 0.02183\n",
            "\n",
            "Epoch 00127: val_loss did not improve from 0.02183\n",
            "\n",
            "Epoch 00128: val_loss did not improve from 0.02183\n",
            "\n",
            "Epoch 00129: val_loss did not improve from 0.02183\n",
            "\n",
            "Epoch 00130: val_loss did not improve from 0.02183\n",
            "\n",
            "Epoch 00131: val_loss did not improve from 0.02183\n",
            "\n",
            "Epoch 00132: val_loss did not improve from 0.02183\n",
            "\n",
            "Epoch 00133: val_loss did not improve from 0.02183\n",
            "\n",
            "Epoch 00134: val_loss did not improve from 0.02183\n",
            "\n",
            "Epoch 00135: val_loss did not improve from 0.02183\n",
            "\n",
            "Epoch 00136: val_loss did not improve from 0.02183\n",
            "\n",
            "Epoch 00137: val_loss did not improve from 0.02183\n",
            "\n",
            "Epoch 00138: val_loss did not improve from 0.02183\n",
            "\n",
            "Epoch 00139: val_loss did not improve from 0.02183\n",
            "\n",
            "Epoch 00140: val_loss did not improve from 0.02183\n",
            "\n",
            "Epoch 00141: val_loss did not improve from 0.02183\n",
            "\n",
            "Epoch 00142: val_loss did not improve from 0.02183\n",
            "\n",
            "Epoch 00143: val_loss did not improve from 0.02183\n",
            "\n",
            "Epoch 00144: val_loss did not improve from 0.02183\n",
            "\n",
            "Epoch 00145: val_loss did not improve from 0.02183\n",
            "\n",
            "Epoch 00146: val_loss did not improve from 0.02183\n",
            "\n",
            "Epoch 00147: val_loss did not improve from 0.02183\n",
            "\n",
            "Epoch 00148: val_loss did not improve from 0.02183\n",
            "\n",
            "Epoch 00149: val_loss did not improve from 0.02183\n",
            "\n",
            "Epoch 00150: val_loss did not improve from 0.02183\n",
            "\n",
            "Epoch 00151: val_loss did not improve from 0.02183\n",
            "\n",
            "Epoch 00152: val_loss did not improve from 0.02183\n",
            "\n",
            "Epoch 00153: val_loss did not improve from 0.02183\n",
            "\n",
            "Epoch 00154: val_loss did not improve from 0.02183\n",
            "\n",
            "Epoch 00155: val_loss did not improve from 0.02183\n",
            "\n",
            "Epoch 00156: val_loss did not improve from 0.02183\n",
            "\n",
            "Epoch 00157: val_loss did not improve from 0.02183\n",
            "\n",
            "Epoch 00158: val_loss did not improve from 0.02183\n",
            "\n",
            "Epoch 00159: val_loss did not improve from 0.02183\n",
            "\n",
            "Epoch 00160: val_loss did not improve from 0.02183\n",
            "\n",
            "Epoch 00161: val_loss did not improve from 0.02183\n",
            "\n",
            "Epoch 00162: val_loss did not improve from 0.02183\n",
            "\n",
            "Epoch 00163: val_loss did not improve from 0.02183\n",
            "\n",
            "Epoch 00164: val_loss did not improve from 0.02183\n",
            "\n",
            "Epoch 00165: val_loss did not improve from 0.02183\n",
            "\n",
            "Epoch 00166: val_loss did not improve from 0.02183\n",
            "\n",
            "Epoch 00167: val_loss did not improve from 0.02183\n",
            "\n",
            "Epoch 00168: val_loss did not improve from 0.02183\n",
            "\n",
            "Epoch 00169: val_loss did not improve from 0.02183\n",
            "\n",
            "Epoch 00170: val_loss did not improve from 0.02183\n",
            "\n",
            "Epoch 00171: val_loss did not improve from 0.02183\n",
            "\n",
            "Epoch 00172: val_loss did not improve from 0.02183\n",
            "\n",
            "Epoch 00173: val_loss did not improve from 0.02183\n",
            "\n",
            "Epoch 00174: val_loss did not improve from 0.02183\n",
            "\n",
            "Epoch 00175: val_loss did not improve from 0.02183\n",
            "\n",
            "Epoch 00176: val_loss did not improve from 0.02183\n",
            "\n",
            "Epoch 00177: val_loss did not improve from 0.02183\n",
            "\n",
            "Epoch 00178: val_loss did not improve from 0.02183\n",
            "\n",
            "Epoch 00179: val_loss did not improve from 0.02183\n",
            "\n",
            "Epoch 00180: val_loss did not improve from 0.02183\n",
            "\n",
            "Epoch 00181: val_loss did not improve from 0.02183\n",
            "\n",
            "Epoch 00182: val_loss did not improve from 0.02183\n",
            "\n",
            "Epoch 00183: val_loss did not improve from 0.02183\n",
            "\n",
            "Epoch 00184: val_loss did not improve from 0.02183\n",
            "\n",
            "Epoch 00185: val_loss did not improve from 0.02183\n",
            "\n",
            "Epoch 00186: val_loss did not improve from 0.02183\n",
            "\n",
            "Epoch 00187: val_loss did not improve from 0.02183\n",
            "\n",
            "Epoch 00188: val_loss did not improve from 0.02183\n",
            "\n",
            "Epoch 00189: val_loss did not improve from 0.02183\n",
            "\n",
            "Epoch 00190: val_loss did not improve from 0.02183\n",
            "\n",
            "Epoch 00191: val_loss did not improve from 0.02183\n",
            "\n",
            "Epoch 00192: val_loss did not improve from 0.02183\n",
            "\n",
            "Epoch 00193: val_loss did not improve from 0.02183\n",
            "\n",
            "Epoch 00194: val_loss did not improve from 0.02183\n",
            "\n",
            "Epoch 00195: val_loss did not improve from 0.02183\n",
            "\n",
            "Epoch 00196: val_loss did not improve from 0.02183\n",
            "\n",
            "Epoch 00197: val_loss did not improve from 0.02183\n",
            "\n",
            "Epoch 00198: val_loss did not improve from 0.02183\n",
            "\n",
            "Epoch 00199: val_loss did not improve from 0.02183\n",
            "\n",
            "Epoch 00200: val_loss did not improve from 0.02183\n"
          ],
          "name": "stdout"
        }
      ]
    },
    {
      "cell_type": "markdown",
      "metadata": {
        "id": "x29qpqFoHu__"
      },
      "source": [
        "### 잘못된 평가"
      ]
    },
    {
      "cell_type": "code",
      "metadata": {
        "colab": {
          "base_uri": "https://localhost:8080/"
        },
        "id": "uSUm4YmAHGK2",
        "outputId": "4626f91c-b40b-4297-9cee-d116ab85fd9c"
      },
      "source": [
        "acc = model.evaluate(X_test, y_test)\n",
        "print(f'정확도: {acc[1]:.4f}')"
      ],
      "execution_count": 17,
      "outputs": [
        {
          "output_type": "stream",
          "text": [
            "51/51 [==============================] - 0s 1ms/step - loss: 0.0376 - accuracy: 0.9969\n",
            "정확도: 0.9969\n"
          ],
          "name": "stdout"
        }
      ]
    },
    {
      "cell_type": "markdown",
      "metadata": {
        "id": "-gCBQOzZIJZI"
      },
      "source": [
        "### 베스트 모델로 평가해야 함"
      ]
    },
    {
      "cell_type": "code",
      "metadata": {
        "colab": {
          "base_uri": "https://localhost:8080/"
        },
        "id": "V_EFPcqqIBpE",
        "outputId": "31bf6bcc-5f49-406f-ea4d-7a066cad30df"
      },
      "source": [
        "from tensorflow.keras.models import load_model\n",
        "\n",
        "best_model = load_model('model/wine-063.hdf5')\n",
        "acc = best_model.evaluate(X_test, y_test)\n",
        "print(f'정확도: {acc[1]:.4f}')"
      ],
      "execution_count": 19,
      "outputs": [
        {
          "output_type": "stream",
          "text": [
            "51/51 [==============================] - 0s 1ms/step - loss: 0.0170 - accuracy: 0.9975\n",
            "정확도: 0.9975\n"
          ],
          "name": "stdout"
        }
      ]
    },
    {
      "cell_type": "markdown",
      "metadata": {
        "id": "sAMS0-mrI2Q6"
      },
      "source": [
        "### 훈련과정 시각화"
      ]
    },
    {
      "cell_type": "code",
      "metadata": {
        "id": "HTLcHhkjIIf_"
      },
      "source": [
        "import matplotlib.pyplot as plt\n",
        "%matplotlib inline"
      ],
      "execution_count": 21,
      "outputs": []
    },
    {
      "cell_type": "code",
      "metadata": {
        "id": "L8RV775lJFg-"
      },
      "source": [
        "y_acc = history.history['accuracy']\n",
        "y_loss = history.history['loss']\n",
        "y_vacc = history.history['val_accuracy']\n",
        "y_vloss = history.history['val_loss']"
      ],
      "execution_count": 23,
      "outputs": []
    },
    {
      "cell_type": "code",
      "metadata": {
        "colab": {
          "base_uri": "https://localhost:8080/",
          "height": 483
        },
        "id": "QWlSi6LRJieM",
        "outputId": "629d5f61-9f54-4698-c115-4d876b71eb2b"
      },
      "source": [
        "x_len = np.arange(len(y_acc))\n",
        "plt.figure(figsize=(12,8))\n",
        "plt.plot(x_len, y_acc, 'ro', markersize=2, label='accuracy')\n",
        "#plt.plot(x_len, y_vacc, 'go', markersize=2, label='val_accuracy')\n",
        "#plt.plot(x_len, y_loss, 'yo', markersize=2, label='loss')\n",
        "plt.plot(x_len, y_vloss, 'bo', markersize=2, label='val_loss')\n",
        "plt.grid()\n",
        "plt.legend()\n",
        "plt.show()"
      ],
      "execution_count": 26,
      "outputs": [
        {
          "output_type": "display_data",
          "data": {
            "image/png": "[encoded data removed]",
            "text/plain": [
              "<Figure size 864x576 with 1 Axes>"
            ]
          },
          "metadata": {
            "tags": [],
            "needs_background": "light"
          }
        }
      ]
    },
    {
      "cell_type": "code",
      "metadata": {
        "id": "uYpFDwwwKT6E"
      },
      "source": [
        ""
      ],
      "execution_count": null,
      "outputs": []
    }
  ]
}