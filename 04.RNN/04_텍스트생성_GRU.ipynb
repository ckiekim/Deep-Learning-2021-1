{
  "nbformat": 4,
  "nbformat_minor": 0,
  "metadata": {
    "colab": {
      "name": "03_텍스트생성_GRU.ipynb",
      "provenance": [],
      "collapsed_sections": []
    },
    "kernelspec": {
      "name": "python3",
      "display_name": "Python 3"
    },
    "language_info": {
      "name": "python"
    },
    "accelerator": "GPU"
  },
  "cells": [
    {
      "cell_type": "markdown",
      "metadata": {
        "id": "BBMztJttB7MJ"
      },
      "source": [
        "# GRU를 이용한 텍스트 생성\n",
        "- 데이터 다운로드: 캐글 [New York Times Comments](https://www.kaggle.com/aashita/nyt-comments)\n",
        "- ArticlesApril2018.csv"
      ]
    },
    {
      "cell_type": "code",
      "metadata": {
        "id": "Fpe0A0o9CJf_"
      },
      "source": [
        "import numpy as np\n",
        "import tensorflow as tf\n",
        "\n",
        "seed = 2021\n",
        "np.random.seed(seed)\n",
        "tf.random.set_seed(seed)"
      ],
      "execution_count": 1,
      "outputs": []
    },
    {
      "cell_type": "code",
      "metadata": {
        "id": "Ec5oF1OzCazR"
      },
      "source": [
        "from tensorflow.keras.preprocessing.text import Tokenizer\n",
        "from tensorflow.keras.preprocessing.sequence import pad_sequences\n",
        "from tensorflow.keras.utils import to_categorical"
      ],
      "execution_count": 2,
      "outputs": []
    },
    {
      "cell_type": "markdown",
      "metadata": {
        "id": "XtDxoFdtCggP"
      },
      "source": [
        "### 파일 업로드"
      ]
    },
    {
      "cell_type": "code",
      "metadata": {
        "colab": {
          "resources": {
            "http://localhost:8080/nbextensions/google.colab/files.js": {
              "data": "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",
              "ok": true,
              "headers": [
                [
                  "content-type",
                  "application/javascript"
                ]
              ],
              "status": 200,
              "status_text": ""
            }
          },
          "base_uri": "https://localhost:8080/",
          "height": 77
        },
        "id": "BQZqwJTnCeBJ",
        "outputId": "8c8e19c0-6c46-4e0a-ac4b-040affaa1de7"
      },
      "source": [
        "from google.colab import files\n",
        "\n",
        "uploaded = files.upload()\n",
        "filename = list(uploaded.keys())[0]"
      ],
      "execution_count": 3,
      "outputs": [
        {
          "output_type": "display_data",
          "data": {
            "text/html": [
              "\n",
              "     <input type=\"file\" id=\"files-02c985c9-d217-4ef0-a4f3-10c6a716c2e8\" name=\"files[]\" multiple disabled\n",
              "        style=\"border:none\" />\n",
              "     <output id=\"result-02c985c9-d217-4ef0-a4f3-10c6a716c2e8\">\n",
              "      Upload widget is only available when the cell has been executed in the\n",
              "      current browser session. Please rerun this cell to enable.\n",
              "      </output>\n",
              "      <script src=\"/nbextensions/google.colab/files.js\"></script> "
            ],
            "text/plain": [
              "<IPython.core.display.HTML object>"
            ]
          },
          "metadata": {
            "tags": []
          }
        },
        {
          "output_type": "stream",
          "text": [
            "Saving ArticlesApril2018.csv to ArticlesApril2018.csv\n"
          ],
          "name": "stdout"
        }
      ]
    },
    {
      "cell_type": "code",
      "metadata": {
        "colab": {
          "base_uri": "https://localhost:8080/",
          "height": 301
        },
        "id": "PDE92sRFCwE6",
        "outputId": "4296a711-2bda-4a31-f3b0-6b580553e96d"
      },
      "source": [
        "import pandas as pd\n",
        "\n",
        "df = pd.read_csv(filename, encoding='latin1')\n",
        "df.head(2)"
      ],
      "execution_count": 4,
      "outputs": [
        {
          "output_type": "execute_result",
          "data": {
            "text/html": [
              "<div>\n",
              "<style scoped>\n",
              "    .dataframe tbody tr th:only-of-type {\n",
              "        vertical-align: middle;\n",
              "    }\n",
              "\n",
              "    .dataframe tbody tr th {\n",
              "        vertical-align: top;\n",
              "    }\n",
              "\n",
              "    .dataframe thead th {\n",
              "        text-align: right;\n",
              "    }\n",
              "</style>\n",
              "<table border=\"1\" class=\"dataframe\">\n",
              "  <thead>\n",
              "    <tr style=\"text-align: right;\">\n",
              "      <th></th>\n",
              "      <th>articleID</th>\n",
              "      <th>articleWordCount</th>\n",
              "      <th>byline</th>\n",
              "      <th>documentType</th>\n",
              "      <th>headline</th>\n",
              "      <th>keywords</th>\n",
              "      <th>multimedia</th>\n",
              "      <th>newDesk</th>\n",
              "      <th>printPage</th>\n",
              "      <th>pubDate</th>\n",
              "      <th>sectionName</th>\n",
              "      <th>snippet</th>\n",
              "      <th>source</th>\n",
              "      <th>typeOfMaterial</th>\n",
              "      <th>webURL</th>\n",
              "    </tr>\n",
              "  </thead>\n",
              "  <tbody>\n",
              "    <tr>\n",
              "      <th>0</th>\n",
              "      <td>5adf6684068401528a2aa69b</td>\n",
              "      <td>781</td>\n",
              "      <td>By JOHN BRANCH</td>\n",
              "      <td>article</td>\n",
              "      <td>Former N.F.L. Cheerleadersâ Settlement Offer...</td>\n",
              "      <td>['Workplace Hazards and Violations', 'Football...</td>\n",
              "      <td>68</td>\n",
              "      <td>Sports</td>\n",
              "      <td>0</td>\n",
              "      <td>2018-04-24 17:16:49</td>\n",
              "      <td>Pro Football</td>\n",
              "      <td>âI understand that they could meet with us, ...</td>\n",
              "      <td>The New York Times</td>\n",
              "      <td>News</td>\n",
              "      <td>https://www.nytimes.com/2018/04/24/sports/foot...</td>\n",
              "    </tr>\n",
              "    <tr>\n",
              "      <th>1</th>\n",
              "      <td>5adf653f068401528a2aa697</td>\n",
              "      <td>656</td>\n",
              "      <td>By LISA FRIEDMAN</td>\n",
              "      <td>article</td>\n",
              "      <td>E.P.A. to Unveil a New Rule. Its Effect: Less ...</td>\n",
              "      <td>['Environmental Protection Agency', 'Pruitt, S...</td>\n",
              "      <td>68</td>\n",
              "      <td>Climate</td>\n",
              "      <td>0</td>\n",
              "      <td>2018-04-24 17:11:21</td>\n",
              "      <td>Unknown</td>\n",
              "      <td>The agency plans to publish a new regulation T...</td>\n",
              "      <td>The New York Times</td>\n",
              "      <td>News</td>\n",
              "      <td>https://www.nytimes.com/2018/04/24/climate/epa...</td>\n",
              "    </tr>\n",
              "  </tbody>\n",
              "</table>\n",
              "</div>"
            ],
            "text/plain": [
              "                  articleID  ...                                             webURL\n",
              "0  5adf6684068401528a2aa69b  ...  https://www.nytimes.com/2018/04/24/sports/foot...\n",
              "1  5adf653f068401528a2aa697  ...  https://www.nytimes.com/2018/04/24/climate/epa...\n",
              "\n",
              "[2 rows x 15 columns]"
            ]
          },
          "metadata": {
            "tags": []
          },
          "execution_count": 4
        }
      ]
    },
    {
      "cell_type": "markdown",
      "metadata": {
        "id": "E_X2X56tDZP9"
      },
      "source": [
        "### 데이터 전처리"
      ]
    },
    {
      "cell_type": "code",
      "metadata": {
        "colab": {
          "base_uri": "https://localhost:8080/"
        },
        "id": "OjKj4KshDQwZ",
        "outputId": "def2cb86-6d79-4ba9-df59-17361c83c577"
      },
      "source": [
        "df.columns"
      ],
      "execution_count": 5,
      "outputs": [
        {
          "output_type": "execute_result",
          "data": {
            "text/plain": [
              "Index(['articleID', 'articleWordCount', 'byline', 'documentType', 'headline',\n",
              "       'keywords', 'multimedia', 'newDesk', 'printPage', 'pubDate',\n",
              "       'sectionName', 'snippet', 'source', 'typeOfMaterial', 'webURL'],\n",
              "      dtype='object')"
            ]
          },
          "metadata": {
            "tags": []
          },
          "execution_count": 5
        }
      ]
    },
    {
      "cell_type": "code",
      "metadata": {
        "colab": {
          "base_uri": "https://localhost:8080/"
        },
        "id": "IHx2QndSD3oU",
        "outputId": "ed5d4944-b7e4-4f3f-cb8f-7d90ba525695"
      },
      "source": [
        "# headline 열의 데이터만 사용, Null 검사\n",
        "df.headline.isnull().sum()"
      ],
      "execution_count": 6,
      "outputs": [
        {
          "output_type": "execute_result",
          "data": {
            "text/plain": [
              "0"
            ]
          },
          "metadata": {
            "tags": []
          },
          "execution_count": 6
        }
      ]
    },
    {
      "cell_type": "code",
      "metadata": {
        "colab": {
          "base_uri": "https://localhost:8080/"
        },
        "id": "pOJMue6OEJw9",
        "outputId": "c3892aa1-2c27-442f-8e5a-c352775dc11e"
      },
      "source": [
        "# headline 열의 데이터로 리스트 생성\n",
        "headline_list = [text for text in df.headline.values]\n",
        "len(headline_list)"
      ],
      "execution_count": 7,
      "outputs": [
        {
          "output_type": "execute_result",
          "data": {
            "text/plain": [
              "1324"
            ]
          },
          "metadata": {
            "tags": []
          },
          "execution_count": 7
        }
      ]
    },
    {
      "cell_type": "code",
      "metadata": {
        "colab": {
          "base_uri": "https://localhost:8080/"
        },
        "id": "SSm8K8eBEiIV",
        "outputId": "30a84211-6aa5-4012-a2b2-058067c99c2b"
      },
      "source": [
        "df.shape"
      ],
      "execution_count": 8,
      "outputs": [
        {
          "output_type": "execute_result",
          "data": {
            "text/plain": [
              "(1324, 15)"
            ]
          },
          "metadata": {
            "tags": []
          },
          "execution_count": 8
        }
      ]
    },
    {
      "cell_type": "code",
      "metadata": {
        "colab": {
          "base_uri": "https://localhost:8080/"
        },
        "id": "3g9SR9xwEkr9",
        "outputId": "ef8b1515-8fd5-4864-a28f-5e26fe9e0dcc"
      },
      "source": [
        "headline_list[:5]"
      ],
      "execution_count": 9,
      "outputs": [
        {
          "output_type": "execute_result",
          "data": {
            "text/plain": [
              "['Former N.F.L. Cheerleadersâ\\x80\\x99 Settlement Offer: $1 and a Meeting With Goodell',\n",
              " 'E.P.A. to Unveil a New Rule. Its Effect: Less Science in Policymaking.',\n",
              " 'The New Noma, Explained',\n",
              " 'Unknown',\n",
              " 'Unknown']"
            ]
          },
          "metadata": {
            "tags": []
          },
          "execution_count": 9
        }
      ]
    },
    {
      "cell_type": "code",
      "metadata": {
        "colab": {
          "base_uri": "https://localhost:8080/"
        },
        "id": "g0RyFqTOE17b",
        "outputId": "91e32099-9cb7-4477-9745-67e634c9ce88"
      },
      "source": [
        "# 노이즈 데이터('Unknown') 제거\n",
        "headline_list = [text for text in headline_list if text != 'Unknown']\n",
        "len(headline_list)"
      ],
      "execution_count": 10,
      "outputs": [
        {
          "output_type": "execute_result",
          "data": {
            "text/plain": [
              "1214"
            ]
          },
          "metadata": {
            "tags": []
          },
          "execution_count": 10
        }
      ]
    },
    {
      "cell_type": "code",
      "metadata": {
        "colab": {
          "base_uri": "https://localhost:8080/",
          "height": 36
        },
        "id": "V8CIvHrJFXoP",
        "outputId": "c1f53738-b308-482d-8a7b-70f40a4f043a"
      },
      "source": [
        "# 구두점 제거, 소문자로 변환\n",
        "from string import punctuation\n",
        "punctuation"
      ],
      "execution_count": 11,
      "outputs": [
        {
          "output_type": "execute_result",
          "data": {
            "application/vnd.google.colaboratory.intrinsic+json": {
              "type": "string"
            },
            "text/plain": [
              "'!\"#$%&\\'()*+,-./:;<=>?@[\\\\]^_`{|}~'"
            ]
          },
          "metadata": {
            "tags": []
          },
          "execution_count": 11
        }
      ]
    },
    {
      "cell_type": "code",
      "metadata": {
        "id": "pmSjDX8kNPJl"
      },
      "source": [
        "def preprocessing(s):\n",
        "    s = s.encode('utf8').decode('ascii', 'ignore')\n",
        "    return ''.join(c for c in s if c not in punctuation).lower()"
      ],
      "execution_count": 12,
      "outputs": []
    },
    {
      "cell_type": "code",
      "metadata": {
        "colab": {
          "base_uri": "https://localhost:8080/"
        },
        "id": "QubbohY-NjOS",
        "outputId": "670208a4-0f6b-4640-b496-dc928b51512e"
      },
      "source": [
        "headlines = [preprocessing(x) for x in headline_list]\n",
        "headlines[:3]"
      ],
      "execution_count": 13,
      "outputs": [
        {
          "output_type": "execute_result",
          "data": {
            "text/plain": [
              "['former nfl cheerleaders settlement offer 1 and a meeting with goodell',\n",
              " 'epa to unveil a new rule its effect less science in policymaking',\n",
              " 'the new noma explained']"
            ]
          },
          "metadata": {
            "tags": []
          },
          "execution_count": 13
        }
      ]
    },
    {
      "cell_type": "code",
      "metadata": {
        "colab": {
          "base_uri": "https://localhost:8080/"
        },
        "id": "XuhdkwOCOXjH",
        "outputId": "ee0672af-0e9c-41bb-ca67-71201ad2f0c3"
      },
      "source": [
        "# 단어 집합을 만들고, 그 크기를 확인\n",
        "t = Tokenizer()\n",
        "t.fit_on_texts(headlines)\n",
        "vocab_size = len(t.word_index) + 1\n",
        "print(f'단어 집합의 크기: {vocab_size}')"
      ],
      "execution_count": 14,
      "outputs": [
        {
          "output_type": "stream",
          "text": [
            "단어 집합의 크기: 3494\n"
          ],
          "name": "stdout"
        }
      ]
    },
    {
      "cell_type": "code",
      "metadata": {
        "colab": {
          "base_uri": "https://localhost:8080/"
        },
        "id": "1bmvkI9YPHYX",
        "outputId": "77ddc5c5-e6e8-4447-ca97-c8bde6081f9d"
      },
      "source": [
        "sequences = []\n",
        "for line in headlines:      \n",
        "    encoded = t.texts_to_sequences([line])[0]\n",
        "    for i in range(1, len(encoded)):\n",
        "        sequence = encoded[:i+1]\n",
        "        sequences.append(sequence)\n",
        "\n",
        "sequences[:11]"
      ],
      "execution_count": 15,
      "outputs": [
        {
          "output_type": "execute_result",
          "data": {
            "text/plain": [
              "[[99, 269],\n",
              " [99, 269, 371],\n",
              " [99, 269, 371, 1115],\n",
              " [99, 269, 371, 1115, 582],\n",
              " [99, 269, 371, 1115, 582, 52],\n",
              " [99, 269, 371, 1115, 582, 52, 7],\n",
              " [99, 269, 371, 1115, 582, 52, 7, 2],\n",
              " [99, 269, 371, 1115, 582, 52, 7, 2, 372],\n",
              " [99, 269, 371, 1115, 582, 52, 7, 2, 372, 10],\n",
              " [99, 269, 371, 1115, 582, 52, 7, 2, 372, 10, 1116],\n",
              " [100, 3]]"
            ]
          },
          "metadata": {
            "tags": []
          },
          "execution_count": 15
        }
      ]
    },
    {
      "cell_type": "code",
      "metadata": {
        "colab": {
          "base_uri": "https://localhost:8080/"
        },
        "id": "TUWDQC6MPzAh",
        "outputId": "b16a60d9-a16d-45bb-9a13-3b079880d234"
      },
      "source": [
        "index_to_word = {}\n",
        "for key, value in t.word_index.items():\n",
        "    index_to_word[value] = key\n",
        "\n",
        "print('빈도수 상위 1번 단어:', index_to_word[1])\n",
        "print('빈도수 상위 582번째 단어:', index_to_word[582])"
      ],
      "execution_count": 16,
      "outputs": [
        {
          "output_type": "stream",
          "text": [
            "빈도수 상위 1번 단어: the\n",
            "빈도수 상위 582번째 단어: offer\n"
          ],
          "name": "stdout"
        }
      ]
    },
    {
      "cell_type": "code",
      "metadata": {
        "colab": {
          "base_uri": "https://localhost:8080/"
        },
        "id": "5Hhg_rksQhw0",
        "outputId": "22f85465-22c4-4ba7-8099-b9195d7cf41c"
      },
      "source": [
        "# 모든 샘플에서 길이가 가장 긴 샘플의 길이 출력\n",
        "max_len = max(len(s) for s in sequences) \n",
        "print('샘플의 최대 길이 :', max_len)"
      ],
      "execution_count": 17,
      "outputs": [
        {
          "output_type": "stream",
          "text": [
            "샘플의 최대 길이 : 24\n"
          ],
          "name": "stdout"
        }
      ]
    },
    {
      "cell_type": "code",
      "metadata": {
        "colab": {
          "base_uri": "https://localhost:8080/"
        },
        "id": "meqXCRdJQ4g5",
        "outputId": "43b73512-fa81-44d4-b9af-dfd244880528"
      },
      "source": [
        "# 전체 샘플의 길이를 24(가장 긴 샘플의 길이)로 패딩\n",
        "# 'pre' 옵션을 주면 앞을 0으로 패딩\n",
        "sequences = pad_sequences(sequences, maxlen=max_len, padding='pre')\n",
        "sequences[:3]"
      ],
      "execution_count": 18,
      "outputs": [
        {
          "output_type": "execute_result",
          "data": {
            "text/plain": [
              "array([[   0,    0,    0,    0,    0,    0,    0,    0,    0,    0,    0,\n",
              "           0,    0,    0,    0,    0,    0,    0,    0,    0,    0,    0,\n",
              "          99,  269],\n",
              "       [   0,    0,    0,    0,    0,    0,    0,    0,    0,    0,    0,\n",
              "           0,    0,    0,    0,    0,    0,    0,    0,    0,    0,   99,\n",
              "         269,  371],\n",
              "       [   0,    0,    0,    0,    0,    0,    0,    0,    0,    0,    0,\n",
              "           0,    0,    0,    0,    0,    0,    0,    0,    0,   99,  269,\n",
              "         371, 1115]], dtype=int32)"
            ]
          },
          "metadata": {
            "tags": []
          },
          "execution_count": 18
        }
      ]
    },
    {
      "cell_type": "code",
      "metadata": {
        "colab": {
          "base_uri": "https://localhost:8080/"
        },
        "id": "pyMTLMSHREU9",
        "outputId": "fc300a1d-fa71-43a8-a680-121e60b28dd8"
      },
      "source": [
        "X = sequences[:, :-1]\n",
        "y = sequences[:, -1]\n",
        "Y = to_categorical(y, vocab_size)\n",
        "X.shape, Y.shape"
      ],
      "execution_count": 19,
      "outputs": [
        {
          "output_type": "execute_result",
          "data": {
            "text/plain": [
              "((7803, 23), (7803, 3494))"
            ]
          },
          "metadata": {
            "tags": []
          },
          "execution_count": 19
        }
      ]
    },
    {
      "cell_type": "markdown",
      "metadata": {
        "id": "eZgQZCo_RomJ"
      },
      "source": [
        "### 모델 정의/설정/학습\n",
        "- Embedding\n",
        "- GRU\n",
        "\n"
      ]
    },
    {
      "cell_type": "code",
      "metadata": {
        "id": "9CrDk5-NRSV_"
      },
      "source": [
        "from tensorflow.keras.models import Sequential\n",
        "from tensorflow.keras.layers import Embedding, GRU, Dense"
      ],
      "execution_count": 20,
      "outputs": []
    },
    {
      "cell_type": "code",
      "metadata": {
        "colab": {
          "base_uri": "https://localhost:8080/"
        },
        "id": "hlsL8iHsR-Hg",
        "outputId": "6611a68a-ad5a-41dc-aa78-167d0139e2f0"
      },
      "source": [
        "# 임베딩 벡터 10차원, GRU 노드 크기는 128\n",
        "model = Sequential([ \n",
        "    Embedding(vocab_size, 10, input_length=max_len-1),\n",
        "    GRU(128),\n",
        "    Dense(vocab_size, activation='softmax')                \n",
        "])\n",
        "model.summary()"
      ],
      "execution_count": 21,
      "outputs": [
        {
          "output_type": "stream",
          "text": [
            "Model: \"sequential\"\n",
            "_________________________________________________________________\n",
            "Layer (type)                 Output Shape              Param #   \n",
            "=================================================================\n",
            "embedding (Embedding)        (None, 23, 10)            34940     \n",
            "_________________________________________________________________\n",
            "gru (GRU)                    (None, 128)               53760     \n",
            "_________________________________________________________________\n",
            "dense (Dense)                (None, 3494)              450726    \n",
            "=================================================================\n",
            "Total params: 539,426\n",
            "Trainable params: 539,426\n",
            "Non-trainable params: 0\n",
            "_________________________________________________________________\n"
          ],
          "name": "stdout"
        }
      ]
    },
    {
      "cell_type": "code",
      "metadata": {
        "id": "qPJU-vjzS2qc"
      },
      "source": [
        "model.compile(loss='categorical_crossentropy', optimizer='adam', metrics=['accuracy'])"
      ],
      "execution_count": 22,
      "outputs": []
    },
    {
      "cell_type": "code",
      "metadata": {
        "colab": {
          "base_uri": "https://localhost:8080/"
        },
        "id": "mHoVIp5pTDWf",
        "outputId": "7af6723a-60f1-4456-bb6f-e74aa0bded68"
      },
      "source": [
        "history = model.fit(X, Y, epochs=200, verbose=2)"
      ],
      "execution_count": 23,
      "outputs": [
        {
          "output_type": "stream",
          "text": [
            "Epoch 1/200\n",
            "244/244 - 34s - loss: 7.7057 - accuracy: 0.0291\n",
            "Epoch 2/200\n",
            "244/244 - 1s - loss: 7.1229 - accuracy: 0.0315\n",
            "Epoch 3/200\n",
            "244/244 - 1s - loss: 6.9182 - accuracy: 0.0432\n",
            "Epoch 4/200\n",
            "244/244 - 1s - loss: 6.7109 - accuracy: 0.0495\n",
            "Epoch 5/200\n",
            "244/244 - 1s - loss: 6.4869 - accuracy: 0.0534\n",
            "Epoch 6/200\n",
            "244/244 - 1s - loss: 6.2371 - accuracy: 0.0556\n",
            "Epoch 7/200\n",
            "244/244 - 1s - loss: 5.9657 - accuracy: 0.0624\n",
            "Epoch 8/200\n",
            "244/244 - 1s - loss: 5.6906 - accuracy: 0.0679\n",
            "Epoch 9/200\n",
            "244/244 - 1s - loss: 5.4227 - accuracy: 0.0759\n",
            "Epoch 10/200\n",
            "244/244 - 1s - loss: 5.1653 - accuracy: 0.0834\n",
            "Epoch 11/200\n",
            "244/244 - 1s - loss: 4.9260 - accuracy: 0.0951\n",
            "Epoch 12/200\n",
            "244/244 - 1s - loss: 4.6989 - accuracy: 0.1153\n",
            "Epoch 13/200\n",
            "244/244 - 1s - loss: 4.4823 - accuracy: 0.1402\n",
            "Epoch 14/200\n",
            "244/244 - 1s - loss: 4.2784 - accuracy: 0.1654\n",
            "Epoch 15/200\n",
            "244/244 - 1s - loss: 4.0816 - accuracy: 0.2011\n",
            "Epoch 16/200\n",
            "244/244 - 1s - loss: 3.8975 - accuracy: 0.2302\n",
            "Epoch 17/200\n",
            "244/244 - 1s - loss: 3.7178 - accuracy: 0.2581\n",
            "Epoch 18/200\n",
            "244/244 - 1s - loss: 3.5487 - accuracy: 0.2850\n",
            "Epoch 19/200\n",
            "244/244 - 1s - loss: 3.3889 - accuracy: 0.3168\n",
            "Epoch 20/200\n",
            "244/244 - 1s - loss: 3.2399 - accuracy: 0.3410\n",
            "Epoch 21/200\n",
            "244/244 - 1s - loss: 3.0916 - accuracy: 0.3719\n",
            "Epoch 22/200\n",
            "244/244 - 1s - loss: 2.9568 - accuracy: 0.4001\n",
            "Epoch 23/200\n",
            "244/244 - 1s - loss: 2.8302 - accuracy: 0.4171\n",
            "Epoch 24/200\n",
            "244/244 - 1s - loss: 2.7109 - accuracy: 0.4435\n",
            "Epoch 25/200\n",
            "244/244 - 1s - loss: 2.5927 - accuracy: 0.4634\n",
            "Epoch 26/200\n",
            "244/244 - 1s - loss: 2.4877 - accuracy: 0.4861\n",
            "Epoch 27/200\n",
            "244/244 - 1s - loss: 2.3809 - accuracy: 0.5136\n",
            "Epoch 28/200\n",
            "244/244 - 1s - loss: 2.2876 - accuracy: 0.5267\n",
            "Epoch 29/200\n",
            "244/244 - 1s - loss: 2.1938 - accuracy: 0.5497\n",
            "Epoch 30/200\n",
            "244/244 - 1s - loss: 2.1055 - accuracy: 0.5679\n",
            "Epoch 31/200\n",
            "244/244 - 1s - loss: 2.0212 - accuracy: 0.5840\n",
            "Epoch 32/200\n",
            "244/244 - 1s - loss: 1.9460 - accuracy: 0.5976\n",
            "Epoch 33/200\n",
            "244/244 - 1s - loss: 1.8687 - accuracy: 0.6180\n",
            "Epoch 34/200\n",
            "244/244 - 1s - loss: 1.7975 - accuracy: 0.6317\n",
            "Epoch 35/200\n",
            "244/244 - 1s - loss: 1.7267 - accuracy: 0.6463\n",
            "Epoch 36/200\n",
            "244/244 - 1s - loss: 1.6586 - accuracy: 0.6592\n",
            "Epoch 37/200\n",
            "244/244 - 1s - loss: 1.5984 - accuracy: 0.6756\n",
            "Epoch 38/200\n",
            "244/244 - 1s - loss: 1.5390 - accuracy: 0.6860\n",
            "Epoch 39/200\n",
            "244/244 - 1s - loss: 1.4804 - accuracy: 0.7006\n",
            "Epoch 40/200\n",
            "244/244 - 1s - loss: 1.4196 - accuracy: 0.7125\n",
            "Epoch 41/200\n",
            "244/244 - 1s - loss: 1.3698 - accuracy: 0.7213\n",
            "Epoch 42/200\n",
            "244/244 - 1s - loss: 1.3196 - accuracy: 0.7363\n",
            "Epoch 43/200\n",
            "244/244 - 1s - loss: 1.2692 - accuracy: 0.7492\n",
            "Epoch 44/200\n",
            "244/244 - 1s - loss: 1.2199 - accuracy: 0.7546\n",
            "Epoch 45/200\n",
            "244/244 - 1s - loss: 1.1770 - accuracy: 0.7643\n",
            "Epoch 46/200\n",
            "244/244 - 1s - loss: 1.1327 - accuracy: 0.7718\n",
            "Epoch 47/200\n",
            "244/244 - 1s - loss: 1.0909 - accuracy: 0.7794\n",
            "Epoch 48/200\n",
            "244/244 - 1s - loss: 1.0470 - accuracy: 0.7889\n",
            "Epoch 49/200\n",
            "244/244 - 1s - loss: 1.0087 - accuracy: 0.7960\n",
            "Epoch 50/200\n",
            "244/244 - 1s - loss: 0.9711 - accuracy: 0.8042\n",
            "Epoch 51/200\n",
            "244/244 - 1s - loss: 0.9418 - accuracy: 0.8064\n",
            "Epoch 52/200\n",
            "244/244 - 1s - loss: 0.9072 - accuracy: 0.8155\n",
            "Epoch 53/200\n",
            "244/244 - 1s - loss: 0.8700 - accuracy: 0.8219\n",
            "Epoch 54/200\n",
            "244/244 - 1s - loss: 0.8367 - accuracy: 0.8276\n",
            "Epoch 55/200\n",
            "244/244 - 1s - loss: 0.8078 - accuracy: 0.8352\n",
            "Epoch 56/200\n",
            "244/244 - 1s - loss: 0.7771 - accuracy: 0.8422\n",
            "Epoch 57/200\n",
            "244/244 - 1s - loss: 0.7509 - accuracy: 0.8439\n",
            "Epoch 58/200\n",
            "244/244 - 1s - loss: 0.7240 - accuracy: 0.8521\n",
            "Epoch 59/200\n",
            "244/244 - 1s - loss: 0.6986 - accuracy: 0.8553\n",
            "Epoch 60/200\n",
            "244/244 - 1s - loss: 0.6803 - accuracy: 0.8629\n",
            "Epoch 61/200\n",
            "244/244 - 1s - loss: 0.6592 - accuracy: 0.8667\n",
            "Epoch 62/200\n",
            "244/244 - 1s - loss: 0.6331 - accuracy: 0.8704\n",
            "Epoch 63/200\n",
            "244/244 - 1s - loss: 0.6077 - accuracy: 0.8747\n",
            "Epoch 64/200\n",
            "244/244 - 1s - loss: 0.5835 - accuracy: 0.8790\n",
            "Epoch 65/200\n",
            "244/244 - 1s - loss: 0.5648 - accuracy: 0.8856\n",
            "Epoch 66/200\n",
            "244/244 - 1s - loss: 0.5500 - accuracy: 0.8870\n",
            "Epoch 67/200\n",
            "244/244 - 1s - loss: 0.5331 - accuracy: 0.8920\n",
            "Epoch 68/200\n",
            "244/244 - 1s - loss: 0.5232 - accuracy: 0.8934\n",
            "Epoch 69/200\n",
            "244/244 - 1s - loss: 0.5055 - accuracy: 0.8973\n",
            "Epoch 70/200\n",
            "244/244 - 1s - loss: 0.4888 - accuracy: 0.8963\n",
            "Epoch 71/200\n",
            "244/244 - 1s - loss: 0.4763 - accuracy: 0.8984\n",
            "Epoch 72/200\n",
            "244/244 - 1s - loss: 0.4599 - accuracy: 0.9049\n",
            "Epoch 73/200\n",
            "244/244 - 1s - loss: 0.4563 - accuracy: 0.9047\n",
            "Epoch 74/200\n",
            "244/244 - 1s - loss: 0.4395 - accuracy: 0.9044\n",
            "Epoch 75/200\n",
            "244/244 - 1s - loss: 0.4326 - accuracy: 0.9082\n",
            "Epoch 76/200\n",
            "244/244 - 1s - loss: 0.4203 - accuracy: 0.9067\n",
            "Epoch 77/200\n",
            "244/244 - 1s - loss: 0.4095 - accuracy: 0.9105\n",
            "Epoch 78/200\n",
            "244/244 - 1s - loss: 0.4167 - accuracy: 0.9089\n",
            "Epoch 79/200\n",
            "244/244 - 1s - loss: 0.4583 - accuracy: 0.9006\n",
            "Epoch 80/200\n",
            "244/244 - 1s - loss: 0.4237 - accuracy: 0.9055\n",
            "Epoch 81/200\n",
            "244/244 - 1s - loss: 0.3836 - accuracy: 0.9117\n",
            "Epoch 82/200\n",
            "244/244 - 1s - loss: 0.3701 - accuracy: 0.9118\n",
            "Epoch 83/200\n",
            "244/244 - 1s - loss: 0.3621 - accuracy: 0.9149\n",
            "Epoch 84/200\n",
            "244/244 - 1s - loss: 0.3591 - accuracy: 0.9129\n",
            "Epoch 85/200\n",
            "244/244 - 1s - loss: 0.3545 - accuracy: 0.9122\n",
            "Epoch 86/200\n",
            "244/244 - 1s - loss: 0.3500 - accuracy: 0.9149\n",
            "Epoch 87/200\n",
            "244/244 - 1s - loss: 0.3466 - accuracy: 0.9149\n",
            "Epoch 88/200\n",
            "244/244 - 1s - loss: 0.3421 - accuracy: 0.9129\n",
            "Epoch 89/200\n",
            "244/244 - 1s - loss: 0.3398 - accuracy: 0.9129\n",
            "Epoch 90/200\n",
            "244/244 - 1s - loss: 0.3438 - accuracy: 0.9126\n",
            "Epoch 91/200\n",
            "244/244 - 1s - loss: 0.3446 - accuracy: 0.9136\n",
            "Epoch 92/200\n",
            "244/244 - 1s - loss: 0.3469 - accuracy: 0.9114\n",
            "Epoch 93/200\n",
            "244/244 - 1s - loss: 0.3447 - accuracy: 0.9114\n",
            "Epoch 94/200\n",
            "244/244 - 1s - loss: 0.3536 - accuracy: 0.9086\n",
            "Epoch 95/200\n",
            "244/244 - 1s - loss: 0.3424 - accuracy: 0.9140\n",
            "Epoch 96/200\n",
            "244/244 - 1s - loss: 0.3235 - accuracy: 0.9140\n",
            "Epoch 97/200\n",
            "244/244 - 1s - loss: 0.3194 - accuracy: 0.9135\n",
            "Epoch 98/200\n",
            "244/244 - 1s - loss: 0.3136 - accuracy: 0.9155\n",
            "Epoch 99/200\n",
            "244/244 - 1s - loss: 0.3115 - accuracy: 0.9155\n",
            "Epoch 100/200\n",
            "244/244 - 1s - loss: 0.3096 - accuracy: 0.9149\n",
            "Epoch 101/200\n",
            "244/244 - 1s - loss: 0.3103 - accuracy: 0.9145\n",
            "Epoch 102/200\n",
            "244/244 - 1s - loss: 0.3080 - accuracy: 0.9145\n",
            "Epoch 103/200\n",
            "244/244 - 1s - loss: 0.3092 - accuracy: 0.9148\n",
            "Epoch 104/200\n",
            "244/244 - 1s - loss: 0.3187 - accuracy: 0.9136\n",
            "Epoch 105/200\n",
            "244/244 - 1s - loss: 0.3260 - accuracy: 0.9141\n",
            "Epoch 106/200\n",
            "244/244 - 1s - loss: 0.3313 - accuracy: 0.9117\n",
            "Epoch 107/200\n",
            "244/244 - 1s - loss: 0.3296 - accuracy: 0.9114\n",
            "Epoch 108/200\n",
            "244/244 - 1s - loss: 0.3135 - accuracy: 0.9136\n",
            "Epoch 109/200\n",
            "244/244 - 1s - loss: 0.2994 - accuracy: 0.9143\n",
            "Epoch 110/200\n",
            "244/244 - 1s - loss: 0.2985 - accuracy: 0.9140\n",
            "Epoch 111/200\n",
            "244/244 - 1s - loss: 0.2960 - accuracy: 0.9166\n",
            "Epoch 112/200\n",
            "244/244 - 1s - loss: 0.2982 - accuracy: 0.9141\n",
            "Epoch 113/200\n",
            "244/244 - 1s - loss: 0.2962 - accuracy: 0.9136\n",
            "Epoch 114/200\n",
            "244/244 - 1s - loss: 0.2959 - accuracy: 0.9163\n",
            "Epoch 115/200\n",
            "244/244 - 1s - loss: 0.2953 - accuracy: 0.9155\n",
            "Epoch 116/200\n",
            "244/244 - 1s - loss: 0.2940 - accuracy: 0.9144\n",
            "Epoch 117/200\n",
            "244/244 - 1s - loss: 0.2922 - accuracy: 0.9158\n",
            "Epoch 118/200\n",
            "244/244 - 1s - loss: 0.2922 - accuracy: 0.9145\n",
            "Epoch 119/200\n",
            "244/244 - 1s - loss: 0.2948 - accuracy: 0.9144\n",
            "Epoch 120/200\n",
            "244/244 - 1s - loss: 0.3121 - accuracy: 0.9109\n",
            "Epoch 121/200\n",
            "244/244 - 1s - loss: 0.4149 - accuracy: 0.8897\n",
            "Epoch 122/200\n",
            "244/244 - 1s - loss: 0.3641 - accuracy: 0.9018\n",
            "Epoch 123/200\n",
            "244/244 - 1s - loss: 0.2999 - accuracy: 0.9148\n",
            "Epoch 124/200\n",
            "244/244 - 1s - loss: 0.2887 - accuracy: 0.9152\n",
            "Epoch 125/200\n",
            "244/244 - 1s - loss: 0.2887 - accuracy: 0.9143\n",
            "Epoch 126/200\n",
            "244/244 - 1s - loss: 0.2879 - accuracy: 0.9149\n",
            "Epoch 127/200\n",
            "244/244 - 1s - loss: 0.2868 - accuracy: 0.9153\n",
            "Epoch 128/200\n",
            "244/244 - 1s - loss: 0.2868 - accuracy: 0.9152\n",
            "Epoch 129/200\n",
            "244/244 - 1s - loss: 0.2854 - accuracy: 0.9152\n",
            "Epoch 130/200\n",
            "244/244 - 1s - loss: 0.2859 - accuracy: 0.9159\n",
            "Epoch 131/200\n",
            "244/244 - 1s - loss: 0.2848 - accuracy: 0.9157\n",
            "Epoch 132/200\n",
            "244/244 - 1s - loss: 0.2870 - accuracy: 0.9161\n",
            "Epoch 133/200\n",
            "244/244 - 1s - loss: 0.2866 - accuracy: 0.9163\n",
            "Epoch 134/200\n",
            "244/244 - 1s - loss: 0.2855 - accuracy: 0.9162\n",
            "Epoch 135/200\n",
            "244/244 - 1s - loss: 0.2888 - accuracy: 0.9154\n",
            "Epoch 136/200\n",
            "244/244 - 1s - loss: 0.2866 - accuracy: 0.9161\n",
            "Epoch 137/200\n",
            "244/244 - 1s - loss: 0.2851 - accuracy: 0.9152\n",
            "Epoch 138/200\n",
            "244/244 - 1s - loss: 0.2849 - accuracy: 0.9155\n",
            "Epoch 139/200\n",
            "244/244 - 1s - loss: 0.2873 - accuracy: 0.9145\n",
            "Epoch 140/200\n",
            "244/244 - 1s - loss: 0.2871 - accuracy: 0.9158\n",
            "Epoch 141/200\n",
            "244/244 - 1s - loss: 0.2997 - accuracy: 0.9127\n",
            "Epoch 142/200\n",
            "244/244 - 1s - loss: 0.3454 - accuracy: 0.9027\n",
            "Epoch 143/200\n",
            "244/244 - 1s - loss: 0.3352 - accuracy: 0.9073\n",
            "Epoch 144/200\n",
            "244/244 - 1s - loss: 0.2932 - accuracy: 0.9152\n",
            "Epoch 145/200\n",
            "244/244 - 1s - loss: 0.2826 - accuracy: 0.9150\n",
            "Epoch 146/200\n",
            "244/244 - 1s - loss: 0.2819 - accuracy: 0.9150\n",
            "Epoch 147/200\n",
            "244/244 - 1s - loss: 0.2815 - accuracy: 0.9161\n",
            "Epoch 148/200\n",
            "244/244 - 1s - loss: 0.2813 - accuracy: 0.9153\n",
            "Epoch 149/200\n",
            "244/244 - 1s - loss: 0.2806 - accuracy: 0.9145\n",
            "Epoch 150/200\n",
            "244/244 - 1s - loss: 0.2804 - accuracy: 0.9164\n",
            "Epoch 151/200\n",
            "244/244 - 1s - loss: 0.2813 - accuracy: 0.9155\n",
            "Epoch 152/200\n",
            "244/244 - 1s - loss: 0.2800 - accuracy: 0.9152\n",
            "Epoch 153/200\n",
            "244/244 - 1s - loss: 0.2816 - accuracy: 0.9153\n",
            "Epoch 154/200\n",
            "244/244 - 1s - loss: 0.2825 - accuracy: 0.9138\n",
            "Epoch 155/200\n",
            "244/244 - 1s - loss: 0.2814 - accuracy: 0.9154\n",
            "Epoch 156/200\n",
            "244/244 - 1s - loss: 0.2839 - accuracy: 0.9149\n",
            "Epoch 157/200\n",
            "244/244 - 1s - loss: 0.2848 - accuracy: 0.9155\n",
            "Epoch 158/200\n",
            "244/244 - 1s - loss: 0.3783 - accuracy: 0.8973\n",
            "Epoch 159/200\n",
            "244/244 - 1s - loss: 0.3202 - accuracy: 0.9080\n",
            "Epoch 160/200\n",
            "244/244 - 1s - loss: 0.2867 - accuracy: 0.9153\n",
            "Epoch 161/200\n",
            "244/244 - 1s - loss: 0.2812 - accuracy: 0.9144\n",
            "Epoch 162/200\n",
            "244/244 - 1s - loss: 0.2803 - accuracy: 0.9155\n",
            "Epoch 163/200\n",
            "244/244 - 1s - loss: 0.2794 - accuracy: 0.9145\n",
            "Epoch 164/200\n",
            "244/244 - 1s - loss: 0.2768 - accuracy: 0.9162\n",
            "Epoch 165/200\n",
            "244/244 - 1s - loss: 0.2780 - accuracy: 0.9152\n",
            "Epoch 166/200\n",
            "244/244 - 1s - loss: 0.2790 - accuracy: 0.9152\n",
            "Epoch 167/200\n",
            "244/244 - 1s - loss: 0.2812 - accuracy: 0.9138\n",
            "Epoch 168/200\n",
            "244/244 - 1s - loss: 0.2798 - accuracy: 0.9152\n",
            "Epoch 169/200\n",
            "244/244 - 1s - loss: 0.2831 - accuracy: 0.9134\n",
            "Epoch 170/200\n",
            "244/244 - 1s - loss: 0.2816 - accuracy: 0.9150\n",
            "Epoch 171/200\n",
            "244/244 - 1s - loss: 0.2797 - accuracy: 0.9159\n",
            "Epoch 172/200\n",
            "244/244 - 1s - loss: 0.2799 - accuracy: 0.9145\n",
            "Epoch 173/200\n",
            "244/244 - 1s - loss: 0.2791 - accuracy: 0.9168\n",
            "Epoch 174/200\n",
            "244/244 - 1s - loss: 0.2823 - accuracy: 0.9143\n",
            "Epoch 175/200\n",
            "244/244 - 1s - loss: 0.2892 - accuracy: 0.9131\n",
            "Epoch 176/200\n",
            "244/244 - 1s - loss: 0.3094 - accuracy: 0.9090\n",
            "Epoch 177/200\n",
            "244/244 - 1s - loss: 0.3000 - accuracy: 0.9114\n",
            "Epoch 178/200\n",
            "244/244 - 1s - loss: 0.2885 - accuracy: 0.9139\n",
            "Epoch 179/200\n",
            "244/244 - 1s - loss: 0.2805 - accuracy: 0.9149\n",
            "Epoch 180/200\n",
            "244/244 - 1s - loss: 0.2782 - accuracy: 0.9146\n",
            "Epoch 181/200\n",
            "244/244 - 1s - loss: 0.2787 - accuracy: 0.9144\n",
            "Epoch 182/200\n",
            "244/244 - 1s - loss: 0.2765 - accuracy: 0.9164\n",
            "Epoch 183/200\n",
            "244/244 - 1s - loss: 0.2767 - accuracy: 0.9153\n",
            "Epoch 184/200\n",
            "244/244 - 1s - loss: 0.2787 - accuracy: 0.9144\n",
            "Epoch 185/200\n",
            "244/244 - 1s - loss: 0.2790 - accuracy: 0.9145\n",
            "Epoch 186/200\n",
            "244/244 - 1s - loss: 0.2784 - accuracy: 0.9143\n",
            "Epoch 187/200\n",
            "244/244 - 1s - loss: 0.2771 - accuracy: 0.9148\n",
            "Epoch 188/200\n",
            "244/244 - 1s - loss: 0.2789 - accuracy: 0.9148\n",
            "Epoch 189/200\n",
            "244/244 - 1s - loss: 0.2770 - accuracy: 0.9150\n",
            "Epoch 190/200\n",
            "244/244 - 1s - loss: 0.2801 - accuracy: 0.9141\n",
            "Epoch 191/200\n",
            "244/244 - 1s - loss: 0.2769 - accuracy: 0.9163\n",
            "Epoch 192/200\n",
            "244/244 - 1s - loss: 0.2770 - accuracy: 0.9129\n",
            "Epoch 193/200\n",
            "244/244 - 1s - loss: 0.2777 - accuracy: 0.9141\n",
            "Epoch 194/200\n",
            "244/244 - 1s - loss: 0.2780 - accuracy: 0.9159\n",
            "Epoch 195/200\n",
            "244/244 - 1s - loss: 0.2835 - accuracy: 0.9141\n",
            "Epoch 196/200\n",
            "244/244 - 1s - loss: 0.3728 - accuracy: 0.8944\n",
            "Epoch 197/200\n",
            "244/244 - 1s - loss: 0.3577 - accuracy: 0.8954\n",
            "Epoch 198/200\n",
            "244/244 - 1s - loss: 0.2888 - accuracy: 0.9154\n",
            "Epoch 199/200\n",
            "244/244 - 1s - loss: 0.2782 - accuracy: 0.9150\n",
            "Epoch 200/200\n",
            "244/244 - 1s - loss: 0.2764 - accuracy: 0.9170\n"
          ],
          "name": "stdout"
        }
      ]
    },
    {
      "cell_type": "markdown",
      "metadata": {
        "id": "exuwruCwVVAx"
      },
      "source": [
        "### 모델 검증"
      ]
    },
    {
      "cell_type": "code",
      "metadata": {
        "id": "3jJy0opRTM-N"
      },
      "source": [
        "# 모델 검증용 문장을 생성하는 함수\n",
        "def sentence_generation(model, t, current_word, n): # 모델, 토크나이저, 현재 단어, 반복할 횟수\n",
        "    init_word = current_word # 처음 들어온 단어도 마지막에 같이 출력하기위해 저장\n",
        "    sentence = ''\n",
        "    for _ in range(n): # n번 반복\n",
        "        encoded = t.texts_to_sequences([current_word])[0] # 현재 단어에 대한 정수 인코딩\n",
        "        encoded = pad_sequences([encoded], maxlen=23, padding='pre') # 데이터에 대한 패딩\n",
        "        #result = model.predict_classes(encoded, verbose=0)\n",
        "        result = np.argmax(model.predict(encoded), axis=-1)\n",
        "    # 입력한 X(현재 단어)에 대해서 Y를 예측하고 Y(예측한 단어)를 result에 저장.\n",
        "        for word, index in t.word_index.items(): \n",
        "            if index == result: # 만약 예측한 단어와 인덱스와 동일한 단어가 있다면\n",
        "                break # 해당 단어가 예측 단어이므로 break\n",
        "        current_word = current_word + ' ' + word # 현재 단어 + ' ' + 예측 단어를 현재 단어로 변경\n",
        "        sentence = sentence + ' ' + word # 예측 단어를 문장에 저장\n",
        "        \n",
        "    # for문이므로 이 행동을 다시 반복\n",
        "    sentence = init_word + sentence\n",
        "    return sentence"
      ],
      "execution_count": 24,
      "outputs": []
    },
    {
      "cell_type": "code",
      "metadata": {
        "colab": {
          "base_uri": "https://localhost:8080/"
        },
        "id": "N2efUNuzVcQ5",
        "outputId": "4a7ab5de-1def-49a7-fd84-cc70ec8b5f43"
      },
      "source": [
        "print(sentence_generation(model, t, 'i', 10))\n",
        "print(sentence_generation(model, t, 'epa', 10))\n",
        "print(sentence_generation(model, t, 'former', 10))"
      ],
      "execution_count": 25,
      "outputs": [
        {
          "output_type": "stream",
          "text": [
            "i want to be rich and im not sorry scientists our\n",
            "epa sheriff indulged pruitt as security spending mounted on his viral\n",
            "former nfl cheerleaders settlement offer 1 and a meeting with goodell\n"
          ],
          "name": "stdout"
        }
      ]
    }
  ]
}