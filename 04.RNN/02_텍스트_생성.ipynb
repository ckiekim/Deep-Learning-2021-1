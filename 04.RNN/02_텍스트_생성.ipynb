{
  "nbformat": 4,
  "nbformat_minor": 0,
  "metadata": {
    "colab": {
      "name": "02_텍스트_생성.ipynb",
      "provenance": [],
      "collapsed_sections": []
    },
    "kernelspec": {
      "name": "python3",
      "display_name": "Python 3"
    },
    "language_info": {
      "name": "python"
    }
  },
  "cells": [
    {
      "cell_type": "markdown",
      "metadata": {
        "id": "lJy9vZ2KX_Aj"
      },
      "source": [
        "# RNN을 이용한 텍스트 생성\n",
        "- '경마장에 있는 말이 뛰고 있다'\n",
        "- '그의 말이 법이다'\n",
        "- '가는 말이 고와야 오는 말이 곱다'"
      ]
    },
    {
      "cell_type": "code",
      "metadata": {
        "id": "U8ZtKV5uYOb7"
      },
      "source": [
        "import numpy as np\n",
        "import tensorflow as tf\n",
        "\n",
        "seed = 2021\n",
        "np.random.seed(seed)\n",
        "tf.random.set_seed(seed)"
      ],
      "execution_count": 1,
      "outputs": []
    },
    {
      "cell_type": "code",
      "metadata": {
        "id": "60iDhls2YmkN"
      },
      "source": [
        "from tensorflow.keras.preprocessing.text import Tokenizer\n",
        "from tensorflow.keras.preprocessing.sequence import pad_sequences\n",
        "from tensorflow.keras.utils import to_categorical"
      ],
      "execution_count": 2,
      "outputs": []
    },
    {
      "cell_type": "code",
      "metadata": {
        "id": "fTKU8q5aZEWN"
      },
      "source": [
        "text = '''경마장에 있는 말이 뛰고 있다\\n\n",
        "그의 말이 법이다\\n\n",
        "가는 말이 고와야 오는 말이 곱다\\n'''"
      ],
      "execution_count": 3,
      "outputs": []
    },
    {
      "cell_type": "code",
      "metadata": {
        "id": "SjSJdWoWZZRF"
      },
      "source": [
        "# 단어 집합 생성\n",
        "t = Tokenizer()\n",
        "t.fit_on_texts([text])"
      ],
      "execution_count": 4,
      "outputs": []
    },
    {
      "cell_type": "code",
      "metadata": {
        "colab": {
          "base_uri": "https://localhost:8080/"
        },
        "id": "EQgpsd9BZnRX",
        "outputId": "1a09249b-f0b4-4a35-c2f6-d668e54e69fa"
      },
      "source": [
        "t.word_index"
      ],
      "execution_count": 5,
      "outputs": [
        {
          "output_type": "execute_result",
          "data": {
            "text/plain": [
              "{'가는': 8,\n",
              " '경마장에': 2,\n",
              " '고와야': 9,\n",
              " '곱다': 11,\n",
              " '그의': 6,\n",
              " '뛰고': 4,\n",
              " '말이': 1,\n",
              " '법이다': 7,\n",
              " '오는': 10,\n",
              " '있는': 3,\n",
              " '있다': 5}"
            ]
          },
          "metadata": {
            "tags": []
          },
          "execution_count": 5
        }
      ]
    },
    {
      "cell_type": "code",
      "metadata": {
        "colab": {
          "base_uri": "https://localhost:8080/"
        },
        "id": "lwwVhs4ZZvP1",
        "outputId": "4e74ae47-2d68-4c39-d05e-d0bee21d5012"
      },
      "source": [
        "# 단어 집합 크기\n",
        "vocab_size = len(t.word_index) + 1\n",
        "vocab_size"
      ],
      "execution_count": 6,
      "outputs": [
        {
          "output_type": "execute_result",
          "data": {
            "text/plain": [
              "12"
            ]
          },
          "metadata": {
            "tags": []
          },
          "execution_count": 6
        }
      ]
    },
    {
      "cell_type": "code",
      "metadata": {
        "colab": {
          "base_uri": "https://localhost:8080/"
        },
        "id": "eUapDsn7aKcY",
        "outputId": "9f175697-3897-48f0-9e39-20f84eb4628e"
      },
      "source": [
        "t.texts_to_sequences(['그의 말이 법이다'])"
      ],
      "execution_count": 7,
      "outputs": [
        {
          "output_type": "execute_result",
          "data": {
            "text/plain": [
              "[[6, 1, 7]]"
            ]
          },
          "metadata": {
            "tags": []
          },
          "execution_count": 7
        }
      ]
    },
    {
      "cell_type": "code",
      "metadata": {
        "colab": {
          "base_uri": "https://localhost:8080/"
        },
        "id": "Gn_KvTtraXhB",
        "outputId": "4ae62786-36aa-477b-83f7-7c036a45e1c9"
      },
      "source": [
        "sequences = []\n",
        "for line in text.split('\\n'): # \\n을 기준으로 문장 토큰화\n",
        "    encoded = t.texts_to_sequences([line])[0]\n",
        "    for i in range(1, len(encoded)):\n",
        "        sequence = encoded[:i+1]\n",
        "        sequences.append(sequence)\n",
        "\n",
        "print('학습에 사용할 샘플의 개수: %d' % len(sequences))"
      ],
      "execution_count": 8,
      "outputs": [
        {
          "output_type": "stream",
          "text": [
            "학습에 사용할 샘플의 개수: 11\n"
          ],
          "name": "stdout"
        }
      ]
    },
    {
      "cell_type": "code",
      "metadata": {
        "colab": {
          "base_uri": "https://localhost:8080/"
        },
        "id": "gw8mOEcdalz0",
        "outputId": "af93d15b-9a87-4156-b67c-8a07fd0ad9e2"
      },
      "source": [
        "sequences"
      ],
      "execution_count": 9,
      "outputs": [
        {
          "output_type": "execute_result",
          "data": {
            "text/plain": [
              "[[2, 3],\n",
              " [2, 3, 1],\n",
              " [2, 3, 1, 4],\n",
              " [2, 3, 1, 4, 5],\n",
              " [6, 1],\n",
              " [6, 1, 7],\n",
              " [8, 1],\n",
              " [8, 1, 9],\n",
              " [8, 1, 9, 10],\n",
              " [8, 1, 9, 10, 1],\n",
              " [8, 1, 9, 10, 1, 11]]"
            ]
          },
          "metadata": {
            "tags": []
          },
          "execution_count": 9
        }
      ]
    },
    {
      "cell_type": "code",
      "metadata": {
        "colab": {
          "base_uri": "https://localhost:8080/"
        },
        "id": "EHoToX40apAz",
        "outputId": "b45c1f47-d01b-4166-fcc4-74952bf8fa27"
      },
      "source": [
        "# 모든 샘플에서 길이가 가장 긴 샘플의 길이 출력\n",
        "max_len = max(len(s) for s in sequences) \n",
        "print('샘플의 최대 길이 :', max_len)"
      ],
      "execution_count": 10,
      "outputs": [
        {
          "output_type": "stream",
          "text": [
            "샘플의 최대 길이 : 6\n"
          ],
          "name": "stdout"
        }
      ]
    },
    {
      "cell_type": "code",
      "metadata": {
        "colab": {
          "base_uri": "https://localhost:8080/"
        },
        "id": "PLY322yPbGK8",
        "outputId": "130146f6-369d-414f-c23c-d9869757499a"
      },
      "source": [
        "# 전체 샘플의 길이를 6(가장 긴 샘플의 길이)으로 패딩\n",
        "# 'pre' 옵션을 주면 앞을 0으로 패딩\n",
        "sequences = pad_sequences(sequences, maxlen=max_len, padding='pre')\n",
        "sequences[:5]"
      ],
      "execution_count": 11,
      "outputs": [
        {
          "output_type": "execute_result",
          "data": {
            "text/plain": [
              "array([[0, 0, 0, 0, 2, 3],\n",
              "       [0, 0, 0, 2, 3, 1],\n",
              "       [0, 0, 2, 3, 1, 4],\n",
              "       [0, 2, 3, 1, 4, 5],\n",
              "       [0, 0, 0, 0, 6, 1]], dtype=int32)"
            ]
          },
          "metadata": {
            "tags": []
          },
          "execution_count": 11
        }
      ]
    },
    {
      "cell_type": "code",
      "metadata": {
        "id": "pqvqCUDpcT-_"
      },
      "source": [
        "X = sequences[:, :-1]\n",
        "y = sequences[:, -1]"
      ],
      "execution_count": 13,
      "outputs": []
    },
    {
      "cell_type": "code",
      "metadata": {
        "id": "bFDB16gccllg"
      },
      "source": [
        "# y 를 one-hot encoding\n",
        "Y = to_categorical(y, vocab_size)"
      ],
      "execution_count": 14,
      "outputs": []
    },
    {
      "cell_type": "code",
      "metadata": {
        "colab": {
          "base_uri": "https://localhost:8080/"
        },
        "id": "ArcBOe8WdGGy",
        "outputId": "41520245-271b-4bcb-98db-306034d801c2"
      },
      "source": [
        "Y[:3]"
      ],
      "execution_count": 15,
      "outputs": [
        {
          "output_type": "execute_result",
          "data": {
            "text/plain": [
              "array([[0., 0., 0., 1., 0., 0., 0., 0., 0., 0., 0., 0.],\n",
              "       [0., 1., 0., 0., 0., 0., 0., 0., 0., 0., 0., 0.],\n",
              "       [0., 0., 0., 0., 1., 0., 0., 0., 0., 0., 0., 0.]], dtype=float32)"
            ]
          },
          "metadata": {
            "tags": []
          },
          "execution_count": 15
        }
      ]
    },
    {
      "cell_type": "markdown",
      "metadata": {
        "id": "ZqyApsc9dRhZ"
      },
      "source": [
        "### 모델\n",
        "- Embedding\n",
        "- SimpleRNN"
      ]
    },
    {
      "cell_type": "code",
      "metadata": {
        "id": "L0j9Z0I1dIv6"
      },
      "source": [
        "from tensorflow.keras.models import Sequential\n",
        "from tensorflow.keras.layers import Embedding, SimpleRNN, Dense"
      ],
      "execution_count": 16,
      "outputs": []
    },
    {
      "cell_type": "code",
      "metadata": {
        "colab": {
          "base_uri": "https://localhost:8080/"
        },
        "id": "eNJJh5DWdv7e",
        "outputId": "30ebb2fa-0da1-47d4-92c2-05fa2ec926b5"
      },
      "source": [
        "model = Sequential([\n",
        "    Embedding(vocab_size, 4, input_length=max_len-1),\n",
        "    SimpleRNN(32),\n",
        "    Dense(vocab_size, activation='softmax')                \n",
        "])\n",
        "model.summary()"
      ],
      "execution_count": 17,
      "outputs": [
        {
          "output_type": "stream",
          "text": [
            "Model: \"sequential\"\n",
            "_________________________________________________________________\n",
            "Layer (type)                 Output Shape              Param #   \n",
            "=================================================================\n",
            "embedding (Embedding)        (None, 5, 4)              48        \n",
            "_________________________________________________________________\n",
            "simple_rnn (SimpleRNN)       (None, 32)                1184      \n",
            "_________________________________________________________________\n",
            "dense (Dense)                (None, 12)                396       \n",
            "=================================================================\n",
            "Total params: 1,628\n",
            "Trainable params: 1,628\n",
            "Non-trainable params: 0\n",
            "_________________________________________________________________\n"
          ],
          "name": "stdout"
        }
      ]
    },
    {
      "cell_type": "code",
      "metadata": {
        "id": "58UKrwcTeXzb"
      },
      "source": [
        "model.compile(loss='categorical_crossentropy', optimizer='adam', metrics=['accuracy'])"
      ],
      "execution_count": 18,
      "outputs": []
    },
    {
      "cell_type": "code",
      "metadata": {
        "id": "xyJo7dwjeqRU"
      },
      "source": [
        "history = model.fit(X, Y, epochs=200, verbose=0)"
      ],
      "execution_count": 19,
      "outputs": []
    },
    {
      "cell_type": "code",
      "metadata": {
        "colab": {
          "base_uri": "https://localhost:8080/"
        },
        "id": "rtQC0cj6ey8h",
        "outputId": "0559fcd3-aa7e-401a-9ff1-35756348fec5"
      },
      "source": [
        "# Accuracy\n",
        "history.history['accuracy'][-1]"
      ],
      "execution_count": 20,
      "outputs": [
        {
          "output_type": "execute_result",
          "data": {
            "text/plain": [
              "0.9090909361839294"
            ]
          },
          "metadata": {
            "tags": []
          },
          "execution_count": 20
        }
      ]
    },
    {
      "cell_type": "markdown",
      "metadata": {
        "id": "HP4jfFBvfCgT"
      },
      "source": [
        "### 모델 검증"
      ]
    },
    {
      "cell_type": "code",
      "metadata": {
        "id": "uEk-ww8ge81W"
      },
      "source": [
        "# 모델 검증용 문장을 생성하는 함수\n",
        "def sentence_generation(model, t, current_word, n): # 모델, 토크나이저, 현재 단어, 반복할 횟수\n",
        "    init_word = current_word # 처음 들어온 단어도 마지막에 같이 출력하기위해 저장\n",
        "    sentence = ''\n",
        "    for _ in range(n): # n번 반복\n",
        "        encoded = t.texts_to_sequences([current_word])[0] # 현재 단어에 대한 정수 인코딩\n",
        "        encoded = pad_sequences([encoded], maxlen=5, padding='pre') # 데이터에 대한 패딩\n",
        "        #result = model.predict_classes(encoded, verbose=0)\n",
        "        result = np.argmax(model.predict(encoded), axis=-1)\n",
        "    # 입력한 X(현재 단어)에 대해서 Y를 예측하고 Y(예측한 단어)를 result에 저장.\n",
        "        for word, index in t.word_index.items(): \n",
        "            if index == result: # 만약 예측한 단어와 인덱스와 동일한 단어가 있다면\n",
        "                break # 해당 단어가 예측 단어이므로 break\n",
        "        current_word = current_word + ' ' + word # 현재 단어 + ' ' + 예측 단어를 현재 단어로 변경\n",
        "        sentence = sentence + ' ' + word # 예측 단어를 문장에 저장\n",
        "        \n",
        "    # for문이므로 이 행동을 다시 반복\n",
        "    sentence = init_word + sentence\n",
        "    return sentence"
      ],
      "execution_count": 21,
      "outputs": []
    },
    {
      "cell_type": "code",
      "metadata": {
        "colab": {
          "base_uri": "https://localhost:8080/",
          "height": 36
        },
        "id": "jSEfRTgIfSsY",
        "outputId": "aa83238c-4180-46be-eba7-d798872220fe"
      },
      "source": [
        "sentence_generation(model, t, '경마장에', 3)    # 모델, 토크나이저, 현재 단어, 반복할 횟수"
      ],
      "execution_count": 22,
      "outputs": [
        {
          "output_type": "execute_result",
          "data": {
            "application/vnd.google.colaboratory.intrinsic+json": {
              "type": "string"
            },
            "text/plain": [
              "'경마장에 말이 말이 뛰고'"
            ]
          },
          "metadata": {
            "tags": []
          },
          "execution_count": 22
        }
      ]
    },
    {
      "cell_type": "code",
      "metadata": {
        "colab": {
          "base_uri": "https://localhost:8080/",
          "height": 36
        },
        "id": "tTJDHmuYfdlk",
        "outputId": "ba78ac79-195e-4014-9606-18d2c1f32b55"
      },
      "source": [
        "sentence_generation(model, t, '그의', 2)"
      ],
      "execution_count": 23,
      "outputs": [
        {
          "output_type": "execute_result",
          "data": {
            "application/vnd.google.colaboratory.intrinsic+json": {
              "type": "string"
            },
            "text/plain": [
              "'그의 말이 법이다'"
            ]
          },
          "metadata": {
            "tags": []
          },
          "execution_count": 23
        }
      ]
    },
    {
      "cell_type": "code",
      "metadata": {
        "colab": {
          "base_uri": "https://localhost:8080/",
          "height": 36
        },
        "id": "v0ieVZtUfqjo",
        "outputId": "f7bcd055-2589-4891-f2e1-ad82801a7348"
      },
      "source": [
        "sentence_generation(model, t, '가는', 5)"
      ],
      "execution_count": 24,
      "outputs": [
        {
          "output_type": "execute_result",
          "data": {
            "application/vnd.google.colaboratory.intrinsic+json": {
              "type": "string"
            },
            "text/plain": [
              "'가는 말이 고와야 오는 말이 곱다'"
            ]
          },
          "metadata": {
            "tags": []
          },
          "execution_count": 24
        }
      ]
    },
    {
      "cell_type": "code",
      "metadata": {
        "id": "THBO1-QBfyzx"
      },
      "source": [
        ""
      ],
      "execution_count": null,
      "outputs": []
    }
  ]
}