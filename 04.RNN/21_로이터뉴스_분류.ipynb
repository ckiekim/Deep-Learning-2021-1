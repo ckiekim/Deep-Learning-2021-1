{
  "nbformat": 4,
  "nbformat_minor": 0,
  "metadata": {
    "colab": {
      "name": "21_로이터뉴스_분류.ipynb",
      "provenance": [],
      "collapsed_sections": []
    },
    "kernelspec": {
      "name": "python3",
      "display_name": "Python 3"
    },
    "language_info": {
      "name": "python"
    },
    "accelerator": "GPU"
  },
  "cells": [
    {
      "cell_type": "markdown",
      "metadata": {
        "id": "RF7wBQmcEEOi"
      },
      "source": [
        "# LSTM을 이용한 로이터 뉴스 카테고리 분류"
      ]
    },
    {
      "cell_type": "code",
      "metadata": {
        "id": "0XqLUksaEIQI"
      },
      "source": [
        "import numpy as np\n",
        "import tensorflow as tf\n",
        "\n",
        "seed = 2021\n",
        "np.random.seed(seed)\n",
        "tf.random.set_seed(seed)"
      ],
      "execution_count": 1,
      "outputs": []
    },
    {
      "cell_type": "code",
      "metadata": {
        "colab": {
          "base_uri": "https://localhost:8080/"
        },
        "id": "3zlpY8EfEUtk",
        "outputId": "bfb98af0-2600-40dc-bf48-74e559a6f5c8"
      },
      "source": [
        "from tensorflow.keras.datasets import reuters\n",
        "(X_train, y_train), (X_test, y_test) = reuters.load_data(num_words=None, test_split=0.2)"
      ],
      "execution_count": 2,
      "outputs": [
        {
          "output_type": "stream",
          "text": [
            "Downloading data from https://storage.googleapis.com/tensorflow/tf-keras-datasets/reuters.npz\n",
            "2113536/2110848 [==============================] - 0s 0us/step\n"
          ],
          "name": "stdout"
        },
        {
          "output_type": "stream",
          "text": [
            "/usr/local/lib/python3.7/dist-packages/tensorflow/python/keras/datasets/reuters.py:148: VisibleDeprecationWarning: Creating an ndarray from ragged nested sequences (which is a list-or-tuple of lists-or-tuples-or ndarrays with different lengths or shapes) is deprecated. If you meant to do this, you must specify 'dtype=object' when creating the ndarray\n",
            "  x_train, y_train = np.array(xs[:idx]), np.array(labels[:idx])\n",
            "/usr/local/lib/python3.7/dist-packages/tensorflow/python/keras/datasets/reuters.py:149: VisibleDeprecationWarning: Creating an ndarray from ragged nested sequences (which is a list-or-tuple of lists-or-tuples-or ndarrays with different lengths or shapes) is deprecated. If you meant to do this, you must specify 'dtype=object' when creating the ndarray\n",
            "  x_test, y_test = np.array(xs[idx:]), np.array(labels[idx:])\n"
          ],
          "name": "stderr"
        }
      ]
    },
    {
      "cell_type": "code",
      "metadata": {
        "colab": {
          "base_uri": "https://localhost:8080/"
        },
        "id": "n3wDzRWZEv6y",
        "outputId": "75fca34a-63e2-4016-aa1f-552a2cf5872d"
      },
      "source": [
        "# 데이터 확인하기\n",
        "category = np.max(y_train) + 1\n",
        "print(category, '카테고리')\n",
        "print(len(X_train), len(X_test))"
      ],
      "execution_count": 3,
      "outputs": [
        {
          "output_type": "stream",
          "text": [
            "46 카테고리\n",
            "8982 2246\n"
          ],
          "name": "stdout"
        }
      ]
    },
    {
      "cell_type": "code",
      "metadata": {
        "colab": {
          "base_uri": "https://localhost:8080/"
        },
        "id": "MRkdymdCFKTx",
        "outputId": "2f41037e-4e93-40ed-c14b-8373bb7e639d"
      },
      "source": [
        "# 첫번째 뉴스기사\n",
        "print(X_train[0])"
      ],
      "execution_count": 4,
      "outputs": [
        {
          "output_type": "stream",
          "text": [
            "[1, 27595, 28842, 8, 43, 10, 447, 5, 25, 207, 270, 5, 3095, 111, 16, 369, 186, 90, 67, 7, 89, 5, 19, 102, 6, 19, 124, 15, 90, 67, 84, 22, 482, 26, 7, 48, 4, 49, 8, 864, 39, 209, 154, 6, 151, 6, 83, 11, 15, 22, 155, 11, 15, 7, 48, 9, 4579, 1005, 504, 6, 258, 6, 272, 11, 15, 22, 134, 44, 11, 15, 16, 8, 197, 1245, 90, 67, 52, 29, 209, 30, 32, 132, 6, 109, 15, 17, 12]\n"
          ],
          "name": "stdout"
        }
      ]
    },
    {
      "cell_type": "code",
      "metadata": {
        "colab": {
          "base_uri": "https://localhost:8080/"
        },
        "id": "E_uHRepZFUqu",
        "outputId": "dce22f42-973b-4792-ed41-b667d6594343"
      },
      "source": [
        "reuters.get_word_index()['the']"
      ],
      "execution_count": 5,
      "outputs": [
        {
          "output_type": "stream",
          "text": [
            "Downloading data from https://storage.googleapis.com/tensorflow/tf-keras-datasets/reuters_word_index.json\n",
            "557056/550378 [==============================] - 0s 0us/step\n"
          ],
          "name": "stdout"
        },
        {
          "output_type": "execute_result",
          "data": {
            "text/plain": [
              "1"
            ]
          },
          "metadata": {
            "tags": []
          },
          "execution_count": 5
        }
      ]
    },
    {
      "cell_type": "code",
      "metadata": {
        "colab": {
          "base_uri": "https://localhost:8080/"
        },
        "id": "3C4h42EXFiHi",
        "outputId": "b3deba59-6cb6-4248-9b55-bdeea1eeca2b"
      },
      "source": [
        "index_dict = {}\n",
        "for key, value in reuters.get_word_index().items():\n",
        "    index_dict[value] = key\n",
        "len(index_dict)"
      ],
      "execution_count": 6,
      "outputs": [
        {
          "output_type": "execute_result",
          "data": {
            "text/plain": [
              "30979"
            ]
          },
          "metadata": {
            "tags": []
          },
          "execution_count": 6
        }
      ]
    },
    {
      "cell_type": "code",
      "metadata": {
        "colab": {
          "base_uri": "https://localhost:8080/",
          "height": 36
        },
        "id": "A1QggNoFGNJQ",
        "outputId": "b448b780-2c0e-454d-ced1-ab77c4927e2d"
      },
      "source": [
        "index_dict[1]"
      ],
      "execution_count": 7,
      "outputs": [
        {
          "output_type": "execute_result",
          "data": {
            "application/vnd.google.colaboratory.intrinsic+json": {
              "type": "string"
            },
            "text/plain": [
              "'the'"
            ]
          },
          "metadata": {
            "tags": []
          },
          "execution_count": 7
        }
      ]
    },
    {
      "cell_type": "code",
      "metadata": {
        "colab": {
          "base_uri": "https://localhost:8080/",
          "height": 75
        },
        "id": "CG8sQXvcF_xz",
        "outputId": "9c56cd2b-bbec-4d83-ae2f-d5a54bddc6aa"
      },
      "source": [
        "# 첫번째 뉴스 복원\n",
        "text = ''\n",
        "for x in X_train[0]:\n",
        "    text += index_dict[x] + ' '\n",
        "text"
      ],
      "execution_count": 8,
      "outputs": [
        {
          "output_type": "execute_result",
          "data": {
            "application/vnd.google.colaboratory.intrinsic+json": {
              "type": "string"
            },
            "text/plain": [
              "'the wattie nondiscriminatory mln loss for plc said at only ended said commonwealth could 1 traders now april 0 a after said from 1985 and from foreign 000 april 0 prices its account year a but in this mln home an states earlier and rise and revs vs 000 its 16 vs 000 a but 3 psbr oils several and shareholders and dividend vs 000 its all 4 vs 000 1 mln agreed largely april 0 are 2 states will billion total and against 000 pct dlrs '"
            ]
          },
          "metadata": {
            "tags": []
          },
          "execution_count": 8
        }
      ]
    },
    {
      "cell_type": "code",
      "metadata": {
        "colab": {
          "base_uri": "https://localhost:8080/",
          "height": 75
        },
        "id": "X2iSUEsuGoSN",
        "outputId": "c7f59f65-4bc6-4a10-d00f-f031e7762ae5"
      },
      "source": [
        "' '.join(index_dict[x] for x in X_train[0])"
      ],
      "execution_count": 9,
      "outputs": [
        {
          "output_type": "execute_result",
          "data": {
            "application/vnd.google.colaboratory.intrinsic+json": {
              "type": "string"
            },
            "text/plain": [
              "'the wattie nondiscriminatory mln loss for plc said at only ended said commonwealth could 1 traders now april 0 a after said from 1985 and from foreign 000 april 0 prices its account year a but in this mln home an states earlier and rise and revs vs 000 its 16 vs 000 a but 3 psbr oils several and shareholders and dividend vs 000 its all 4 vs 000 1 mln agreed largely april 0 are 2 states will billion total and against 000 pct dlrs'"
            ]
          },
          "metadata": {
            "tags": []
          },
          "execution_count": 9
        }
      ]
    },
    {
      "cell_type": "code",
      "metadata": {
        "colab": {
          "base_uri": "https://localhost:8080/"
        },
        "id": "tJVOdn1fG1Xg",
        "outputId": "25100655-f5e4-44ec-b8ff-a9e8792fb16b"
      },
      "source": [
        "# 뉴스 기사의 최대 길이\n",
        "max(len(x) for x in X_train)"
      ],
      "execution_count": 10,
      "outputs": [
        {
          "output_type": "execute_result",
          "data": {
            "text/plain": [
              "2376"
            ]
          },
          "metadata": {
            "tags": []
          },
          "execution_count": 10
        }
      ]
    },
    {
      "cell_type": "code",
      "metadata": {
        "colab": {
          "base_uri": "https://localhost:8080/"
        },
        "id": "DTmoyA8jHYlu",
        "outputId": "4c87dbe8-96da-42a7-9662-3ca2619eedb8"
      },
      "source": [
        "# 뉴스 기사의 평균 길이\n",
        "sum(map(len, X_train)) / len(X_train)"
      ],
      "execution_count": 11,
      "outputs": [
        {
          "output_type": "execute_result",
          "data": {
            "text/plain": [
              "145.5398574927633"
            ]
          },
          "metadata": {
            "tags": []
          },
          "execution_count": 11
        }
      ]
    },
    {
      "cell_type": "code",
      "metadata": {
        "colab": {
          "base_uri": "https://localhost:8080/"
        },
        "id": "XIBRiCOyHq3B",
        "outputId": "873ad22d-bfed-470d-e1a9-3281736d9398"
      },
      "source": [
        "# 뉴스 카테고리 분포\n",
        "unique_elements, count_elements = np.unique(y_train, return_counts=True)\n",
        "unique_elements"
      ],
      "execution_count": 12,
      "outputs": [
        {
          "output_type": "execute_result",
          "data": {
            "text/plain": [
              "array([ 0,  1,  2,  3,  4,  5,  6,  7,  8,  9, 10, 11, 12, 13, 14, 15, 16,\n",
              "       17, 18, 19, 20, 21, 22, 23, 24, 25, 26, 27, 28, 29, 30, 31, 32, 33,\n",
              "       34, 35, 36, 37, 38, 39, 40, 41, 42, 43, 44, 45])"
            ]
          },
          "metadata": {
            "tags": []
          },
          "execution_count": 12
        }
      ]
    },
    {
      "cell_type": "code",
      "metadata": {
        "colab": {
          "base_uri": "https://localhost:8080/"
        },
        "id": "4Ul3s7JeIRdW",
        "outputId": "34c993dc-35d0-45ea-c1c4-c085ed2bfdaa"
      },
      "source": [
        "count_elements"
      ],
      "execution_count": 13,
      "outputs": [
        {
          "output_type": "execute_result",
          "data": {
            "text/plain": [
              "array([  55,  432,   74, 3159, 1949,   17,   48,   16,  139,  101,  124,\n",
              "        390,   49,  172,   26,   20,  444,   39,   66,  549,  269,  100,\n",
              "         15,   41,   62,   92,   24,   15,   48,   19,   45,   39,   32,\n",
              "         11,   50,   10,   49,   19,   19,   24,   36,   30,   13,   21,\n",
              "         12,   18])"
            ]
          },
          "metadata": {
            "tags": []
          },
          "execution_count": 13
        }
      ]
    },
    {
      "cell_type": "code",
      "metadata": {
        "colab": {
          "base_uri": "https://localhost:8080/"
        },
        "id": "GPniJwxPIUCs",
        "outputId": "81661135-0894-4ad9-8143-80e5fc7f90a9"
      },
      "source": [
        "label_count = dict(zip(unique_elements, count_elements))\n",
        "print(label_count)"
      ],
      "execution_count": 14,
      "outputs": [
        {
          "output_type": "stream",
          "text": [
            "{0: 55, 1: 432, 2: 74, 3: 3159, 4: 1949, 5: 17, 6: 48, 7: 16, 8: 139, 9: 101, 10: 124, 11: 390, 12: 49, 13: 172, 14: 26, 15: 20, 16: 444, 17: 39, 18: 66, 19: 549, 20: 269, 21: 100, 22: 15, 23: 41, 24: 62, 25: 92, 26: 24, 27: 15, 28: 48, 29: 19, 30: 45, 31: 39, 32: 32, 33: 11, 34: 50, 35: 10, 36: 49, 37: 19, 38: 19, 39: 24, 40: 36, 41: 30, 42: 13, 43: 21, 44: 12, 45: 18}\n"
          ],
          "name": "stdout"
        }
      ]
    },
    {
      "cell_type": "markdown",
      "metadata": {
        "id": "7luqaxPEI54A"
      },
      "source": [
        "### LSTM으로 로이터 뉴스 분류하기\n",
        "- 빈도수 3000까지 (총 단어수: 30,979)\n",
        "- 단어 140 (최대 2,376 단어)"
      ]
    },
    {
      "cell_type": "code",
      "metadata": {
        "id": "Gkm8aBK1JloU"
      },
      "source": [
        "from tensorflow.keras.preprocessing.text import Tokenizer\n",
        "from tensorflow.keras.preprocessing.sequence import pad_sequences\n",
        "from tensorflow.keras.models import Sequential, load_model\n",
        "from tensorflow.keras.layers import Dense, LSTM, Embedding\n",
        "from tensorflow.keras.utils import to_categorical\n",
        "from tensorflow.keras.callbacks import ModelCheckpoint, EarlyStopping"
      ],
      "execution_count": 15,
      "outputs": []
    },
    {
      "cell_type": "code",
      "metadata": {
        "colab": {
          "base_uri": "https://localhost:8080/"
        },
        "id": "HYG0tFWIIjEO",
        "outputId": "8fae7934-a038-4405-ecf5-2dd3b519715e"
      },
      "source": [
        "# 빈도수 3000\n",
        "(X_train, y_train), (X_test, y_test) = reuters.load_data(num_words=3000, test_split=0.2)"
      ],
      "execution_count": 16,
      "outputs": [
        {
          "output_type": "stream",
          "text": [
            "/usr/local/lib/python3.7/dist-packages/tensorflow/python/keras/datasets/reuters.py:148: VisibleDeprecationWarning: Creating an ndarray from ragged nested sequences (which is a list-or-tuple of lists-or-tuples-or ndarrays with different lengths or shapes) is deprecated. If you meant to do this, you must specify 'dtype=object' when creating the ndarray\n",
            "  x_train, y_train = np.array(xs[:idx]), np.array(labels[:idx])\n",
            "/usr/local/lib/python3.7/dist-packages/tensorflow/python/keras/datasets/reuters.py:149: VisibleDeprecationWarning: Creating an ndarray from ragged nested sequences (which is a list-or-tuple of lists-or-tuples-or ndarrays with different lengths or shapes) is deprecated. If you meant to do this, you must specify 'dtype=object' when creating the ndarray\n",
            "  x_test, y_test = np.array(xs[idx:]), np.array(labels[idx:])\n"
          ],
          "name": "stderr"
        }
      ]
    },
    {
      "cell_type": "code",
      "metadata": {
        "id": "jGpZwPyUJbh2"
      },
      "source": [
        "# 문장당 단어수 140\n",
        "max_len = 140\n",
        "X_train = pad_sequences(X_train, maxlen=max_len)\n",
        "X_test = pad_sequences(X_test, maxlen=max_len)"
      ],
      "execution_count": 17,
      "outputs": []
    },
    {
      "cell_type": "code",
      "metadata": {
        "id": "RFzfNIqfKRJm"
      },
      "source": [
        "# One-hot encoding\n",
        "Y_train = to_categorical(y_train)\n",
        "Y_test = to_categorical(y_test)"
      ],
      "execution_count": 18,
      "outputs": []
    },
    {
      "cell_type": "code",
      "metadata": {
        "colab": {
          "base_uri": "https://localhost:8080/"
        },
        "id": "UPGYnkzqK8gI",
        "outputId": "c4212d2b-d587-4a05-816d-7545ad75f746"
      },
      "source": [
        "# Model 정의\n",
        "model = Sequential([ \n",
        "    Embedding(3000, 120),\n",
        "    LSTM(120),\n",
        "    Dense(46, activation='softmax')                \n",
        "])\n",
        "model.summary()"
      ],
      "execution_count": 19,
      "outputs": [
        {
          "output_type": "stream",
          "text": [
            "Model: \"sequential\"\n",
            "_________________________________________________________________\n",
            "Layer (type)                 Output Shape              Param #   \n",
            "=================================================================\n",
            "embedding (Embedding)        (None, None, 120)         360000    \n",
            "_________________________________________________________________\n",
            "lstm (LSTM)                  (None, 120)               115680    \n",
            "_________________________________________________________________\n",
            "dense (Dense)                (None, 46)                5566      \n",
            "=================================================================\n",
            "Total params: 481,246\n",
            "Trainable params: 481,246\n",
            "Non-trainable params: 0\n",
            "_________________________________________________________________\n"
          ],
          "name": "stdout"
        }
      ]
    },
    {
      "cell_type": "code",
      "metadata": {
        "id": "5sdB_vIVLb4f"
      },
      "source": [
        "# 모델 설정\n",
        "model.compile(loss='categorical_crossentropy', optimizer='adam', metrics=['accuracy'])"
      ],
      "execution_count": 20,
      "outputs": []
    },
    {
      "cell_type": "code",
      "metadata": {
        "id": "-QluAj7cLraA"
      },
      "source": [
        "# Callback 함수 정의\n",
        "model_path = 'reuter-best-lstm.hdf5'\n",
        "checkpoint = ModelCheckpoint(model_path, monitor='val_loss', verbose=1, save_best_only=True)\n",
        "early_stopping = EarlyStopping(monitor='val_loss', patience=10)"
      ],
      "execution_count": 21,
      "outputs": []
    },
    {
      "cell_type": "code",
      "metadata": {
        "colab": {
          "base_uri": "https://localhost:8080/"
        },
        "id": "TsCn__j0Mhqh",
        "outputId": "0d43839f-e5a2-42a6-ba97-ab9ebd5320f9"
      },
      "source": [
        "# 모델 학습\n",
        "history = model.fit(X_train, Y_train, batch_size=100, epochs=50,\n",
        "                    validation_split=0.2, verbose=2,\n",
        "                    callbacks=[checkpoint,early_stopping])"
      ],
      "execution_count": 22,
      "outputs": [
        {
          "output_type": "stream",
          "text": [
            "Epoch 1/50\n",
            "72/72 - 34s - loss: 2.6490 - accuracy: 0.3545 - val_loss: 2.4211 - val_accuracy: 0.3450\n",
            "\n",
            "Epoch 00001: val_loss improved from inf to 2.42112, saving model to reuter-best-lstm.hdf5\n",
            "Epoch 2/50\n",
            "72/72 - 3s - loss: 2.1790 - accuracy: 0.4409 - val_loss: 1.8970 - val_accuracy: 0.5003\n",
            "\n",
            "Epoch 00002: val_loss improved from 2.42112 to 1.89696, saving model to reuter-best-lstm.hdf5\n",
            "Epoch 3/50\n",
            "72/72 - 3s - loss: 1.8907 - accuracy: 0.5176 - val_loss: 1.7564 - val_accuracy: 0.5392\n",
            "\n",
            "Epoch 00003: val_loss improved from 1.89696 to 1.75643, saving model to reuter-best-lstm.hdf5\n",
            "Epoch 4/50\n",
            "72/72 - 3s - loss: 1.6838 - accuracy: 0.5656 - val_loss: 1.6560 - val_accuracy: 0.5821\n",
            "\n",
            "Epoch 00004: val_loss improved from 1.75643 to 1.65602, saving model to reuter-best-lstm.hdf5\n",
            "Epoch 5/50\n",
            "72/72 - 3s - loss: 1.5663 - accuracy: 0.6033 - val_loss: 1.5830 - val_accuracy: 0.5977\n",
            "\n",
            "Epoch 00005: val_loss improved from 1.65602 to 1.58303, saving model to reuter-best-lstm.hdf5\n",
            "Epoch 6/50\n",
            "72/72 - 3s - loss: 1.4554 - accuracy: 0.6242 - val_loss: 1.5209 - val_accuracy: 0.6183\n",
            "\n",
            "Epoch 00006: val_loss improved from 1.58303 to 1.52090, saving model to reuter-best-lstm.hdf5\n",
            "Epoch 7/50\n",
            "72/72 - 3s - loss: 1.3731 - accuracy: 0.6440 - val_loss: 1.4757 - val_accuracy: 0.6266\n",
            "\n",
            "Epoch 00007: val_loss improved from 1.52090 to 1.47572, saving model to reuter-best-lstm.hdf5\n",
            "Epoch 8/50\n",
            "72/72 - 3s - loss: 1.3226 - accuracy: 0.6576 - val_loss: 1.4586 - val_accuracy: 0.6372\n",
            "\n",
            "Epoch 00008: val_loss improved from 1.47572 to 1.45856, saving model to reuter-best-lstm.hdf5\n",
            "Epoch 9/50\n",
            "72/72 - 3s - loss: 1.2095 - accuracy: 0.6894 - val_loss: 1.4247 - val_accuracy: 0.6533\n",
            "\n",
            "Epoch 00009: val_loss improved from 1.45856 to 1.42470, saving model to reuter-best-lstm.hdf5\n",
            "Epoch 10/50\n",
            "72/72 - 3s - loss: 1.1259 - accuracy: 0.7127 - val_loss: 1.4205 - val_accuracy: 0.6605\n",
            "\n",
            "Epoch 00010: val_loss improved from 1.42470 to 1.42054, saving model to reuter-best-lstm.hdf5\n",
            "Epoch 11/50\n",
            "72/72 - 3s - loss: 1.0391 - accuracy: 0.7315 - val_loss: 1.3873 - val_accuracy: 0.6656\n",
            "\n",
            "Epoch 00011: val_loss improved from 1.42054 to 1.38734, saving model to reuter-best-lstm.hdf5\n",
            "Epoch 12/50\n",
            "72/72 - 3s - loss: 0.9430 - accuracy: 0.7587 - val_loss: 1.3703 - val_accuracy: 0.6856\n",
            "\n",
            "Epoch 00012: val_loss improved from 1.38734 to 1.37031, saving model to reuter-best-lstm.hdf5\n",
            "Epoch 13/50\n",
            "72/72 - 3s - loss: 0.8441 - accuracy: 0.7822 - val_loss: 1.3439 - val_accuracy: 0.6906\n",
            "\n",
            "Epoch 00013: val_loss improved from 1.37031 to 1.34392, saving model to reuter-best-lstm.hdf5\n",
            "Epoch 14/50\n",
            "72/72 - 3s - loss: 0.7467 - accuracy: 0.8071 - val_loss: 1.2867 - val_accuracy: 0.7112\n",
            "\n",
            "Epoch 00014: val_loss improved from 1.34392 to 1.28665, saving model to reuter-best-lstm.hdf5\n",
            "Epoch 15/50\n",
            "72/72 - 3s - loss: 0.6567 - accuracy: 0.8285 - val_loss: 1.2907 - val_accuracy: 0.7123\n",
            "\n",
            "Epoch 00015: val_loss did not improve from 1.28665\n",
            "Epoch 16/50\n",
            "72/72 - 3s - loss: 0.5733 - accuracy: 0.8582 - val_loss: 1.3203 - val_accuracy: 0.7078\n",
            "\n",
            "Epoch 00016: val_loss did not improve from 1.28665\n",
            "Epoch 17/50\n",
            "72/72 - 3s - loss: 0.5087 - accuracy: 0.8752 - val_loss: 1.3385 - val_accuracy: 0.7134\n",
            "\n",
            "Epoch 00017: val_loss did not improve from 1.28665\n",
            "Epoch 18/50\n",
            "72/72 - 3s - loss: 0.4582 - accuracy: 0.8852 - val_loss: 1.3263 - val_accuracy: 0.7179\n",
            "\n",
            "Epoch 00018: val_loss did not improve from 1.28665\n",
            "Epoch 19/50\n",
            "72/72 - 3s - loss: 0.3990 - accuracy: 0.9016 - val_loss: 1.3648 - val_accuracy: 0.7134\n",
            "\n",
            "Epoch 00019: val_loss did not improve from 1.28665\n",
            "Epoch 20/50\n",
            "72/72 - 3s - loss: 0.3687 - accuracy: 0.9087 - val_loss: 1.4358 - val_accuracy: 0.7073\n",
            "\n",
            "Epoch 00020: val_loss did not improve from 1.28665\n",
            "Epoch 21/50\n",
            "72/72 - 3s - loss: 0.3280 - accuracy: 0.9198 - val_loss: 1.4251 - val_accuracy: 0.7006\n",
            "\n",
            "Epoch 00021: val_loss did not improve from 1.28665\n",
            "Epoch 22/50\n",
            "72/72 - 3s - loss: 0.2876 - accuracy: 0.9297 - val_loss: 1.4709 - val_accuracy: 0.7184\n",
            "\n",
            "Epoch 00022: val_loss did not improve from 1.28665\n",
            "Epoch 23/50\n",
            "72/72 - 3s - loss: 0.2546 - accuracy: 0.9378 - val_loss: 1.5129 - val_accuracy: 0.7206\n",
            "\n",
            "Epoch 00023: val_loss did not improve from 1.28665\n",
            "Epoch 24/50\n",
            "72/72 - 3s - loss: 0.2398 - accuracy: 0.9378 - val_loss: 1.5343 - val_accuracy: 0.7023\n",
            "\n",
            "Epoch 00024: val_loss did not improve from 1.28665\n"
          ],
          "name": "stdout"
        }
      ]
    },
    {
      "cell_type": "code",
      "metadata": {
        "colab": {
          "base_uri": "https://localhost:8080/"
        },
        "id": "QPb08VVmM8lp",
        "outputId": "8bc8e61f-8357-45c7-d2b7-25be17876abb"
      },
      "source": [
        "best_model = load_model(model_path)\n",
        "_, acc = best_model.evaluate(X_test, Y_test)\n",
        "print(f'Accuracy: {acc:.4f}')"
      ],
      "execution_count": 23,
      "outputs": [
        {
          "output_type": "stream",
          "text": [
            "71/71 [==============================] - 1s 14ms/step - loss: 1.3104 - accuracy: 0.6995\n",
            "Accuracy: 0.6995\n"
          ],
          "name": "stdout"
        }
      ]
    },
    {
      "cell_type": "markdown",
      "metadata": {
        "id": "IBROGfzXOOjE"
      },
      "source": [
        "### 훈련 과정 시각화"
      ]
    },
    {
      "cell_type": "code",
      "metadata": {
        "id": "6dtcMeEJOIMU"
      },
      "source": [
        "import matplotlib.pyplot as plt\n",
        "%matplotlib inline"
      ],
      "execution_count": 24,
      "outputs": []
    },
    {
      "cell_type": "code",
      "metadata": {
        "id": "fZSL9MYAOWdM"
      },
      "source": [
        "# 학습셋\n",
        "y_acc = history.history['accuracy']\n",
        "y_loss = history.history['loss']\n",
        "# 검증셋\n",
        "y_vacc = history.history['val_accuracy']\n",
        "y_vloss = history.history['val_loss']"
      ],
      "execution_count": 25,
      "outputs": []
    },
    {
      "cell_type": "code",
      "metadata": {
        "colab": {
          "base_uri": "https://localhost:8080/",
          "height": 497
        },
        "id": "rWzZGp2qOuWe",
        "outputId": "56a2145f-aad2-4315-834a-4b9626241262"
      },
      "source": [
        "x_len = np.arange(1, len(y_acc)+1)\n",
        "fig, ax0 = plt.subplots(figsize=(10,8))\n",
        "ax1 = ax0.twinx()\n",
        "ax0.plot(x_len, y_loss, c=\"blue\", label='train set loss')\n",
        "ax0.plot(x_len, y_vloss, c=\"red\", label='val set loss')\n",
        "ax0.set_ylabel('loss')\n",
        "ax1.plot(x_len, y_acc, c=\"darkgreen\", label='train set acc')\n",
        "ax1.plot(x_len, y_vacc, c=\"magenta\", label='val set acc')\n",
        "ax1.set_ylabel('accuracy')\n",
        "ax0.set_xlabel('epoch')\n",
        "ax0.legend(loc='lower center')\n",
        "ax1.legend(loc='upper center')\n",
        "plt.grid()\n",
        "plt.show()"
      ],
      "execution_count": 26,
      "outputs": [
        {
          "output_type": "display_data",
          "data": {
            "image/png": "[encoded data removed]",
            "text/plain": [
              "<Figure size 720x576 with 2 Axes>"
            ]
          },
          "metadata": {
            "tags": [],
            "needs_background": "light"
          }
        }
      ]
    }
  ]
}