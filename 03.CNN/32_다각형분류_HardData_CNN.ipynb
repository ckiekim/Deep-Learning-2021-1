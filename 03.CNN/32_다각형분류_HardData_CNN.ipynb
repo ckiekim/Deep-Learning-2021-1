{
  "nbformat": 4,
  "nbformat_minor": 0,
  "metadata": {
    "colab": {
      "name": "32_다각형분류_HardData_CNN.ipynb",
      "provenance": [],
      "collapsed_sections": []
    },
    "kernelspec": {
      "name": "python3",
      "display_name": "Python 3"
    },
    "language_info": {
      "name": "python"
    }
  },
  "cells": [
    {
      "cell_type": "markdown",
      "metadata": {
        "id": "6sXePone-R0o"
      },
      "source": [
        "# 원, 사각형, 삼각형 구분하기"
      ]
    },
    {
      "cell_type": "markdown",
      "metadata": {
        "id": "khUxppOL_XSe"
      },
      "source": [
        "## 2. 어려운 테스트 문제를 기존 CNN 모델로 푸는 경우"
      ]
    },
    {
      "cell_type": "code",
      "metadata": {
        "id": "OTyHn2on_Hmt"
      },
      "source": [
        "import numpy as np\n",
        "import tensorflow as tf\n",
        "from tensorflow.keras.models import Sequential\n",
        "from tensorflow.keras.layers import Dense, Conv2D, Flatten, MaxPooling2D\n",
        "from tensorflow.keras.preprocessing.image import ImageDataGenerator"
      ],
      "execution_count": 1,
      "outputs": []
    },
    {
      "cell_type": "code",
      "metadata": {
        "id": "YKhBJF-n_3yg"
      },
      "source": [
        "seed = 2021\n",
        "np.random.seed(seed)\n",
        "tf.random.set_seed(seed)"
      ],
      "execution_count": 2,
      "outputs": []
    },
    {
      "cell_type": "markdown",
      "metadata": {
        "id": "55-ng3G6AGjv"
      },
      "source": [
        "### 데이터셋 생성하기"
      ]
    },
    {
      "cell_type": "code",
      "metadata": {
        "colab": {
          "base_uri": "https://localhost:8080/"
        },
        "id": "8_N_NuHi_-VD",
        "outputId": "9a519e35-34e1-4db4-85fa-7204270e7101"
      },
      "source": [
        "train_datagen = ImageDataGenerator(rescale=1./255)\n",
        "train_generator = train_datagen.flow_from_directory(\n",
        "    'hard_handwriting_shape/train',\n",
        "    target_size=(24,24),\n",
        "    batch_size=3,\n",
        "    class_mode='categorical'\n",
        ")"
      ],
      "execution_count": 3,
      "outputs": [
        {
          "output_type": "stream",
          "text": [
            "Found 45 images belonging to 3 classes.\n"
          ],
          "name": "stdout"
        }
      ]
    },
    {
      "cell_type": "code",
      "metadata": {
        "colab": {
          "base_uri": "https://localhost:8080/"
        },
        "id": "3HffLYb4BT6r",
        "outputId": "9dfe2ce2-c4eb-426c-97b2-49760c23750f"
      },
      "source": [
        "test_datagen = ImageDataGenerator(rescale=1./255)\n",
        "test_generator = test_datagen.flow_from_directory(\n",
        "    'hard_handwriting_shape/test',\n",
        "    target_size=(24,24),\n",
        "    batch_size=3,\n",
        "    class_mode='categorical'\n",
        ")"
      ],
      "execution_count": 4,
      "outputs": [
        {
          "output_type": "stream",
          "text": [
            "Found 15 images belonging to 3 classes.\n"
          ],
          "name": "stdout"
        }
      ]
    },
    {
      "cell_type": "markdown",
      "metadata": {
        "id": "0fuL01EGCG0x"
      },
      "source": [
        "### 모델 정의/설정"
      ]
    },
    {
      "cell_type": "code",
      "metadata": {
        "colab": {
          "base_uri": "https://localhost:8080/"
        },
        "id": "Aa2AuyL8B74u",
        "outputId": "e7d35dce-0c19-447f-f6c5-1126fcfbd256"
      },
      "source": [
        "model = Sequential([\n",
        "    Conv2D(32, (3,3), activation='relu', input_shape=(24,24,3)),\n",
        "    Conv2D(64, (3,3), activation='relu'),\n",
        "    MaxPooling2D(),\n",
        "    Flatten(),\n",
        "    Dense(128, activation='relu'),\n",
        "    Dense(3, activation='softmax')             \n",
        "])\n",
        "model.summary()"
      ],
      "execution_count": 6,
      "outputs": [
        {
          "output_type": "stream",
          "text": [
            "Model: \"sequential\"\n",
            "_________________________________________________________________\n",
            "Layer (type)                 Output Shape              Param #   \n",
            "=================================================================\n",
            "conv2d (Conv2D)              (None, 22, 22, 32)        896       \n",
            "_________________________________________________________________\n",
            "conv2d_1 (Conv2D)            (None, 20, 20, 64)        18496     \n",
            "_________________________________________________________________\n",
            "max_pooling2d (MaxPooling2D) (None, 10, 10, 64)        0         \n",
            "_________________________________________________________________\n",
            "flatten (Flatten)            (None, 6400)              0         \n",
            "_________________________________________________________________\n",
            "dense (Dense)                (None, 128)               819328    \n",
            "_________________________________________________________________\n",
            "dense_1 (Dense)              (None, 3)                 387       \n",
            "=================================================================\n",
            "Total params: 839,107\n",
            "Trainable params: 839,107\n",
            "Non-trainable params: 0\n",
            "_________________________________________________________________\n"
          ],
          "name": "stdout"
        }
      ]
    },
    {
      "cell_type": "code",
      "metadata": {
        "id": "0LBUnDv_C1mY"
      },
      "source": [
        "model.compile(loss='categorical_crossentropy', optimizer='adam', metrics=['accuracy'])"
      ],
      "execution_count": 7,
      "outputs": []
    },
    {
      "cell_type": "markdown",
      "metadata": {
        "id": "1xnrJZOlDHRz"
      },
      "source": [
        "### 모델 학습\n",
        "- 첫번째 인자 : 훈련데이터셋을 제공할 제네레이터를 지정. 본 예제에서는 앞서 생성한 train_generator으로 지정.\n",
        "- steps_per_epoch : 한 epoch에 사용할 스텝 수를 지정. 총 45개의 훈련 샘플이 있고 배치사이즈가 3이므로 15 스텝으로 지정.\n",
        "- epochs : 전체 훈련 데이터셋에 대해 학습 반복 횟수를 지정. 50번을 반복적으로 학습.\n",
        "- validation_data : 검증데이터셋을 제공할 제네레이터를 지정. 본 예제에서는 앞서 생성한 test_generator으로 지정.\n",
        "- validation_steps : 한 epoch 종료 시 마다 검증할 때 사용되는 검증 스텝 수를 지정. 총 15개의 검증 샘플이 있고 배치사이즈가 3이므로 5 스텝으로 지정."
      ]
    },
    {
      "cell_type": "code",
      "metadata": {
        "colab": {
          "base_uri": "https://localhost:8080/"
        },
        "id": "d8XuBTwRDExC",
        "outputId": "c7c8762d-a966-4af3-e3b9-b0a42840068e"
      },
      "source": [
        "model.fit_generator(\n",
        "    train_generator,\n",
        "    steps_per_epoch=15,\n",
        "    epochs=200,\n",
        "    validation_data=test_generator,\n",
        "    validation_steps=5\n",
        ")"
      ],
      "execution_count": 8,
      "outputs": [
        {
          "output_type": "stream",
          "text": [
            "/usr/local/lib/python3.7/dist-packages/tensorflow/python/keras/engine/training.py:1844: UserWarning: `Model.fit_generator` is deprecated and will be removed in a future version. Please use `Model.fit`, which supports generators.\n",
            "  warnings.warn('`Model.fit_generator` is deprecated and '\n"
          ],
          "name": "stderr"
        },
        {
          "output_type": "stream",
          "text": [
            "Epoch 1/200\n",
            "15/15 [==============================] - 1s 56ms/step - loss: 1.3222 - accuracy: 0.2845 - val_loss: 1.2490 - val_accuracy: 0.3333\n",
            "Epoch 2/200\n",
            "15/15 [==============================] - 0s 20ms/step - loss: 0.2612 - accuracy: 0.9677 - val_loss: 2.8576 - val_accuracy: 0.3333\n",
            "Epoch 3/200\n",
            "15/15 [==============================] - 0s 19ms/step - loss: 0.0212 - accuracy: 1.0000 - val_loss: 3.4249 - val_accuracy: 0.4000\n",
            "Epoch 4/200\n",
            "15/15 [==============================] - 0s 20ms/step - loss: 0.0012 - accuracy: 1.0000 - val_loss: 3.4533 - val_accuracy: 0.4000\n",
            "Epoch 5/200\n",
            "15/15 [==============================] - 0s 19ms/step - loss: 0.0016 - accuracy: 1.0000 - val_loss: 3.9770 - val_accuracy: 0.4000\n",
            "Epoch 6/200\n",
            "15/15 [==============================] - 0s 20ms/step - loss: 2.3953e-04 - accuracy: 1.0000 - val_loss: 4.2455 - val_accuracy: 0.4000\n",
            "Epoch 7/200\n",
            "15/15 [==============================] - 0s 20ms/step - loss: 1.2144e-04 - accuracy: 1.0000 - val_loss: 4.3216 - val_accuracy: 0.4000\n",
            "Epoch 8/200\n",
            "15/15 [==============================] - 0s 20ms/step - loss: 1.3739e-04 - accuracy: 1.0000 - val_loss: 4.3590 - val_accuracy: 0.4000\n",
            "Epoch 9/200\n",
            "15/15 [==============================] - 0s 20ms/step - loss: 1.2091e-04 - accuracy: 1.0000 - val_loss: 4.4353 - val_accuracy: 0.4000\n",
            "Epoch 10/200\n",
            "15/15 [==============================] - 0s 20ms/step - loss: 9.8496e-05 - accuracy: 1.0000 - val_loss: 4.5994 - val_accuracy: 0.4000\n",
            "Epoch 11/200\n",
            "15/15 [==============================] - 0s 20ms/step - loss: 6.0534e-05 - accuracy: 1.0000 - val_loss: 4.6577 - val_accuracy: 0.4000\n",
            "Epoch 12/200\n",
            "15/15 [==============================] - 0s 20ms/step - loss: 6.0636e-05 - accuracy: 1.0000 - val_loss: 4.6950 - val_accuracy: 0.4000\n",
            "Epoch 13/200\n",
            "15/15 [==============================] - 0s 20ms/step - loss: 8.8123e-05 - accuracy: 1.0000 - val_loss: 4.7320 - val_accuracy: 0.4000\n",
            "Epoch 14/200\n",
            "15/15 [==============================] - 0s 19ms/step - loss: 5.9379e-05 - accuracy: 1.0000 - val_loss: 4.7836 - val_accuracy: 0.4000\n",
            "Epoch 15/200\n",
            "15/15 [==============================] - 0s 20ms/step - loss: 4.3041e-05 - accuracy: 1.0000 - val_loss: 4.8362 - val_accuracy: 0.4000\n",
            "Epoch 16/200\n",
            "15/15 [==============================] - 0s 20ms/step - loss: 3.1389e-05 - accuracy: 1.0000 - val_loss: 4.9209 - val_accuracy: 0.4000\n",
            "Epoch 17/200\n",
            "15/15 [==============================] - 0s 21ms/step - loss: 4.1081e-05 - accuracy: 1.0000 - val_loss: 4.9629 - val_accuracy: 0.4000\n",
            "Epoch 18/200\n",
            "15/15 [==============================] - 0s 20ms/step - loss: 3.1782e-05 - accuracy: 1.0000 - val_loss: 5.0234 - val_accuracy: 0.4000\n",
            "Epoch 19/200\n",
            "15/15 [==============================] - 0s 19ms/step - loss: 2.8274e-05 - accuracy: 1.0000 - val_loss: 5.0217 - val_accuracy: 0.4000\n",
            "Epoch 20/200\n",
            "15/15 [==============================] - 0s 21ms/step - loss: 2.7873e-05 - accuracy: 1.0000 - val_loss: 5.0463 - val_accuracy: 0.4000\n",
            "Epoch 21/200\n",
            "15/15 [==============================] - 0s 20ms/step - loss: 2.8765e-05 - accuracy: 1.0000 - val_loss: 5.0674 - val_accuracy: 0.4000\n",
            "Epoch 22/200\n",
            "15/15 [==============================] - 0s 21ms/step - loss: 2.7996e-05 - accuracy: 1.0000 - val_loss: 5.0718 - val_accuracy: 0.4000\n",
            "Epoch 23/200\n",
            "15/15 [==============================] - 0s 21ms/step - loss: 2.3061e-05 - accuracy: 1.0000 - val_loss: 5.1201 - val_accuracy: 0.4000\n",
            "Epoch 24/200\n",
            "15/15 [==============================] - 0s 20ms/step - loss: 2.1172e-05 - accuracy: 1.0000 - val_loss: 5.1236 - val_accuracy: 0.4000\n",
            "Epoch 25/200\n",
            "15/15 [==============================] - 0s 19ms/step - loss: 2.3173e-05 - accuracy: 1.0000 - val_loss: 5.1737 - val_accuracy: 0.4000\n",
            "Epoch 26/200\n",
            "15/15 [==============================] - 0s 20ms/step - loss: 1.8915e-05 - accuracy: 1.0000 - val_loss: 5.1740 - val_accuracy: 0.4000\n",
            "Epoch 27/200\n",
            "15/15 [==============================] - 0s 19ms/step - loss: 2.0561e-05 - accuracy: 1.0000 - val_loss: 5.2061 - val_accuracy: 0.4000\n",
            "Epoch 28/200\n",
            "15/15 [==============================] - 0s 20ms/step - loss: 1.9602e-05 - accuracy: 1.0000 - val_loss: 5.2297 - val_accuracy: 0.4000\n",
            "Epoch 29/200\n",
            "15/15 [==============================] - 0s 19ms/step - loss: 1.2226e-05 - accuracy: 1.0000 - val_loss: 5.2685 - val_accuracy: 0.4000\n",
            "Epoch 30/200\n",
            "15/15 [==============================] - 0s 20ms/step - loss: 1.1825e-05 - accuracy: 1.0000 - val_loss: 5.2726 - val_accuracy: 0.4000\n",
            "Epoch 31/200\n",
            "15/15 [==============================] - 0s 20ms/step - loss: 1.1428e-05 - accuracy: 1.0000 - val_loss: 5.2817 - val_accuracy: 0.4000\n",
            "Epoch 32/200\n",
            "15/15 [==============================] - 0s 20ms/step - loss: 1.3987e-05 - accuracy: 1.0000 - val_loss: 5.2994 - val_accuracy: 0.4000\n",
            "Epoch 33/200\n",
            "15/15 [==============================] - 0s 19ms/step - loss: 1.2971e-05 - accuracy: 1.0000 - val_loss: 5.3524 - val_accuracy: 0.4000\n",
            "Epoch 34/200\n",
            "15/15 [==============================] - 0s 19ms/step - loss: 1.0052e-05 - accuracy: 1.0000 - val_loss: 5.3512 - val_accuracy: 0.4000\n",
            "Epoch 35/200\n",
            "15/15 [==============================] - 0s 20ms/step - loss: 1.6207e-05 - accuracy: 1.0000 - val_loss: 5.3746 - val_accuracy: 0.4000\n",
            "Epoch 36/200\n",
            "15/15 [==============================] - 0s 21ms/step - loss: 1.2974e-05 - accuracy: 1.0000 - val_loss: 5.3811 - val_accuracy: 0.4000\n",
            "Epoch 37/200\n",
            "15/15 [==============================] - 0s 20ms/step - loss: 1.4149e-05 - accuracy: 1.0000 - val_loss: 5.4040 - val_accuracy: 0.4000\n",
            "Epoch 38/200\n",
            "15/15 [==============================] - 0s 20ms/step - loss: 1.4401e-05 - accuracy: 1.0000 - val_loss: 5.4268 - val_accuracy: 0.4000\n",
            "Epoch 39/200\n",
            "15/15 [==============================] - 0s 20ms/step - loss: 1.1962e-05 - accuracy: 1.0000 - val_loss: 5.4513 - val_accuracy: 0.4000\n",
            "Epoch 40/200\n",
            "15/15 [==============================] - 0s 21ms/step - loss: 1.0150e-05 - accuracy: 1.0000 - val_loss: 5.4793 - val_accuracy: 0.4000\n",
            "Epoch 41/200\n",
            "15/15 [==============================] - 0s 19ms/step - loss: 5.4710e-06 - accuracy: 1.0000 - val_loss: 5.4950 - val_accuracy: 0.4000\n",
            "Epoch 42/200\n",
            "15/15 [==============================] - 0s 20ms/step - loss: 1.1234e-05 - accuracy: 1.0000 - val_loss: 5.5007 - val_accuracy: 0.4000\n",
            "Epoch 43/200\n",
            "15/15 [==============================] - 0s 20ms/step - loss: 6.8920e-06 - accuracy: 1.0000 - val_loss: 5.5254 - val_accuracy: 0.4000\n",
            "Epoch 44/200\n",
            "15/15 [==============================] - 0s 21ms/step - loss: 6.4877e-06 - accuracy: 1.0000 - val_loss: 5.5349 - val_accuracy: 0.4000\n",
            "Epoch 45/200\n",
            "15/15 [==============================] - 0s 21ms/step - loss: 4.5792e-06 - accuracy: 1.0000 - val_loss: 5.5476 - val_accuracy: 0.4000\n",
            "Epoch 46/200\n",
            "15/15 [==============================] - 0s 21ms/step - loss: 7.0754e-06 - accuracy: 1.0000 - val_loss: 5.5814 - val_accuracy: 0.4000\n",
            "Epoch 47/200\n",
            "15/15 [==============================] - 0s 20ms/step - loss: 5.2128e-06 - accuracy: 1.0000 - val_loss: 5.5815 - val_accuracy: 0.4000\n",
            "Epoch 48/200\n",
            "15/15 [==============================] - 0s 20ms/step - loss: 6.8385e-06 - accuracy: 1.0000 - val_loss: 5.5856 - val_accuracy: 0.4000\n",
            "Epoch 49/200\n",
            "15/15 [==============================] - 0s 21ms/step - loss: 5.6565e-06 - accuracy: 1.0000 - val_loss: 5.6125 - val_accuracy: 0.4000\n",
            "Epoch 50/200\n",
            "15/15 [==============================] - 0s 21ms/step - loss: 6.5003e-06 - accuracy: 1.0000 - val_loss: 5.6320 - val_accuracy: 0.4000\n",
            "Epoch 51/200\n",
            "15/15 [==============================] - 0s 21ms/step - loss: 5.4737e-06 - accuracy: 1.0000 - val_loss: 5.6510 - val_accuracy: 0.4000\n",
            "Epoch 52/200\n",
            "15/15 [==============================] - 0s 22ms/step - loss: 5.8898e-06 - accuracy: 1.0000 - val_loss: 5.6686 - val_accuracy: 0.4000\n",
            "Epoch 53/200\n",
            "15/15 [==============================] - 0s 21ms/step - loss: 6.6605e-06 - accuracy: 1.0000 - val_loss: 5.6779 - val_accuracy: 0.4000\n",
            "Epoch 54/200\n",
            "15/15 [==============================] - 0s 20ms/step - loss: 6.3477e-06 - accuracy: 1.0000 - val_loss: 5.6896 - val_accuracy: 0.4000\n",
            "Epoch 55/200\n",
            "15/15 [==============================] - 0s 19ms/step - loss: 4.7857e-06 - accuracy: 1.0000 - val_loss: 5.7098 - val_accuracy: 0.4000\n",
            "Epoch 56/200\n",
            "15/15 [==============================] - 0s 20ms/step - loss: 3.2074e-06 - accuracy: 1.0000 - val_loss: 5.7230 - val_accuracy: 0.4000\n",
            "Epoch 57/200\n",
            "15/15 [==============================] - 0s 21ms/step - loss: 6.1028e-06 - accuracy: 1.0000 - val_loss: 5.7312 - val_accuracy: 0.4000\n",
            "Epoch 58/200\n",
            "15/15 [==============================] - 0s 20ms/step - loss: 3.1614e-06 - accuracy: 1.0000 - val_loss: 5.7598 - val_accuracy: 0.4000\n",
            "Epoch 59/200\n",
            "15/15 [==============================] - 0s 20ms/step - loss: 4.0569e-06 - accuracy: 1.0000 - val_loss: 5.7578 - val_accuracy: 0.4000\n",
            "Epoch 60/200\n",
            "15/15 [==============================] - 0s 20ms/step - loss: 4.2659e-06 - accuracy: 1.0000 - val_loss: 5.7946 - val_accuracy: 0.4000\n",
            "Epoch 61/200\n",
            "15/15 [==============================] - 0s 20ms/step - loss: 4.8893e-06 - accuracy: 1.0000 - val_loss: 5.8048 - val_accuracy: 0.4000\n",
            "Epoch 62/200\n",
            "15/15 [==============================] - 0s 20ms/step - loss: 2.7574e-06 - accuracy: 1.0000 - val_loss: 5.8104 - val_accuracy: 0.4000\n",
            "Epoch 63/200\n",
            "15/15 [==============================] - 0s 23ms/step - loss: 4.2120e-06 - accuracy: 1.0000 - val_loss: 5.8188 - val_accuracy: 0.4000\n",
            "Epoch 64/200\n",
            "15/15 [==============================] - 0s 20ms/step - loss: 3.6645e-06 - accuracy: 1.0000 - val_loss: 5.8486 - val_accuracy: 0.4000\n",
            "Epoch 65/200\n",
            "15/15 [==============================] - 0s 21ms/step - loss: 2.5445e-06 - accuracy: 1.0000 - val_loss: 5.8713 - val_accuracy: 0.4000\n",
            "Epoch 66/200\n",
            "15/15 [==============================] - 0s 20ms/step - loss: 4.0268e-06 - accuracy: 1.0000 - val_loss: 5.8537 - val_accuracy: 0.4000\n",
            "Epoch 67/200\n",
            "15/15 [==============================] - 0s 21ms/step - loss: 2.2424e-06 - accuracy: 1.0000 - val_loss: 5.8707 - val_accuracy: 0.4000\n",
            "Epoch 68/200\n",
            "15/15 [==============================] - 0s 21ms/step - loss: 2.8391e-06 - accuracy: 1.0000 - val_loss: 5.8878 - val_accuracy: 0.4000\n",
            "Epoch 69/200\n",
            "15/15 [==============================] - 0s 22ms/step - loss: 2.0834e-06 - accuracy: 1.0000 - val_loss: 5.8985 - val_accuracy: 0.4000\n",
            "Epoch 70/200\n",
            "15/15 [==============================] - 0s 20ms/step - loss: 3.3238e-06 - accuracy: 1.0000 - val_loss: 5.9000 - val_accuracy: 0.4000\n",
            "Epoch 71/200\n",
            "15/15 [==============================] - 0s 20ms/step - loss: 4.4179e-06 - accuracy: 1.0000 - val_loss: 5.9221 - val_accuracy: 0.4000\n",
            "Epoch 72/200\n",
            "15/15 [==============================] - 0s 20ms/step - loss: 2.4281e-06 - accuracy: 1.0000 - val_loss: 5.9337 - val_accuracy: 0.4000\n",
            "Epoch 73/200\n",
            "15/15 [==============================] - 0s 20ms/step - loss: 2.5776e-06 - accuracy: 1.0000 - val_loss: 5.9336 - val_accuracy: 0.4000\n",
            "Epoch 74/200\n",
            "15/15 [==============================] - 0s 20ms/step - loss: 1.9185e-06 - accuracy: 1.0000 - val_loss: 5.9368 - val_accuracy: 0.4000\n",
            "Epoch 75/200\n",
            "15/15 [==============================] - 0s 22ms/step - loss: 2.5974e-06 - accuracy: 1.0000 - val_loss: 5.9549 - val_accuracy: 0.4000\n",
            "Epoch 76/200\n",
            "15/15 [==============================] - 0s 20ms/step - loss: 2.6451e-06 - accuracy: 1.0000 - val_loss: 5.9608 - val_accuracy: 0.4000\n",
            "Epoch 77/200\n",
            "15/15 [==============================] - 0s 19ms/step - loss: 3.1645e-06 - accuracy: 1.0000 - val_loss: 5.9654 - val_accuracy: 0.4000\n",
            "Epoch 78/200\n",
            "15/15 [==============================] - 0s 21ms/step - loss: 2.0227e-06 - accuracy: 1.0000 - val_loss: 5.9766 - val_accuracy: 0.4000\n",
            "Epoch 79/200\n",
            "15/15 [==============================] - 0s 20ms/step - loss: 2.6991e-06 - accuracy: 1.0000 - val_loss: 5.9835 - val_accuracy: 0.4000\n",
            "Epoch 80/200\n",
            "15/15 [==============================] - 0s 20ms/step - loss: 2.0385e-06 - accuracy: 1.0000 - val_loss: 5.9978 - val_accuracy: 0.4000\n",
            "Epoch 81/200\n",
            "15/15 [==============================] - 0s 22ms/step - loss: 2.2089e-06 - accuracy: 1.0000 - val_loss: 6.0017 - val_accuracy: 0.4000\n",
            "Epoch 82/200\n",
            "15/15 [==============================] - 0s 20ms/step - loss: 2.0925e-06 - accuracy: 1.0000 - val_loss: 6.0204 - val_accuracy: 0.4000\n",
            "Epoch 83/200\n",
            "15/15 [==============================] - 0s 20ms/step - loss: 1.6023e-06 - accuracy: 1.0000 - val_loss: 6.0246 - val_accuracy: 0.4000\n",
            "Epoch 84/200\n",
            "15/15 [==============================] - 0s 21ms/step - loss: 1.5209e-06 - accuracy: 1.0000 - val_loss: 6.0356 - val_accuracy: 0.4000\n",
            "Epoch 85/200\n",
            "15/15 [==============================] - 0s 20ms/step - loss: 1.9448e-06 - accuracy: 1.0000 - val_loss: 6.0483 - val_accuracy: 0.4000\n",
            "Epoch 86/200\n",
            "15/15 [==============================] - 0s 20ms/step - loss: 2.3898e-06 - accuracy: 1.0000 - val_loss: 6.0589 - val_accuracy: 0.4000\n",
            "Epoch 87/200\n",
            "15/15 [==============================] - 0s 21ms/step - loss: 2.8884e-06 - accuracy: 1.0000 - val_loss: 6.0691 - val_accuracy: 0.4000\n",
            "Epoch 88/200\n",
            "15/15 [==============================] - 0s 21ms/step - loss: 1.9350e-06 - accuracy: 1.0000 - val_loss: 6.0908 - val_accuracy: 0.4000\n",
            "Epoch 89/200\n",
            "15/15 [==============================] - 0s 21ms/step - loss: 1.8687e-06 - accuracy: 1.0000 - val_loss: 6.0987 - val_accuracy: 0.4000\n",
            "Epoch 90/200\n",
            "15/15 [==============================] - 0s 20ms/step - loss: 2.7020e-06 - accuracy: 1.0000 - val_loss: 6.1017 - val_accuracy: 0.4000\n",
            "Epoch 91/200\n",
            "15/15 [==============================] - 0s 20ms/step - loss: 1.3369e-06 - accuracy: 1.0000 - val_loss: 6.1066 - val_accuracy: 0.4000\n",
            "Epoch 92/200\n",
            "15/15 [==============================] - 0s 21ms/step - loss: 1.3516e-06 - accuracy: 1.0000 - val_loss: 6.1175 - val_accuracy: 0.4000\n",
            "Epoch 93/200\n",
            "15/15 [==============================] - 0s 22ms/step - loss: 1.1015e-06 - accuracy: 1.0000 - val_loss: 6.1254 - val_accuracy: 0.4000\n",
            "Epoch 94/200\n",
            "15/15 [==============================] - 0s 19ms/step - loss: 2.1173e-06 - accuracy: 1.0000 - val_loss: 6.1325 - val_accuracy: 0.4000\n",
            "Epoch 95/200\n",
            "15/15 [==============================] - 0s 21ms/step - loss: 1.4889e-06 - accuracy: 1.0000 - val_loss: 6.1426 - val_accuracy: 0.4000\n",
            "Epoch 96/200\n",
            "15/15 [==============================] - 0s 20ms/step - loss: 1.2876e-06 - accuracy: 1.0000 - val_loss: 6.1513 - val_accuracy: 0.4000\n",
            "Epoch 97/200\n",
            "15/15 [==============================] - 0s 19ms/step - loss: 1.2317e-06 - accuracy: 1.0000 - val_loss: 6.1566 - val_accuracy: 0.4000\n",
            "Epoch 98/200\n",
            "15/15 [==============================] - 0s 21ms/step - loss: 1.4677e-06 - accuracy: 1.0000 - val_loss: 6.1639 - val_accuracy: 0.4000\n",
            "Epoch 99/200\n",
            "15/15 [==============================] - 0s 21ms/step - loss: 1.7876e-06 - accuracy: 1.0000 - val_loss: 6.1675 - val_accuracy: 0.4000\n",
            "Epoch 100/200\n",
            "15/15 [==============================] - 0s 20ms/step - loss: 1.2473e-06 - accuracy: 1.0000 - val_loss: 6.1755 - val_accuracy: 0.4000\n",
            "Epoch 101/200\n",
            "15/15 [==============================] - 0s 20ms/step - loss: 1.1229e-06 - accuracy: 1.0000 - val_loss: 6.1895 - val_accuracy: 0.4000\n",
            "Epoch 102/200\n",
            "15/15 [==============================] - 0s 20ms/step - loss: 1.1834e-06 - accuracy: 1.0000 - val_loss: 6.1936 - val_accuracy: 0.4000\n",
            "Epoch 103/200\n",
            "15/15 [==============================] - 0s 20ms/step - loss: 1.2924e-06 - accuracy: 1.0000 - val_loss: 6.2016 - val_accuracy: 0.4000\n",
            "Epoch 104/200\n",
            "15/15 [==============================] - 0s 20ms/step - loss: 9.9735e-07 - accuracy: 1.0000 - val_loss: 6.2079 - val_accuracy: 0.4000\n",
            "Epoch 105/200\n",
            "15/15 [==============================] - 0s 21ms/step - loss: 9.3859e-07 - accuracy: 1.0000 - val_loss: 6.2197 - val_accuracy: 0.4000\n",
            "Epoch 106/200\n",
            "15/15 [==============================] - 0s 21ms/step - loss: 1.0328e-06 - accuracy: 1.0000 - val_loss: 6.2236 - val_accuracy: 0.4000\n",
            "Epoch 107/200\n",
            "15/15 [==============================] - 0s 21ms/step - loss: 1.2323e-06 - accuracy: 1.0000 - val_loss: 6.2304 - val_accuracy: 0.4000\n",
            "Epoch 108/200\n",
            "15/15 [==============================] - 0s 19ms/step - loss: 1.7134e-06 - accuracy: 1.0000 - val_loss: 6.2354 - val_accuracy: 0.4000\n",
            "Epoch 109/200\n",
            "15/15 [==============================] - 0s 22ms/step - loss: 1.0427e-06 - accuracy: 1.0000 - val_loss: 6.2415 - val_accuracy: 0.4000\n",
            "Epoch 110/200\n",
            "15/15 [==============================] - 0s 20ms/step - loss: 9.9281e-07 - accuracy: 1.0000 - val_loss: 6.2520 - val_accuracy: 0.4000\n",
            "Epoch 111/200\n",
            "15/15 [==============================] - 0s 20ms/step - loss: 1.0441e-06 - accuracy: 1.0000 - val_loss: 6.2567 - val_accuracy: 0.4000\n",
            "Epoch 112/200\n",
            "15/15 [==============================] - 0s 21ms/step - loss: 1.2654e-06 - accuracy: 1.0000 - val_loss: 6.2692 - val_accuracy: 0.4000\n",
            "Epoch 113/200\n",
            "15/15 [==============================] - 0s 21ms/step - loss: 1.2881e-06 - accuracy: 1.0000 - val_loss: 6.2722 - val_accuracy: 0.4000\n",
            "Epoch 114/200\n",
            "15/15 [==============================] - 0s 20ms/step - loss: 1.1180e-06 - accuracy: 1.0000 - val_loss: 6.2837 - val_accuracy: 0.4000\n",
            "Epoch 115/200\n",
            "15/15 [==============================] - 0s 21ms/step - loss: 8.6055e-07 - accuracy: 1.0000 - val_loss: 6.2850 - val_accuracy: 0.4000\n",
            "Epoch 116/200\n",
            "15/15 [==============================] - 0s 20ms/step - loss: 7.3574e-07 - accuracy: 1.0000 - val_loss: 6.2886 - val_accuracy: 0.4000\n",
            "Epoch 117/200\n",
            "15/15 [==============================] - 0s 22ms/step - loss: 9.3244e-07 - accuracy: 1.0000 - val_loss: 6.2990 - val_accuracy: 0.4000\n",
            "Epoch 118/200\n",
            "15/15 [==============================] - 0s 22ms/step - loss: 8.7621e-07 - accuracy: 1.0000 - val_loss: 6.3048 - val_accuracy: 0.4000\n",
            "Epoch 119/200\n",
            "15/15 [==============================] - 0s 21ms/step - loss: 8.0210e-07 - accuracy: 1.0000 - val_loss: 6.3110 - val_accuracy: 0.4000\n",
            "Epoch 120/200\n",
            "15/15 [==============================] - 0s 21ms/step - loss: 7.9666e-07 - accuracy: 1.0000 - val_loss: 6.3180 - val_accuracy: 0.4000\n",
            "Epoch 121/200\n",
            "15/15 [==============================] - 0s 20ms/step - loss: 9.5885e-07 - accuracy: 1.0000 - val_loss: 6.3256 - val_accuracy: 0.4000\n",
            "Epoch 122/200\n",
            "15/15 [==============================] - 0s 21ms/step - loss: 7.9232e-07 - accuracy: 1.0000 - val_loss: 6.3301 - val_accuracy: 0.4000\n",
            "Epoch 123/200\n",
            "15/15 [==============================] - 0s 21ms/step - loss: 9.6593e-07 - accuracy: 1.0000 - val_loss: 6.3386 - val_accuracy: 0.4000\n",
            "Epoch 124/200\n",
            "15/15 [==============================] - 0s 21ms/step - loss: 1.0142e-06 - accuracy: 1.0000 - val_loss: 6.3447 - val_accuracy: 0.4000\n",
            "Epoch 125/200\n",
            "15/15 [==============================] - 0s 20ms/step - loss: 9.2325e-07 - accuracy: 1.0000 - val_loss: 6.3488 - val_accuracy: 0.4000\n",
            "Epoch 126/200\n",
            "15/15 [==============================] - 0s 21ms/step - loss: 7.7779e-07 - accuracy: 1.0000 - val_loss: 6.3608 - val_accuracy: 0.4000\n",
            "Epoch 127/200\n",
            "15/15 [==============================] - 0s 22ms/step - loss: 5.4663e-07 - accuracy: 1.0000 - val_loss: 6.3655 - val_accuracy: 0.4000\n",
            "Epoch 128/200\n",
            "15/15 [==============================] - 0s 20ms/step - loss: 1.0524e-06 - accuracy: 1.0000 - val_loss: 6.3699 - val_accuracy: 0.4000\n",
            "Epoch 129/200\n",
            "15/15 [==============================] - 0s 21ms/step - loss: 8.3489e-07 - accuracy: 1.0000 - val_loss: 6.3806 - val_accuracy: 0.4000\n",
            "Epoch 130/200\n",
            "15/15 [==============================] - 0s 20ms/step - loss: 4.9144e-07 - accuracy: 1.0000 - val_loss: 6.3831 - val_accuracy: 0.4000\n",
            "Epoch 131/200\n",
            "15/15 [==============================] - 0s 21ms/step - loss: 7.4280e-07 - accuracy: 1.0000 - val_loss: 6.3905 - val_accuracy: 0.4000\n",
            "Epoch 132/200\n",
            "15/15 [==============================] - 0s 20ms/step - loss: 7.8883e-07 - accuracy: 1.0000 - val_loss: 6.3937 - val_accuracy: 0.4000\n",
            "Epoch 133/200\n",
            "15/15 [==============================] - 0s 21ms/step - loss: 6.6749e-07 - accuracy: 1.0000 - val_loss: 6.4052 - val_accuracy: 0.4000\n",
            "Epoch 134/200\n",
            "15/15 [==============================] - 0s 20ms/step - loss: 5.2811e-07 - accuracy: 1.0000 - val_loss: 6.4116 - val_accuracy: 0.4000\n",
            "Epoch 135/200\n",
            "15/15 [==============================] - 0s 22ms/step - loss: 6.1339e-07 - accuracy: 1.0000 - val_loss: 6.4152 - val_accuracy: 0.4000\n",
            "Epoch 136/200\n",
            "15/15 [==============================] - 0s 21ms/step - loss: 5.5995e-07 - accuracy: 1.0000 - val_loss: 6.4249 - val_accuracy: 0.4000\n",
            "Epoch 137/200\n",
            "15/15 [==============================] - 0s 23ms/step - loss: 5.6563e-07 - accuracy: 1.0000 - val_loss: 6.4274 - val_accuracy: 0.4000\n",
            "Epoch 138/200\n",
            "15/15 [==============================] - 0s 23ms/step - loss: 9.9230e-07 - accuracy: 1.0000 - val_loss: 6.4315 - val_accuracy: 0.4000\n",
            "Epoch 139/200\n",
            "15/15 [==============================] - 0s 23ms/step - loss: 6.4803e-07 - accuracy: 1.0000 - val_loss: 6.4426 - val_accuracy: 0.4000\n",
            "Epoch 140/200\n",
            "15/15 [==============================] - 0s 21ms/step - loss: 4.5805e-07 - accuracy: 1.0000 - val_loss: 6.4442 - val_accuracy: 0.4000\n",
            "Epoch 141/200\n",
            "15/15 [==============================] - 0s 21ms/step - loss: 6.2825e-07 - accuracy: 1.0000 - val_loss: 6.4496 - val_accuracy: 0.4000\n",
            "Epoch 142/200\n",
            "15/15 [==============================] - 0s 21ms/step - loss: 5.9534e-07 - accuracy: 1.0000 - val_loss: 6.4549 - val_accuracy: 0.4000\n",
            "Epoch 143/200\n",
            "15/15 [==============================] - 0s 22ms/step - loss: 7.1786e-07 - accuracy: 1.0000 - val_loss: 6.4632 - val_accuracy: 0.4000\n",
            "Epoch 144/200\n",
            "15/15 [==============================] - 0s 20ms/step - loss: 6.6375e-07 - accuracy: 1.0000 - val_loss: 6.4717 - val_accuracy: 0.4000\n",
            "Epoch 145/200\n",
            "15/15 [==============================] - 0s 21ms/step - loss: 7.0653e-07 - accuracy: 1.0000 - val_loss: 6.4723 - val_accuracy: 0.4000\n",
            "Epoch 146/200\n",
            "15/15 [==============================] - 0s 21ms/step - loss: 4.6291e-07 - accuracy: 1.0000 - val_loss: 6.4774 - val_accuracy: 0.4000\n",
            "Epoch 147/200\n",
            "15/15 [==============================] - 0s 21ms/step - loss: 7.7448e-07 - accuracy: 1.0000 - val_loss: 6.4878 - val_accuracy: 0.4000\n",
            "Epoch 148/200\n",
            "15/15 [==============================] - 0s 20ms/step - loss: 6.5728e-07 - accuracy: 1.0000 - val_loss: 6.4960 - val_accuracy: 0.4000\n",
            "Epoch 149/200\n",
            "15/15 [==============================] - 0s 20ms/step - loss: 8.2273e-07 - accuracy: 1.0000 - val_loss: 6.4990 - val_accuracy: 0.4000\n",
            "Epoch 150/200\n",
            "15/15 [==============================] - 0s 20ms/step - loss: 5.7805e-07 - accuracy: 1.0000 - val_loss: 6.5034 - val_accuracy: 0.4000\n",
            "Epoch 151/200\n",
            "15/15 [==============================] - 0s 21ms/step - loss: 5.1978e-07 - accuracy: 1.0000 - val_loss: 6.5063 - val_accuracy: 0.4000\n",
            "Epoch 152/200\n",
            "15/15 [==============================] - 0s 20ms/step - loss: 7.4210e-07 - accuracy: 1.0000 - val_loss: 6.5115 - val_accuracy: 0.4000\n",
            "Epoch 153/200\n",
            "15/15 [==============================] - 0s 21ms/step - loss: 4.3646e-07 - accuracy: 1.0000 - val_loss: 6.5177 - val_accuracy: 0.4000\n",
            "Epoch 154/200\n",
            "15/15 [==============================] - 0s 21ms/step - loss: 6.5636e-07 - accuracy: 1.0000 - val_loss: 6.5258 - val_accuracy: 0.4000\n",
            "Epoch 155/200\n",
            "15/15 [==============================] - 0s 21ms/step - loss: 6.2899e-07 - accuracy: 1.0000 - val_loss: 6.5295 - val_accuracy: 0.4000\n",
            "Epoch 156/200\n",
            "15/15 [==============================] - 0s 21ms/step - loss: 7.0654e-07 - accuracy: 1.0000 - val_loss: 6.5397 - val_accuracy: 0.4000\n",
            "Epoch 157/200\n",
            "15/15 [==============================] - 0s 22ms/step - loss: 6.2994e-07 - accuracy: 1.0000 - val_loss: 6.5423 - val_accuracy: 0.4000\n",
            "Epoch 158/200\n",
            "15/15 [==============================] - 0s 21ms/step - loss: 3.6773e-07 - accuracy: 1.0000 - val_loss: 6.5461 - val_accuracy: 0.4000\n",
            "Epoch 159/200\n",
            "15/15 [==============================] - 0s 23ms/step - loss: 5.2096e-07 - accuracy: 1.0000 - val_loss: 6.5553 - val_accuracy: 0.4000\n",
            "Epoch 160/200\n",
            "15/15 [==============================] - 0s 21ms/step - loss: 5.4526e-07 - accuracy: 1.0000 - val_loss: 6.5581 - val_accuracy: 0.4000\n",
            "Epoch 161/200\n",
            "15/15 [==============================] - 0s 22ms/step - loss: 5.4342e-07 - accuracy: 1.0000 - val_loss: 6.5679 - val_accuracy: 0.4000\n",
            "Epoch 162/200\n",
            "15/15 [==============================] - 0s 21ms/step - loss: 4.6349e-07 - accuracy: 1.0000 - val_loss: 6.5734 - val_accuracy: 0.4000\n",
            "Epoch 163/200\n",
            "15/15 [==============================] - 0s 21ms/step - loss: 4.0489e-07 - accuracy: 1.0000 - val_loss: 6.5820 - val_accuracy: 0.4000\n",
            "Epoch 164/200\n",
            "15/15 [==============================] - 0s 21ms/step - loss: 4.3881e-07 - accuracy: 1.0000 - val_loss: 6.5854 - val_accuracy: 0.4000\n",
            "Epoch 165/200\n",
            "15/15 [==============================] - 0s 22ms/step - loss: 3.8953e-07 - accuracy: 1.0000 - val_loss: 6.5931 - val_accuracy: 0.4000\n",
            "Epoch 166/200\n",
            "15/15 [==============================] - 0s 22ms/step - loss: 3.2060e-07 - accuracy: 1.0000 - val_loss: 6.5995 - val_accuracy: 0.4000\n",
            "Epoch 167/200\n",
            "15/15 [==============================] - 0s 20ms/step - loss: 3.4270e-07 - accuracy: 1.0000 - val_loss: 6.6037 - val_accuracy: 0.4000\n",
            "Epoch 168/200\n",
            "15/15 [==============================] - 0s 21ms/step - loss: 5.3749e-07 - accuracy: 1.0000 - val_loss: 6.6064 - val_accuracy: 0.4000\n",
            "Epoch 169/200\n",
            "15/15 [==============================] - 0s 21ms/step - loss: 3.6378e-07 - accuracy: 1.0000 - val_loss: 6.6131 - val_accuracy: 0.4000\n",
            "Epoch 170/200\n",
            "15/15 [==============================] - 0s 22ms/step - loss: 4.4108e-07 - accuracy: 1.0000 - val_loss: 6.6205 - val_accuracy: 0.4000\n",
            "Epoch 171/200\n",
            "15/15 [==============================] - 0s 22ms/step - loss: 2.6182e-07 - accuracy: 1.0000 - val_loss: 6.6254 - val_accuracy: 0.4000\n",
            "Epoch 172/200\n",
            "15/15 [==============================] - 0s 21ms/step - loss: 4.5042e-07 - accuracy: 1.0000 - val_loss: 6.6338 - val_accuracy: 0.4000\n",
            "Epoch 173/200\n",
            "15/15 [==============================] - 0s 21ms/step - loss: 3.9624e-07 - accuracy: 1.0000 - val_loss: 6.6398 - val_accuracy: 0.4000\n",
            "Epoch 174/200\n",
            "15/15 [==============================] - 0s 20ms/step - loss: 2.7544e-07 - accuracy: 1.0000 - val_loss: 6.6432 - val_accuracy: 0.4000\n",
            "Epoch 175/200\n",
            "15/15 [==============================] - 0s 23ms/step - loss: 2.6688e-07 - accuracy: 1.0000 - val_loss: 6.6479 - val_accuracy: 0.4000\n",
            "Epoch 176/200\n",
            "15/15 [==============================] - 0s 21ms/step - loss: 3.3224e-07 - accuracy: 1.0000 - val_loss: 6.6579 - val_accuracy: 0.4000\n",
            "Epoch 177/200\n",
            "15/15 [==============================] - 0s 22ms/step - loss: 4.5148e-07 - accuracy: 1.0000 - val_loss: 6.6626 - val_accuracy: 0.4000\n",
            "Epoch 178/200\n",
            "15/15 [==============================] - 0s 21ms/step - loss: 4.6944e-07 - accuracy: 1.0000 - val_loss: 6.6671 - val_accuracy: 0.4000\n",
            "Epoch 179/200\n",
            "15/15 [==============================] - 0s 21ms/step - loss: 3.5197e-07 - accuracy: 1.0000 - val_loss: 6.6738 - val_accuracy: 0.4000\n",
            "Epoch 180/200\n",
            "15/15 [==============================] - 0s 22ms/step - loss: 5.4329e-07 - accuracy: 1.0000 - val_loss: 6.6760 - val_accuracy: 0.4000\n",
            "Epoch 181/200\n",
            "15/15 [==============================] - 0s 22ms/step - loss: 2.5018e-07 - accuracy: 1.0000 - val_loss: 6.6850 - val_accuracy: 0.4000\n",
            "Epoch 182/200\n",
            "15/15 [==============================] - 0s 21ms/step - loss: 2.1673e-07 - accuracy: 1.0000 - val_loss: 6.6959 - val_accuracy: 0.4000\n",
            "Epoch 183/200\n",
            "15/15 [==============================] - 0s 22ms/step - loss: 3.3083e-07 - accuracy: 1.0000 - val_loss: 6.7014 - val_accuracy: 0.4000\n",
            "Epoch 184/200\n",
            "15/15 [==============================] - 0s 22ms/step - loss: 3.8871e-07 - accuracy: 1.0000 - val_loss: 6.7067 - val_accuracy: 0.4000\n",
            "Epoch 185/200\n",
            "15/15 [==============================] - 0s 21ms/step - loss: 2.3705e-07 - accuracy: 1.0000 - val_loss: 6.7111 - val_accuracy: 0.4000\n",
            "Epoch 186/200\n",
            "15/15 [==============================] - 0s 21ms/step - loss: 2.8240e-07 - accuracy: 1.0000 - val_loss: 6.7166 - val_accuracy: 0.4000\n",
            "Epoch 187/200\n",
            "15/15 [==============================] - 0s 21ms/step - loss: 3.7762e-07 - accuracy: 1.0000 - val_loss: 6.7244 - val_accuracy: 0.4000\n",
            "Epoch 188/200\n",
            "15/15 [==============================] - 0s 21ms/step - loss: 4.1518e-07 - accuracy: 1.0000 - val_loss: 6.7314 - val_accuracy: 0.4000\n",
            "Epoch 189/200\n",
            "15/15 [==============================] - 0s 22ms/step - loss: 4.3080e-07 - accuracy: 1.0000 - val_loss: 6.7353 - val_accuracy: 0.4000\n",
            "Epoch 190/200\n",
            "15/15 [==============================] - 0s 21ms/step - loss: 4.0711e-07 - accuracy: 1.0000 - val_loss: 6.7415 - val_accuracy: 0.4000\n",
            "Epoch 191/200\n",
            "15/15 [==============================] - 0s 21ms/step - loss: 2.2219e-07 - accuracy: 1.0000 - val_loss: 6.7490 - val_accuracy: 0.4000\n",
            "Epoch 192/200\n",
            "15/15 [==============================] - 0s 22ms/step - loss: 2.6107e-07 - accuracy: 1.0000 - val_loss: 6.7551 - val_accuracy: 0.4000\n",
            "Epoch 193/200\n",
            "15/15 [==============================] - 0s 22ms/step - loss: 3.6416e-07 - accuracy: 1.0000 - val_loss: 6.7613 - val_accuracy: 0.4000\n",
            "Epoch 194/200\n",
            "15/15 [==============================] - 0s 20ms/step - loss: 2.3253e-07 - accuracy: 1.0000 - val_loss: 6.7709 - val_accuracy: 0.4000\n",
            "Epoch 195/200\n",
            "15/15 [==============================] - 0s 21ms/step - loss: 2.7094e-07 - accuracy: 1.0000 - val_loss: 6.7750 - val_accuracy: 0.4000\n",
            "Epoch 196/200\n",
            "15/15 [==============================] - 0s 22ms/step - loss: 2.6978e-07 - accuracy: 1.0000 - val_loss: 6.7829 - val_accuracy: 0.4000\n",
            "Epoch 197/200\n",
            "15/15 [==============================] - 0s 20ms/step - loss: 2.2998e-07 - accuracy: 1.0000 - val_loss: 6.7897 - val_accuracy: 0.4000\n",
            "Epoch 198/200\n",
            "15/15 [==============================] - 0s 20ms/step - loss: 1.6798e-07 - accuracy: 1.0000 - val_loss: 6.8005 - val_accuracy: 0.4000\n",
            "Epoch 199/200\n",
            "15/15 [==============================] - 0s 21ms/step - loss: 1.8676e-07 - accuracy: 1.0000 - val_loss: 6.8045 - val_accuracy: 0.4000\n",
            "Epoch 200/200\n",
            "15/15 [==============================] - 0s 22ms/step - loss: 3.1074e-07 - accuracy: 1.0000 - val_loss: 6.8125 - val_accuracy: 0.4000\n"
          ],
          "name": "stdout"
        },
        {
          "output_type": "execute_result",
          "data": {
            "text/plain": [
              "<tensorflow.python.keras.callbacks.History at 0x7f982b4492d0>"
            ]
          },
          "metadata": {
            "tags": []
          },
          "execution_count": 8
        }
      ]
    },
    {
      "cell_type": "markdown",
      "metadata": {
        "id": "2Ewe4Ht0EpEd"
      },
      "source": [
        "### 모델 평가"
      ]
    },
    {
      "cell_type": "code",
      "metadata": {
        "colab": {
          "base_uri": "https://localhost:8080/"
        },
        "id": "XDZz2HcJFDCK",
        "outputId": "2eab253e-2cac-49af-9b50-63f4518eb997"
      },
      "source": [
        "# acc = model.evaluate_generator(test_generator, steps=5) - deprecated\n",
        "acc = model.evaluate(test_generator, steps=5)\n",
        "print(f'Accuracy: {acc[1]:.4f}')"
      ],
      "execution_count": 9,
      "outputs": [
        {
          "output_type": "stream",
          "text": [
            "5/5 [==============================] - 0s 6ms/step - loss: 6.8125 - accuracy: 0.4000\n",
            "Accuracy: 0.4000\n"
          ],
          "name": "stdout"
        }
      ]
    },
    {
      "cell_type": "code",
      "metadata": {
        "id": "sxUdsGgKFNr9"
      },
      "source": [
        ""
      ],
      "execution_count": null,
      "outputs": []
    }
  ]
}