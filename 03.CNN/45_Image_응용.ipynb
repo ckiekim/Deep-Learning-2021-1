{
  "nbformat": 4,
  "nbformat_minor": 0,
  "metadata": {
    "colab": {
      "name": "45_Image_응용.ipynb",
      "provenance": [],
      "collapsed_sections": []
    },
    "kernelspec": {
      "name": "python3",
      "display_name": "Python 3"
    },
    "language_info": {
      "name": "python"
    }
  },
  "cells": [
    {
      "cell_type": "markdown",
      "metadata": {
        "id": "NvwqYsWAwK9U"
      },
      "source": [
        "# Keras Application 응용"
      ]
    },
    {
      "cell_type": "code",
      "metadata": {
        "colab": {
          "base_uri": "https://localhost:8080/"
        },
        "id": "5NQ81pkqDVHb",
        "outputId": "e4a1c6bd-f60d-4ffd-f5f6-d48af49ffd8e"
      },
      "source": [
        "from glob import glob\n",
        "\n",
        "for file in glob('images/*'):\n",
        "    print(file)"
      ],
      "execution_count": 1,
      "outputs": [
        {
          "output_type": "stream",
          "text": [
            "images/거북이.jpg\n",
            "images/토끼.png\n",
            "images/개.jpg\n",
            "images/상어.jpg\n",
            "images/고양이.jpg\n",
            "images/까치.jfif\n",
            "images/독수리.jpg\n",
            "images/코끼리.jpg\n",
            "images/뱀.jfif\n",
            "images/매.jfif\n"
          ],
          "name": "stdout"
        }
      ]
    },
    {
      "cell_type": "code",
      "metadata": {
        "colab": {
          "base_uri": "https://localhost:8080/"
        },
        "id": "Ybs4OfToDjEK",
        "outputId": "a034e420-0375-46aa-b411-8a549d86cf61"
      },
      "source": [
        "name_list = []\n",
        "for file in glob('images/*'):\n",
        "    name = file.split('/')[1]\n",
        "    name = name.split('.')[0]\n",
        "    name_list.append(name)\n",
        "name_list"
      ],
      "execution_count": 2,
      "outputs": [
        {
          "output_type": "execute_result",
          "data": {
            "text/plain": [
              "['거북이', '토끼', '개', '상어', '고양이', '까치', '독수리', '코끼리', '뱀', '매']"
            ]
          },
          "metadata": {
            "tags": []
          },
          "execution_count": 2
        }
      ]
    },
    {
      "cell_type": "markdown",
      "metadata": {
        "id": "4spxSdMmERXy"
      },
      "source": [
        "### VGG16"
      ]
    },
    {
      "cell_type": "code",
      "metadata": {
        "id": "7RIR7aj1ELMD"
      },
      "source": [
        "from tensorflow.keras.applications.vgg16 import VGG16, decode_predictions\n",
        "vgg16 = VGG16()"
      ],
      "execution_count": 3,
      "outputs": []
    },
    {
      "cell_type": "code",
      "metadata": {
        "colab": {
          "base_uri": "https://localhost:8080/"
        },
        "id": "uddy_1krEiJ9",
        "outputId": "82e40fac-b34a-4a09-fee6-a897549e1289"
      },
      "source": [
        "import cv2\n",
        "\n",
        "vgg16_list = []\n",
        "for file in glob('images/*'):\n",
        "    img = cv2.imread(file)\n",
        "    img = cv2.resize(img, (224,224))\n",
        "    img = cv2.cvtColor(img, cv2.COLOR_BGR2RGB)\n",
        "\n",
        "    yhat = vgg16.predict(img.reshape(-1,224,224,3))\n",
        "    label = decode_predictions(yhat)\n",
        "    label = label[0][0]\n",
        "    vgg16_list.append(label[1])\n",
        "\n",
        "print(vgg16_list)"
      ],
      "execution_count": 4,
      "outputs": [
        {
          "output_type": "stream",
          "text": [
            "['African_chameleon', 'hare', 'kelpie', 'tiger_shark', 'tabby', 'water_ouzel', 'kite', 'African_elephant', 'night_snake', 'quail']\n"
          ],
          "name": "stdout"
        }
      ]
    },
    {
      "cell_type": "markdown",
      "metadata": {
        "id": "reR35HDYFohW"
      },
      "source": [
        "### VGG19"
      ]
    },
    {
      "cell_type": "code",
      "metadata": {
        "colab": {
          "base_uri": "https://localhost:8080/"
        },
        "id": "VsKZIj7iFgR1",
        "outputId": "8035e7fd-c609-4d29-f0d5-d3d088335271"
      },
      "source": [
        "from tensorflow.keras.applications.vgg19 import VGG19, decode_predictions\n",
        "vgg19 = VGG19()"
      ],
      "execution_count": 5,
      "outputs": [
        {
          "output_type": "stream",
          "text": [
            "Downloading data from https://storage.googleapis.com/tensorflow/keras-applications/vgg19/vgg19_weights_tf_dim_ordering_tf_kernels.h5\n",
            "574717952/574710816 [==============================] - 4s 0us/step\n"
          ],
          "name": "stdout"
        }
      ]
    },
    {
      "cell_type": "code",
      "metadata": {
        "colab": {
          "base_uri": "https://localhost:8080/"
        },
        "id": "3R_amEU-F3u8",
        "outputId": "5855ff1a-8089-409c-b4ec-5f7650bfa6e2"
      },
      "source": [
        "vgg19_list = []\n",
        "for file in glob('images/*'):\n",
        "    img = cv2.imread(file)\n",
        "    img = cv2.resize(img, (224,224))\n",
        "    img = cv2.cvtColor(img, cv2.COLOR_BGR2RGB)\n",
        "\n",
        "    yhat = vgg19.predict(img.reshape(-1,224,224,3))\n",
        "    label = decode_predictions(yhat)\n",
        "    label = label[0][0]\n",
        "    vgg19_list.append(label[1])\n",
        "\n",
        "print(vgg19_list)"
      ],
      "execution_count": 6,
      "outputs": [
        {
          "output_type": "stream",
          "text": [
            "['terrapin', 'hare', 'toy_terrier', 'hammerhead', 'Egyptian_cat', 'albatross', 'bald_eagle', 'African_elephant', 'garter_snake', 'black_grouse']\n"
          ],
          "name": "stdout"
        }
      ]
    },
    {
      "cell_type": "markdown",
      "metadata": {
        "id": "pB4nqf16GPG-"
      },
      "source": [
        "### ResNet 50"
      ]
    },
    {
      "cell_type": "code",
      "metadata": {
        "id": "f0YQcPPZGEMj"
      },
      "source": [
        "from tensorflow.keras.applications.resnet50 import ResNet50, decode_predictions\n",
        "resnet50 = ResNet50()"
      ],
      "execution_count": 7,
      "outputs": []
    },
    {
      "cell_type": "code",
      "metadata": {
        "colab": {
          "base_uri": "https://localhost:8080/"
        },
        "id": "Wwl28XwPGb8B",
        "outputId": "c3455e9e-f859-4292-cf1d-d5fb6aa9ccb4"
      },
      "source": [
        "resnet50_list = []\n",
        "for file in glob('images/*'):\n",
        "    img = cv2.imread(file)\n",
        "    img = cv2.resize(img, (224,224))\n",
        "    img = cv2.cvtColor(img, cv2.COLOR_BGR2RGB)\n",
        "\n",
        "    yhat = resnet50.predict(img.reshape(-1,224,224,3))\n",
        "    label = decode_predictions(yhat)\n",
        "    label = label[0][0]\n",
        "    resnet50_list.append(label[1])\n",
        "\n",
        "print(resnet50_list)"
      ],
      "execution_count": 8,
      "outputs": [
        {
          "output_type": "stream",
          "text": [
            "['box_turtle', 'hare', 'bluetick', 'great_white_shark', 'Egyptian_cat', 'black_grouse', 'bald_eagle', 'African_elephant', 'garter_snake', 'jay']\n"
          ],
          "name": "stdout"
        }
      ]
    },
    {
      "cell_type": "markdown",
      "metadata": {
        "id": "DpRvbA-ZGqpB"
      },
      "source": [
        "### ResNet 101"
      ]
    },
    {
      "cell_type": "code",
      "metadata": {
        "colab": {
          "base_uri": "https://localhost:8080/"
        },
        "id": "ovNVbXYxGntG",
        "outputId": "721a1e87-1ba4-4bfb-ccff-e2526f2d9f3c"
      },
      "source": [
        "from tensorflow.keras.applications.resnet import ResNet101, decode_predictions\n",
        "resnet101 = ResNet101()"
      ],
      "execution_count": 9,
      "outputs": [
        {
          "output_type": "stream",
          "text": [
            "Downloading data from https://storage.googleapis.com/tensorflow/keras-applications/resnet/resnet101_weights_tf_dim_ordering_tf_kernels.h5\n",
            "179650560/179648224 [==============================] - 2s 0us/step\n"
          ],
          "name": "stdout"
        }
      ]
    },
    {
      "cell_type": "code",
      "metadata": {
        "colab": {
          "base_uri": "https://localhost:8080/"
        },
        "id": "vo76TGWTG7kg",
        "outputId": "89bf30b8-855a-4d90-91fa-bb44dabf5a5b"
      },
      "source": [
        "resnet101_list = []\n",
        "for file in glob('images/*'):\n",
        "    img = cv2.imread(file)\n",
        "    img = cv2.resize(img, (224,224))\n",
        "    img = cv2.cvtColor(img, cv2.COLOR_BGR2RGB)\n",
        "\n",
        "    yhat = resnet101.predict(img.reshape(-1,224,224,3))\n",
        "    label = decode_predictions(yhat)\n",
        "    label = label[0][0]\n",
        "    resnet101_list.append(label[1])\n",
        "\n",
        "print(resnet101_list)"
      ],
      "execution_count": 10,
      "outputs": [
        {
          "output_type": "stream",
          "text": [
            "['box_turtle', 'hare', 'bluetick', 'great_white_shark', 'Egyptian_cat', 'water_ouzel', 'bald_eagle', 'African_elephant', 'garter_snake', 'quail']\n"
          ],
          "name": "stdout"
        }
      ]
    },
    {
      "cell_type": "markdown",
      "metadata": {
        "id": "xqqzgK3sHLgP"
      },
      "source": [
        "### 데이터프레임으로 합치기"
      ]
    },
    {
      "cell_type": "code",
      "metadata": {
        "colab": {
          "base_uri": "https://localhost:8080/",
          "height": 348
        },
        "id": "Ehknge9uHGRU",
        "outputId": "04ea9641-4799-4b6f-c460-39b0b860a6bd"
      },
      "source": [
        "import pandas as pd\n",
        "df = pd.DataFrame({'Original':name_list, 'VGG16':vgg16_list, 'VGG19':vgg19_list,\n",
        "                   'ResNet50':resnet50_list, 'ResNet101':resnet101_list})\n",
        "df"
      ],
      "execution_count": 11,
      "outputs": [
        {
          "output_type": "execute_result",
          "data": {
            "text/html": [
              "<div>\n",
              "<style scoped>\n",
              "    .dataframe tbody tr th:only-of-type {\n",
              "        vertical-align: middle;\n",
              "    }\n",
              "\n",
              "    .dataframe tbody tr th {\n",
              "        vertical-align: top;\n",
              "    }\n",
              "\n",
              "    .dataframe thead th {\n",
              "        text-align: right;\n",
              "    }\n",
              "</style>\n",
              "<table border=\"1\" class=\"dataframe\">\n",
              "  <thead>\n",
              "    <tr style=\"text-align: right;\">\n",
              "      <th></th>\n",
              "      <th>Original</th>\n",
              "      <th>VGG16</th>\n",
              "      <th>VGG19</th>\n",
              "      <th>ResNet50</th>\n",
              "      <th>ResNet101</th>\n",
              "    </tr>\n",
              "  </thead>\n",
              "  <tbody>\n",
              "    <tr>\n",
              "      <th>0</th>\n",
              "      <td>거북이</td>\n",
              "      <td>African_chameleon</td>\n",
              "      <td>terrapin</td>\n",
              "      <td>box_turtle</td>\n",
              "      <td>box_turtle</td>\n",
              "    </tr>\n",
              "    <tr>\n",
              "      <th>1</th>\n",
              "      <td>토끼</td>\n",
              "      <td>hare</td>\n",
              "      <td>hare</td>\n",
              "      <td>hare</td>\n",
              "      <td>hare</td>\n",
              "    </tr>\n",
              "    <tr>\n",
              "      <th>2</th>\n",
              "      <td>개</td>\n",
              "      <td>kelpie</td>\n",
              "      <td>toy_terrier</td>\n",
              "      <td>bluetick</td>\n",
              "      <td>bluetick</td>\n",
              "    </tr>\n",
              "    <tr>\n",
              "      <th>3</th>\n",
              "      <td>상어</td>\n",
              "      <td>tiger_shark</td>\n",
              "      <td>hammerhead</td>\n",
              "      <td>great_white_shark</td>\n",
              "      <td>great_white_shark</td>\n",
              "    </tr>\n",
              "    <tr>\n",
              "      <th>4</th>\n",
              "      <td>고양이</td>\n",
              "      <td>tabby</td>\n",
              "      <td>Egyptian_cat</td>\n",
              "      <td>Egyptian_cat</td>\n",
              "      <td>Egyptian_cat</td>\n",
              "    </tr>\n",
              "    <tr>\n",
              "      <th>5</th>\n",
              "      <td>까치</td>\n",
              "      <td>water_ouzel</td>\n",
              "      <td>albatross</td>\n",
              "      <td>black_grouse</td>\n",
              "      <td>water_ouzel</td>\n",
              "    </tr>\n",
              "    <tr>\n",
              "      <th>6</th>\n",
              "      <td>독수리</td>\n",
              "      <td>kite</td>\n",
              "      <td>bald_eagle</td>\n",
              "      <td>bald_eagle</td>\n",
              "      <td>bald_eagle</td>\n",
              "    </tr>\n",
              "    <tr>\n",
              "      <th>7</th>\n",
              "      <td>코끼리</td>\n",
              "      <td>African_elephant</td>\n",
              "      <td>African_elephant</td>\n",
              "      <td>African_elephant</td>\n",
              "      <td>African_elephant</td>\n",
              "    </tr>\n",
              "    <tr>\n",
              "      <th>8</th>\n",
              "      <td>뱀</td>\n",
              "      <td>night_snake</td>\n",
              "      <td>garter_snake</td>\n",
              "      <td>garter_snake</td>\n",
              "      <td>garter_snake</td>\n",
              "    </tr>\n",
              "    <tr>\n",
              "      <th>9</th>\n",
              "      <td>매</td>\n",
              "      <td>quail</td>\n",
              "      <td>black_grouse</td>\n",
              "      <td>jay</td>\n",
              "      <td>quail</td>\n",
              "    </tr>\n",
              "  </tbody>\n",
              "</table>\n",
              "</div>"
            ],
            "text/plain": [
              "  Original              VGG16  ...           ResNet50          ResNet101\n",
              "0      거북이  African_chameleon  ...         box_turtle         box_turtle\n",
              "1       토끼               hare  ...               hare               hare\n",
              "2        개             kelpie  ...           bluetick           bluetick\n",
              "3       상어        tiger_shark  ...  great_white_shark  great_white_shark\n",
              "4      고양이              tabby  ...       Egyptian_cat       Egyptian_cat\n",
              "5       까치        water_ouzel  ...       black_grouse        water_ouzel\n",
              "6      독수리               kite  ...         bald_eagle         bald_eagle\n",
              "7      코끼리   African_elephant  ...   African_elephant   African_elephant\n",
              "8        뱀        night_snake  ...       garter_snake       garter_snake\n",
              "9        매              quail  ...                jay              quail\n",
              "\n",
              "[10 rows x 5 columns]"
            ]
          },
          "metadata": {
            "tags": []
          },
          "execution_count": 11
        }
      ]
    },
    {
      "cell_type": "code",
      "metadata": {
        "id": "NN7TWMNaHtsq"
      },
      "source": [
        ""
      ],
      "execution_count": null,
      "outputs": []
    }
  ]
}