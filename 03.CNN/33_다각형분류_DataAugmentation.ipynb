{
  "nbformat": 4,
  "nbformat_minor": 0,
  "metadata": {
    "colab": {
      "name": "33_다각형분류_DataAugmentation.ipynb",
      "provenance": [],
      "collapsed_sections": []
    },
    "kernelspec": {
      "name": "python3",
      "display_name": "Python 3"
    },
    "language_info": {
      "name": "python"
    }
  },
  "cells": [
    {
      "cell_type": "markdown",
      "metadata": {
        "id": "6sXePone-R0o"
      },
      "source": [
        "# 원, 사각형, 삼각형 구분하기"
      ]
    },
    {
      "cell_type": "markdown",
      "metadata": {
        "id": "khUxppOL_XSe"
      },
      "source": [
        "## 3. Data Augmentation을 사용한 CNN 모델"
      ]
    },
    {
      "cell_type": "code",
      "metadata": {
        "id": "OTyHn2on_Hmt"
      },
      "source": [
        "import numpy as np\n",
        "import tensorflow as tf\n",
        "from tensorflow.keras.models import Sequential\n",
        "from tensorflow.keras.layers import Dense, Conv2D, Flatten, MaxPooling2D\n",
        "from tensorflow.keras.preprocessing.image import ImageDataGenerator"
      ],
      "execution_count": 1,
      "outputs": []
    },
    {
      "cell_type": "code",
      "metadata": {
        "id": "YKhBJF-n_3yg"
      },
      "source": [
        "seed = 2021\n",
        "np.random.seed(seed)\n",
        "tf.random.set_seed(seed)"
      ],
      "execution_count": 2,
      "outputs": []
    },
    {
      "cell_type": "markdown",
      "metadata": {
        "id": "55-ng3G6AGjv"
      },
      "source": [
        "### 데이터 부풀리기"
      ]
    },
    {
      "cell_type": "code",
      "metadata": {
        "id": "yyZYYAr3KdJC"
      },
      "source": [
        "from tensorflow.keras.preprocessing.image import array_to_img, img_to_array, load_img"
      ],
      "execution_count": 3,
      "outputs": []
    },
    {
      "cell_type": "code",
      "metadata": {
        "id": "7SwOchcpKplK"
      },
      "source": [
        "# 데이터 부풀리기를 적용한 훈련 데이터 제너레이터\n",
        "train_datagen = ImageDataGenerator(rescale=1./255,\n",
        "                                   rotation_range=15,\n",
        "                                   width_shift_range=0.1,\n",
        "                                   height_shift_range=0.1,\n",
        "                                   shear_range=0.5,\n",
        "                                   zoom_range=[0.8, 2.0],\n",
        "                                   horizontal_flip=True,\n",
        "                                   vertical_flip=True)"
      ],
      "execution_count": 4,
      "outputs": []
    },
    {
      "cell_type": "code",
      "metadata": {
        "id": "A1EOp312MbRu"
      },
      "source": [
        "!mkdir preview"
      ],
      "execution_count": 5,
      "outputs": []
    },
    {
      "cell_type": "code",
      "metadata": {
        "id": "o5fB2rTxMbOK"
      },
      "source": [
        "img = load_img('hard_handwriting_shape/train/triangle/triangle001.png')\n",
        "x = img_to_array(img)\n",
        "x = x.reshape((1,) + x.shape)\n",
        "\n",
        "i = 0\n",
        "\n",
        "for batch in train_datagen.flow(x, batch_size=1, save_to_dir='preview',\n",
        "                                save_prefix='tri', save_format='png'):\n",
        "    i += 1\n",
        "    if i > 30:\n",
        "        break"
      ],
      "execution_count": 6,
      "outputs": []
    },
    {
      "cell_type": "code",
      "metadata": {
        "colab": {
          "base_uri": "https://localhost:8080/"
        },
        "id": "2fGFV8lBMbKn",
        "outputId": "fc5337bf-952c-48a2-9593-6dec009d7f08"
      },
      "source": [
        "!ls preview"
      ],
      "execution_count": 7,
      "outputs": [
        {
          "output_type": "stream",
          "text": [
            "tri_0_1270.png\ttri_0_3759.png\ttri_0_5798.png\ttri_0_7897.png\ttri_0_9797.png\n",
            "tri_0_1302.png\ttri_0_3825.png\ttri_0_5881.png\ttri_0_8211.png\ttri_0_9854.png\n",
            "tri_0_1585.png\ttri_0_403.png\ttri_0_6416.png\ttri_0_8288.png\ttri_0_9972.png\n",
            "tri_0_2407.png\ttri_0_4949.png\ttri_0_6427.png\ttri_0_8923.png\n",
            "tri_0_2997.png\ttri_0_5158.png\ttri_0_6646.png\ttri_0_9089.png\n",
            "tri_0_3418.png\ttri_0_519.png\ttri_0_7259.png\ttri_0_928.png\n",
            "tri_0_3503.png\ttri_0_5672.png\ttri_0_7282.png\ttri_0_9575.png\n"
          ],
          "name": "stdout"
        }
      ]
    },
    {
      "cell_type": "markdown",
      "metadata": {
        "id": "pP3hQFR5O288"
      },
      "source": [
        "### 데이터셋 생성하기"
      ]
    },
    {
      "cell_type": "code",
      "metadata": {
        "colab": {
          "base_uri": "https://localhost:8080/"
        },
        "id": "8_N_NuHi_-VD",
        "outputId": "c74a87c6-8f3b-4a7a-b024-d044828facb6"
      },
      "source": [
        "train_generator = train_datagen.flow_from_directory(\n",
        "    'hard_handwriting_shape/train',\n",
        "    target_size=(24,24),\n",
        "    batch_size=3,\n",
        "    class_mode='categorical'\n",
        ")"
      ],
      "execution_count": 8,
      "outputs": [
        {
          "output_type": "stream",
          "text": [
            "Found 45 images belonging to 3 classes.\n"
          ],
          "name": "stdout"
        }
      ]
    },
    {
      "cell_type": "code",
      "metadata": {
        "colab": {
          "base_uri": "https://localhost:8080/"
        },
        "id": "3HffLYb4BT6r",
        "outputId": "449a1278-3334-4d75-c4c9-1f610b3d7fbb"
      },
      "source": [
        "test_datagen = ImageDataGenerator(rescale=1./255)\n",
        "test_generator = test_datagen.flow_from_directory(\n",
        "    'hard_handwriting_shape/test',\n",
        "    target_size=(24,24),\n",
        "    batch_size=3,\n",
        "    class_mode='categorical'\n",
        ")"
      ],
      "execution_count": 9,
      "outputs": [
        {
          "output_type": "stream",
          "text": [
            "Found 15 images belonging to 3 classes.\n"
          ],
          "name": "stdout"
        }
      ]
    },
    {
      "cell_type": "markdown",
      "metadata": {
        "id": "0fuL01EGCG0x"
      },
      "source": [
        "### 모델 정의/설정"
      ]
    },
    {
      "cell_type": "code",
      "metadata": {
        "colab": {
          "base_uri": "https://localhost:8080/"
        },
        "id": "Aa2AuyL8B74u",
        "outputId": "e46b6fd6-7cbf-437c-ca43-223abb0dc7ac"
      },
      "source": [
        "model = Sequential([\n",
        "    Conv2D(32, (3,3), activation='relu', input_shape=(24,24,3)),\n",
        "    Conv2D(64, (3,3), activation='relu'),\n",
        "    MaxPooling2D(),\n",
        "    Flatten(),\n",
        "    Dense(128, activation='relu'),\n",
        "    Dense(3, activation='softmax')             \n",
        "])\n",
        "model.summary()"
      ],
      "execution_count": 10,
      "outputs": [
        {
          "output_type": "stream",
          "text": [
            "Model: \"sequential\"\n",
            "_________________________________________________________________\n",
            "Layer (type)                 Output Shape              Param #   \n",
            "=================================================================\n",
            "conv2d (Conv2D)              (None, 22, 22, 32)        896       \n",
            "_________________________________________________________________\n",
            "conv2d_1 (Conv2D)            (None, 20, 20, 64)        18496     \n",
            "_________________________________________________________________\n",
            "max_pooling2d (MaxPooling2D) (None, 10, 10, 64)        0         \n",
            "_________________________________________________________________\n",
            "flatten (Flatten)            (None, 6400)              0         \n",
            "_________________________________________________________________\n",
            "dense (Dense)                (None, 128)               819328    \n",
            "_________________________________________________________________\n",
            "dense_1 (Dense)              (None, 3)                 387       \n",
            "=================================================================\n",
            "Total params: 839,107\n",
            "Trainable params: 839,107\n",
            "Non-trainable params: 0\n",
            "_________________________________________________________________\n"
          ],
          "name": "stdout"
        }
      ]
    },
    {
      "cell_type": "code",
      "metadata": {
        "id": "0LBUnDv_C1mY"
      },
      "source": [
        "model.compile(loss='categorical_crossentropy', optimizer='adam', metrics=['accuracy'])"
      ],
      "execution_count": 11,
      "outputs": []
    },
    {
      "cell_type": "markdown",
      "metadata": {
        "id": "1xnrJZOlDHRz"
      },
      "source": [
        "### 모델 학습\n",
        "- 첫번째 인자 : 훈련데이터셋을 제공할 제네레이터를 지정. 본 예제에서는 앞서 생성한 train_generator으로 지정.\n",
        "- steps_per_epoch : 한 epoch에 사용할 스텝 수를 지정. 총 45개의 훈련 샘플이 있고 배치사이즈가 3이므로 15 스텝으로 지정.\n",
        "- epochs : 전체 훈련 데이터셋에 대해 학습 반복 횟수를 지정. 50번을 반복적으로 학습.\n",
        "- validation_data : 검증데이터셋을 제공할 제네레이터를 지정. 본 예제에서는 앞서 생성한 test_generator으로 지정.\n",
        "- validation_steps : 한 epoch 종료 시 마다 검증할 때 사용되는 검증 스텝 수를 지정. 총 15개의 검증 샘플이 있고 배치사이즈가 3이므로 5 스텝으로 지정."
      ]
    },
    {
      "cell_type": "code",
      "metadata": {
        "colab": {
          "base_uri": "https://localhost:8080/"
        },
        "id": "d8XuBTwRDExC",
        "outputId": "97820103-fa7b-4fc2-928c-7bef0be97b65"
      },
      "source": [
        "#model.fit_generator(       - deprecated\n",
        "model.fit(\n",
        "    train_generator,\n",
        "    steps_per_epoch=15,\n",
        "    epochs=200,\n",
        "    validation_data=test_generator,\n",
        "    validation_steps=5\n",
        ")"
      ],
      "execution_count": 12,
      "outputs": [
        {
          "output_type": "stream",
          "text": [
            "Epoch 1/200\n",
            "15/15 [==============================] - 1s 58ms/step - loss: 1.4285 - accuracy: 0.3223 - val_loss: 1.1030 - val_accuracy: 0.4667\n",
            "Epoch 2/200\n",
            "15/15 [==============================] - 0s 21ms/step - loss: 1.1157 - accuracy: 0.2729 - val_loss: 1.0764 - val_accuracy: 0.5333\n",
            "Epoch 3/200\n",
            "15/15 [==============================] - 0s 24ms/step - loss: 1.0337 - accuracy: 0.5268 - val_loss: 1.0379 - val_accuracy: 0.4667\n",
            "Epoch 4/200\n",
            "15/15 [==============================] - 0s 22ms/step - loss: 0.8743 - accuracy: 0.6928 - val_loss: 1.1611 - val_accuracy: 0.4000\n",
            "Epoch 5/200\n",
            "15/15 [==============================] - 0s 20ms/step - loss: 0.7712 - accuracy: 0.6748 - val_loss: 1.0642 - val_accuracy: 0.6000\n",
            "Epoch 6/200\n",
            "15/15 [==============================] - 0s 22ms/step - loss: 0.4931 - accuracy: 0.9290 - val_loss: 1.2742 - val_accuracy: 0.4667\n",
            "Epoch 7/200\n",
            "15/15 [==============================] - 0s 21ms/step - loss: 0.5729 - accuracy: 0.7912 - val_loss: 1.2998 - val_accuracy: 0.6000\n",
            "Epoch 8/200\n",
            "15/15 [==============================] - 0s 21ms/step - loss: 0.3403 - accuracy: 0.9138 - val_loss: 1.5160 - val_accuracy: 0.5333\n",
            "Epoch 9/200\n",
            "15/15 [==============================] - 0s 24ms/step - loss: 0.2303 - accuracy: 0.9482 - val_loss: 1.4173 - val_accuracy: 0.6000\n",
            "Epoch 10/200\n",
            "15/15 [==============================] - 0s 22ms/step - loss: 0.4061 - accuracy: 0.8423 - val_loss: 2.1349 - val_accuracy: 0.6000\n",
            "Epoch 11/200\n",
            "15/15 [==============================] - 0s 24ms/step - loss: 0.3276 - accuracy: 0.7742 - val_loss: 2.1198 - val_accuracy: 0.6000\n",
            "Epoch 12/200\n",
            "15/15 [==============================] - 0s 21ms/step - loss: 0.3869 - accuracy: 0.8296 - val_loss: 1.7758 - val_accuracy: 0.5333\n",
            "Epoch 13/200\n",
            "15/15 [==============================] - 0s 21ms/step - loss: 0.1859 - accuracy: 0.8982 - val_loss: 1.8836 - val_accuracy: 0.5333\n",
            "Epoch 14/200\n",
            "15/15 [==============================] - 0s 21ms/step - loss: 0.2442 - accuracy: 0.9028 - val_loss: 1.5293 - val_accuracy: 0.6000\n",
            "Epoch 15/200\n",
            "15/15 [==============================] - 0s 22ms/step - loss: 0.2622 - accuracy: 0.8878 - val_loss: 1.4072 - val_accuracy: 0.6667\n",
            "Epoch 16/200\n",
            "15/15 [==============================] - 0s 21ms/step - loss: 0.4888 - accuracy: 0.8180 - val_loss: 1.8254 - val_accuracy: 0.6000\n",
            "Epoch 17/200\n",
            "15/15 [==============================] - 0s 20ms/step - loss: 0.1553 - accuracy: 0.9364 - val_loss: 2.0773 - val_accuracy: 0.4667\n",
            "Epoch 18/200\n",
            "15/15 [==============================] - 0s 21ms/step - loss: 0.1199 - accuracy: 0.9415 - val_loss: 1.7030 - val_accuracy: 0.6667\n",
            "Epoch 19/200\n",
            "15/15 [==============================] - 0s 20ms/step - loss: 0.0913 - accuracy: 0.9640 - val_loss: 1.5619 - val_accuracy: 0.6667\n",
            "Epoch 20/200\n",
            "15/15 [==============================] - 0s 21ms/step - loss: 0.0465 - accuracy: 0.9957 - val_loss: 1.8886 - val_accuracy: 0.6667\n",
            "Epoch 21/200\n",
            "15/15 [==============================] - 0s 22ms/step - loss: 0.0769 - accuracy: 0.9884 - val_loss: 2.0980 - val_accuracy: 0.6000\n",
            "Epoch 22/200\n",
            "15/15 [==============================] - 0s 22ms/step - loss: 0.0660 - accuracy: 0.9582 - val_loss: 2.0728 - val_accuracy: 0.6667\n",
            "Epoch 23/200\n",
            "15/15 [==============================] - 0s 21ms/step - loss: 0.0673 - accuracy: 0.9741 - val_loss: 2.1176 - val_accuracy: 0.6000\n",
            "Epoch 24/200\n",
            "15/15 [==============================] - 0s 21ms/step - loss: 0.0193 - accuracy: 1.0000 - val_loss: 2.2035 - val_accuracy: 0.6667\n",
            "Epoch 25/200\n",
            "15/15 [==============================] - 0s 21ms/step - loss: 0.0493 - accuracy: 0.9677 - val_loss: 1.9931 - val_accuracy: 0.7333\n",
            "Epoch 26/200\n",
            "15/15 [==============================] - 0s 21ms/step - loss: 0.2139 - accuracy: 0.9024 - val_loss: 2.3872 - val_accuracy: 0.6000\n",
            "Epoch 27/200\n",
            "15/15 [==============================] - 0s 21ms/step - loss: 0.0525 - accuracy: 0.9905 - val_loss: 3.1632 - val_accuracy: 0.6000\n",
            "Epoch 28/200\n",
            "15/15 [==============================] - 0s 22ms/step - loss: 0.1050 - accuracy: 0.9729 - val_loss: 2.2551 - val_accuracy: 0.6000\n",
            "Epoch 29/200\n",
            "15/15 [==============================] - 0s 21ms/step - loss: 0.0363 - accuracy: 0.9861 - val_loss: 2.7972 - val_accuracy: 0.6000\n",
            "Epoch 30/200\n",
            "15/15 [==============================] - 0s 23ms/step - loss: 0.0249 - accuracy: 0.9957 - val_loss: 3.4911 - val_accuracy: 0.6000\n",
            "Epoch 31/200\n",
            "15/15 [==============================] - 0s 21ms/step - loss: 0.0668 - accuracy: 0.9881 - val_loss: 2.6623 - val_accuracy: 0.6000\n",
            "Epoch 32/200\n",
            "15/15 [==============================] - 0s 24ms/step - loss: 0.0208 - accuracy: 1.0000 - val_loss: 1.5621 - val_accuracy: 0.7333\n",
            "Epoch 33/200\n",
            "15/15 [==============================] - 0s 23ms/step - loss: 0.0635 - accuracy: 1.0000 - val_loss: 2.2160 - val_accuracy: 0.6667\n",
            "Epoch 34/200\n",
            "15/15 [==============================] - 0s 22ms/step - loss: 0.0390 - accuracy: 0.9835 - val_loss: 1.9079 - val_accuracy: 0.7333\n",
            "Epoch 35/200\n",
            "15/15 [==============================] - 0s 24ms/step - loss: 0.0579 - accuracy: 0.9729 - val_loss: 2.0566 - val_accuracy: 0.7333\n",
            "Epoch 36/200\n",
            "15/15 [==============================] - 0s 21ms/step - loss: 0.0154 - accuracy: 1.0000 - val_loss: 1.7498 - val_accuracy: 0.7333\n",
            "Epoch 37/200\n",
            "15/15 [==============================] - 0s 23ms/step - loss: 0.0539 - accuracy: 0.9905 - val_loss: 4.2960 - val_accuracy: 0.6000\n",
            "Epoch 38/200\n",
            "15/15 [==============================] - 0s 21ms/step - loss: 0.0524 - accuracy: 0.9607 - val_loss: 2.8182 - val_accuracy: 0.7333\n",
            "Epoch 39/200\n",
            "15/15 [==============================] - 0s 22ms/step - loss: 0.3043 - accuracy: 0.9503 - val_loss: 2.0901 - val_accuracy: 0.6000\n",
            "Epoch 40/200\n",
            "15/15 [==============================] - 0s 24ms/step - loss: 0.0402 - accuracy: 0.9771 - val_loss: 2.1259 - val_accuracy: 0.7333\n",
            "Epoch 41/200\n",
            "15/15 [==============================] - 0s 21ms/step - loss: 0.0461 - accuracy: 0.9729 - val_loss: 3.2325 - val_accuracy: 0.6000\n",
            "Epoch 42/200\n",
            "15/15 [==============================] - 0s 23ms/step - loss: 0.1911 - accuracy: 0.9130 - val_loss: 2.2612 - val_accuracy: 0.6667\n",
            "Epoch 43/200\n",
            "15/15 [==============================] - 0s 21ms/step - loss: 0.0423 - accuracy: 0.9899 - val_loss: 1.9373 - val_accuracy: 0.7333\n",
            "Epoch 44/200\n",
            "15/15 [==============================] - 0s 22ms/step - loss: 0.0302 - accuracy: 1.0000 - val_loss: 2.9125 - val_accuracy: 0.5333\n",
            "Epoch 45/200\n",
            "15/15 [==============================] - 0s 21ms/step - loss: 0.0223 - accuracy: 0.9944 - val_loss: 2.7403 - val_accuracy: 0.6000\n",
            "Epoch 46/200\n",
            "15/15 [==============================] - 0s 23ms/step - loss: 0.1116 - accuracy: 0.9468 - val_loss: 2.2071 - val_accuracy: 0.6667\n",
            "Epoch 47/200\n",
            "15/15 [==============================] - 0s 23ms/step - loss: 0.3450 - accuracy: 0.9020 - val_loss: 3.1350 - val_accuracy: 0.5333\n",
            "Epoch 48/200\n",
            "15/15 [==============================] - 0s 21ms/step - loss: 0.0951 - accuracy: 0.9835 - val_loss: 1.0200 - val_accuracy: 0.8000\n",
            "Epoch 49/200\n",
            "15/15 [==============================] - 0s 22ms/step - loss: 0.0782 - accuracy: 0.9512 - val_loss: 1.1010 - val_accuracy: 0.8000\n",
            "Epoch 50/200\n",
            "15/15 [==============================] - 0s 21ms/step - loss: 0.1064 - accuracy: 0.9534 - val_loss: 1.6285 - val_accuracy: 0.8000\n",
            "Epoch 51/200\n",
            "15/15 [==============================] - 0s 21ms/step - loss: 0.0559 - accuracy: 0.9807 - val_loss: 2.0153 - val_accuracy: 0.6667\n",
            "Epoch 52/200\n",
            "15/15 [==============================] - 0s 22ms/step - loss: 0.0780 - accuracy: 0.9825 - val_loss: 1.4646 - val_accuracy: 0.8000\n",
            "Epoch 53/200\n",
            "15/15 [==============================] - 0s 20ms/step - loss: 0.4101 - accuracy: 0.9156 - val_loss: 1.3847 - val_accuracy: 0.8000\n",
            "Epoch 54/200\n",
            "15/15 [==============================] - 0s 21ms/step - loss: 0.0165 - accuracy: 1.0000 - val_loss: 1.8698 - val_accuracy: 0.6667\n",
            "Epoch 55/200\n",
            "15/15 [==============================] - 0s 23ms/step - loss: 0.0187 - accuracy: 0.9957 - val_loss: 2.0784 - val_accuracy: 0.6667\n",
            "Epoch 56/200\n",
            "15/15 [==============================] - 0s 21ms/step - loss: 0.1352 - accuracy: 0.9179 - val_loss: 2.4268 - val_accuracy: 0.6667\n",
            "Epoch 57/200\n",
            "15/15 [==============================] - 0s 21ms/step - loss: 0.0193 - accuracy: 1.0000 - val_loss: 3.4479 - val_accuracy: 0.6000\n",
            "Epoch 58/200\n",
            "15/15 [==============================] - 0s 21ms/step - loss: 0.0258 - accuracy: 1.0000 - val_loss: 2.7285 - val_accuracy: 0.6000\n",
            "Epoch 59/200\n",
            "15/15 [==============================] - 0s 21ms/step - loss: 0.0088 - accuracy: 1.0000 - val_loss: 2.8182 - val_accuracy: 0.6000\n",
            "Epoch 60/200\n",
            "15/15 [==============================] - 0s 21ms/step - loss: 0.0099 - accuracy: 1.0000 - val_loss: 2.8662 - val_accuracy: 0.6000\n",
            "Epoch 61/200\n",
            "15/15 [==============================] - 0s 22ms/step - loss: 0.0028 - accuracy: 1.0000 - val_loss: 3.3053 - val_accuracy: 0.6000\n",
            "Epoch 62/200\n",
            "15/15 [==============================] - 0s 23ms/step - loss: 0.0096 - accuracy: 1.0000 - val_loss: 4.5080 - val_accuracy: 0.6000\n",
            "Epoch 63/200\n",
            "15/15 [==============================] - 0s 23ms/step - loss: 0.0190 - accuracy: 1.0000 - val_loss: 4.8569 - val_accuracy: 0.6000\n",
            "Epoch 64/200\n",
            "15/15 [==============================] - 0s 20ms/step - loss: 0.0143 - accuracy: 1.0000 - val_loss: 5.4946 - val_accuracy: 0.6000\n",
            "Epoch 65/200\n",
            "15/15 [==============================] - 0s 23ms/step - loss: 0.2428 - accuracy: 0.9475 - val_loss: 1.7988 - val_accuracy: 0.7333\n",
            "Epoch 66/200\n",
            "15/15 [==============================] - 0s 22ms/step - loss: 0.0308 - accuracy: 0.9957 - val_loss: 2.4200 - val_accuracy: 0.6667\n",
            "Epoch 67/200\n",
            "15/15 [==============================] - 0s 22ms/step - loss: 0.0097 - accuracy: 1.0000 - val_loss: 3.0625 - val_accuracy: 0.6667\n",
            "Epoch 68/200\n",
            "15/15 [==============================] - 0s 23ms/step - loss: 0.0769 - accuracy: 0.9905 - val_loss: 2.5395 - val_accuracy: 0.8000\n",
            "Epoch 69/200\n",
            "15/15 [==============================] - 0s 22ms/step - loss: 0.0132 - accuracy: 1.0000 - val_loss: 2.8671 - val_accuracy: 0.7333\n",
            "Epoch 70/200\n",
            "15/15 [==============================] - 0s 23ms/step - loss: 0.1077 - accuracy: 0.9408 - val_loss: 2.8421 - val_accuracy: 0.6667\n",
            "Epoch 71/200\n",
            "15/15 [==============================] - 0s 22ms/step - loss: 0.0069 - accuracy: 1.0000 - val_loss: 2.4632 - val_accuracy: 0.8000\n",
            "Epoch 72/200\n",
            "15/15 [==============================] - 0s 22ms/step - loss: 0.0328 - accuracy: 0.9835 - val_loss: 3.1866 - val_accuracy: 0.6667\n",
            "Epoch 73/200\n",
            "15/15 [==============================] - 0s 22ms/step - loss: 0.0161 - accuracy: 1.0000 - val_loss: 3.7554 - val_accuracy: 0.6000\n",
            "Epoch 74/200\n",
            "15/15 [==============================] - 0s 21ms/step - loss: 0.0217 - accuracy: 0.9835 - val_loss: 1.7659 - val_accuracy: 0.7333\n",
            "Epoch 75/200\n",
            "15/15 [==============================] - 0s 21ms/step - loss: 0.0137 - accuracy: 1.0000 - val_loss: 1.4383 - val_accuracy: 0.7333\n",
            "Epoch 76/200\n",
            "15/15 [==============================] - 0s 22ms/step - loss: 0.0276 - accuracy: 1.0000 - val_loss: 2.1269 - val_accuracy: 0.7333\n",
            "Epoch 77/200\n",
            "15/15 [==============================] - 0s 21ms/step - loss: 0.0326 - accuracy: 1.0000 - val_loss: 2.9988 - val_accuracy: 0.6667\n",
            "Epoch 78/200\n",
            "15/15 [==============================] - 0s 21ms/step - loss: 0.0110 - accuracy: 1.0000 - val_loss: 2.8641 - val_accuracy: 0.6667\n",
            "Epoch 79/200\n",
            "15/15 [==============================] - 0s 21ms/step - loss: 0.0022 - accuracy: 1.0000 - val_loss: 2.3532 - val_accuracy: 0.7333\n",
            "Epoch 80/200\n",
            "15/15 [==============================] - 0s 23ms/step - loss: 0.0119 - accuracy: 1.0000 - val_loss: 2.4204 - val_accuracy: 0.7333\n",
            "Epoch 81/200\n",
            "15/15 [==============================] - 0s 22ms/step - loss: 0.0125 - accuracy: 0.9905 - val_loss: 3.5817 - val_accuracy: 0.6667\n",
            "Epoch 82/200\n",
            "15/15 [==============================] - 0s 22ms/step - loss: 0.1617 - accuracy: 0.8972 - val_loss: 2.9518 - val_accuracy: 0.7333\n",
            "Epoch 83/200\n",
            "15/15 [==============================] - 0s 22ms/step - loss: 0.0392 - accuracy: 0.9941 - val_loss: 2.4718 - val_accuracy: 0.7333\n",
            "Epoch 84/200\n",
            "15/15 [==============================] - 0s 21ms/step - loss: 0.0068 - accuracy: 1.0000 - val_loss: 2.1530 - val_accuracy: 0.7333\n",
            "Epoch 85/200\n",
            "15/15 [==============================] - 0s 22ms/step - loss: 0.0665 - accuracy: 0.9561 - val_loss: 3.6716 - val_accuracy: 0.6667\n",
            "Epoch 86/200\n",
            "15/15 [==============================] - 0s 23ms/step - loss: 0.0236 - accuracy: 0.9957 - val_loss: 3.2607 - val_accuracy: 0.6667\n",
            "Epoch 87/200\n",
            "15/15 [==============================] - 0s 22ms/step - loss: 0.0121 - accuracy: 0.9924 - val_loss: 2.1553 - val_accuracy: 0.8000\n",
            "Epoch 88/200\n",
            "15/15 [==============================] - 0s 21ms/step - loss: 0.0090 - accuracy: 1.0000 - val_loss: 2.7721 - val_accuracy: 0.6667\n",
            "Epoch 89/200\n",
            "15/15 [==============================] - 0s 23ms/step - loss: 0.0064 - accuracy: 0.9941 - val_loss: 3.2816 - val_accuracy: 0.6667\n",
            "Epoch 90/200\n",
            "15/15 [==============================] - 0s 23ms/step - loss: 0.0042 - accuracy: 0.9972 - val_loss: 3.3586 - val_accuracy: 0.6000\n",
            "Epoch 91/200\n",
            "15/15 [==============================] - 0s 21ms/step - loss: 0.0155 - accuracy: 1.0000 - val_loss: 4.4518 - val_accuracy: 0.6000\n",
            "Epoch 92/200\n",
            "15/15 [==============================] - 0s 22ms/step - loss: 0.0094 - accuracy: 0.9924 - val_loss: 3.9416 - val_accuracy: 0.6000\n",
            "Epoch 93/200\n",
            "15/15 [==============================] - 0s 22ms/step - loss: 0.0031 - accuracy: 1.0000 - val_loss: 2.7153 - val_accuracy: 0.7333\n",
            "Epoch 94/200\n",
            "15/15 [==============================] - 0s 22ms/step - loss: 0.0213 - accuracy: 0.9805 - val_loss: 2.4875 - val_accuracy: 0.8000\n",
            "Epoch 95/200\n",
            "15/15 [==============================] - 0s 22ms/step - loss: 0.1789 - accuracy: 0.9366 - val_loss: 5.3697 - val_accuracy: 0.4667\n",
            "Epoch 96/200\n",
            "15/15 [==============================] - 0s 21ms/step - loss: 0.0307 - accuracy: 0.9924 - val_loss: 5.4184 - val_accuracy: 0.4667\n",
            "Epoch 97/200\n",
            "15/15 [==============================] - 0s 22ms/step - loss: 0.0465 - accuracy: 0.9941 - val_loss: 2.4882 - val_accuracy: 0.6667\n",
            "Epoch 98/200\n",
            "15/15 [==============================] - 0s 21ms/step - loss: 0.1705 - accuracy: 0.9295 - val_loss: 1.9050 - val_accuracy: 0.7333\n",
            "Epoch 99/200\n",
            "15/15 [==============================] - 0s 21ms/step - loss: 0.0507 - accuracy: 0.9729 - val_loss: 2.0517 - val_accuracy: 0.7333\n",
            "Epoch 100/200\n",
            "15/15 [==============================] - 0s 24ms/step - loss: 0.0117 - accuracy: 1.0000 - val_loss: 2.3029 - val_accuracy: 0.7333\n",
            "Epoch 101/200\n",
            "15/15 [==============================] - 0s 21ms/step - loss: 0.1419 - accuracy: 0.9541 - val_loss: 3.2022 - val_accuracy: 0.6000\n",
            "Epoch 102/200\n",
            "15/15 [==============================] - 0s 22ms/step - loss: 0.0471 - accuracy: 0.9835 - val_loss: 2.4328 - val_accuracy: 0.7333\n",
            "Epoch 103/200\n",
            "15/15 [==============================] - 0s 21ms/step - loss: 0.0364 - accuracy: 0.9905 - val_loss: 2.4411 - val_accuracy: 0.7333\n",
            "Epoch 104/200\n",
            "15/15 [==============================] - 0s 23ms/step - loss: 0.0872 - accuracy: 0.9408 - val_loss: 2.5739 - val_accuracy: 0.7333\n",
            "Epoch 105/200\n",
            "15/15 [==============================] - 0s 21ms/step - loss: 0.1476 - accuracy: 0.9677 - val_loss: 4.9057 - val_accuracy: 0.6000\n",
            "Epoch 106/200\n",
            "15/15 [==============================] - 0s 23ms/step - loss: 0.3452 - accuracy: 0.8203 - val_loss: 2.0270 - val_accuracy: 0.8000\n",
            "Epoch 107/200\n",
            "15/15 [==============================] - 0s 21ms/step - loss: 0.0080 - accuracy: 1.0000 - val_loss: 1.7803 - val_accuracy: 0.8000\n",
            "Epoch 108/200\n",
            "15/15 [==============================] - 0s 21ms/step - loss: 0.0899 - accuracy: 0.9729 - val_loss: 1.8329 - val_accuracy: 0.8000\n",
            "Epoch 109/200\n",
            "15/15 [==============================] - 0s 21ms/step - loss: 0.0260 - accuracy: 1.0000 - val_loss: 2.4261 - val_accuracy: 0.6667\n",
            "Epoch 110/200\n",
            "15/15 [==============================] - 0s 23ms/step - loss: 0.0839 - accuracy: 0.9677 - val_loss: 2.2487 - val_accuracy: 0.8000\n",
            "Epoch 111/200\n",
            "15/15 [==============================] - 0s 22ms/step - loss: 0.0328 - accuracy: 1.0000 - val_loss: 2.9599 - val_accuracy: 0.7333\n",
            "Epoch 112/200\n",
            "15/15 [==============================] - 0s 24ms/step - loss: 0.2439 - accuracy: 0.9002 - val_loss: 2.4959 - val_accuracy: 0.7333\n",
            "Epoch 113/200\n",
            "15/15 [==============================] - 0s 22ms/step - loss: 0.0558 - accuracy: 0.9924 - val_loss: 2.0006 - val_accuracy: 0.7333\n",
            "Epoch 114/200\n",
            "15/15 [==============================] - 0s 21ms/step - loss: 0.0212 - accuracy: 0.9972 - val_loss: 1.9681 - val_accuracy: 0.8000\n",
            "Epoch 115/200\n",
            "15/15 [==============================] - 0s 22ms/step - loss: 0.1106 - accuracy: 0.9295 - val_loss: 2.7663 - val_accuracy: 0.6667\n",
            "Epoch 116/200\n",
            "15/15 [==============================] - 0s 23ms/step - loss: 0.0185 - accuracy: 1.0000 - val_loss: 2.7731 - val_accuracy: 0.8000\n",
            "Epoch 117/200\n",
            "15/15 [==============================] - 0s 24ms/step - loss: 0.0059 - accuracy: 1.0000 - val_loss: 2.6993 - val_accuracy: 0.8000\n",
            "Epoch 118/200\n",
            "15/15 [==============================] - 0s 23ms/step - loss: 0.0048 - accuracy: 1.0000 - val_loss: 2.6168 - val_accuracy: 0.8000\n",
            "Epoch 119/200\n",
            "15/15 [==============================] - 0s 23ms/step - loss: 0.0016 - accuracy: 1.0000 - val_loss: 2.6298 - val_accuracy: 0.8000\n",
            "Epoch 120/200\n",
            "15/15 [==============================] - 0s 22ms/step - loss: 0.0048 - accuracy: 1.0000 - val_loss: 2.8595 - val_accuracy: 0.8000\n",
            "Epoch 121/200\n",
            "15/15 [==============================] - 0s 23ms/step - loss: 0.0107 - accuracy: 1.0000 - val_loss: 3.1437 - val_accuracy: 0.6667\n",
            "Epoch 122/200\n",
            "15/15 [==============================] - 0s 22ms/step - loss: 0.3897 - accuracy: 0.9124 - val_loss: 2.9922 - val_accuracy: 0.6667\n",
            "Epoch 123/200\n",
            "15/15 [==============================] - 0s 23ms/step - loss: 0.0271 - accuracy: 1.0000 - val_loss: 2.2123 - val_accuracy: 0.7333\n",
            "Epoch 124/200\n",
            "15/15 [==============================] - 0s 21ms/step - loss: 0.0060 - accuracy: 1.0000 - val_loss: 2.2204 - val_accuracy: 0.7333\n",
            "Epoch 125/200\n",
            "15/15 [==============================] - 0s 21ms/step - loss: 0.0292 - accuracy: 0.9677 - val_loss: 2.6609 - val_accuracy: 0.6667\n",
            "Epoch 126/200\n",
            "15/15 [==============================] - 0s 22ms/step - loss: 0.1952 - accuracy: 0.9288 - val_loss: 3.1827 - val_accuracy: 0.7333\n",
            "Epoch 127/200\n",
            "15/15 [==============================] - 0s 20ms/step - loss: 0.2770 - accuracy: 0.9006 - val_loss: 2.7953 - val_accuracy: 0.6667\n",
            "Epoch 128/200\n",
            "15/15 [==============================] - 0s 24ms/step - loss: 0.1816 - accuracy: 0.9024 - val_loss: 2.0009 - val_accuracy: 0.8000\n",
            "Epoch 129/200\n",
            "15/15 [==============================] - 0s 24ms/step - loss: 0.0915 - accuracy: 0.9587 - val_loss: 2.9556 - val_accuracy: 0.6667\n",
            "Epoch 130/200\n",
            "15/15 [==============================] - 0s 23ms/step - loss: 0.0632 - accuracy: 0.9805 - val_loss: 2.7330 - val_accuracy: 0.6667\n",
            "Epoch 131/200\n",
            "15/15 [==============================] - 0s 23ms/step - loss: 0.1474 - accuracy: 0.9413 - val_loss: 2.6191 - val_accuracy: 0.7333\n",
            "Epoch 132/200\n",
            "15/15 [==============================] - 0s 24ms/step - loss: 0.0113 - accuracy: 1.0000 - val_loss: 2.9008 - val_accuracy: 0.7333\n",
            "Epoch 133/200\n",
            "15/15 [==============================] - 0s 23ms/step - loss: 0.0237 - accuracy: 1.0000 - val_loss: 2.8213 - val_accuracy: 0.7333\n",
            "Epoch 134/200\n",
            "15/15 [==============================] - 0s 24ms/step - loss: 0.0981 - accuracy: 0.9835 - val_loss: 2.9359 - val_accuracy: 0.6667\n",
            "Epoch 135/200\n",
            "15/15 [==============================] - 0s 21ms/step - loss: 0.1209 - accuracy: 0.9503 - val_loss: 2.7606 - val_accuracy: 0.7333\n",
            "Epoch 136/200\n",
            "15/15 [==============================] - 0s 23ms/step - loss: 0.1766 - accuracy: 0.9521 - val_loss: 2.3393 - val_accuracy: 0.8000\n",
            "Epoch 137/200\n",
            "15/15 [==============================] - 0s 22ms/step - loss: 0.0152 - accuracy: 1.0000 - val_loss: 3.3462 - val_accuracy: 0.6000\n",
            "Epoch 138/200\n",
            "15/15 [==============================] - 0s 24ms/step - loss: 0.0316 - accuracy: 1.0000 - val_loss: 4.7131 - val_accuracy: 0.6000\n",
            "Epoch 139/200\n",
            "15/15 [==============================] - 0s 23ms/step - loss: 0.0145 - accuracy: 1.0000 - val_loss: 3.8079 - val_accuracy: 0.6667\n",
            "Epoch 140/200\n",
            "15/15 [==============================] - 0s 25ms/step - loss: 0.0064 - accuracy: 1.0000 - val_loss: 2.7915 - val_accuracy: 0.7333\n",
            "Epoch 141/200\n",
            "15/15 [==============================] - 0s 26ms/step - loss: 0.0171 - accuracy: 0.9924 - val_loss: 3.5693 - val_accuracy: 0.6667\n",
            "Epoch 142/200\n",
            "15/15 [==============================] - 0s 23ms/step - loss: 0.1156 - accuracy: 0.9653 - val_loss: 3.1331 - val_accuracy: 0.6667\n",
            "Epoch 143/200\n",
            "15/15 [==============================] - 0s 21ms/step - loss: 0.0072 - accuracy: 1.0000 - val_loss: 2.6390 - val_accuracy: 0.6667\n",
            "Epoch 144/200\n",
            "15/15 [==============================] - 0s 22ms/step - loss: 0.0061 - accuracy: 1.0000 - val_loss: 2.5914 - val_accuracy: 0.6667\n",
            "Epoch 145/200\n",
            "15/15 [==============================] - 0s 24ms/step - loss: 0.0053 - accuracy: 0.9972 - val_loss: 2.5971 - val_accuracy: 0.6667\n",
            "Epoch 146/200\n",
            "15/15 [==============================] - 0s 21ms/step - loss: 0.0020 - accuracy: 1.0000 - val_loss: 2.7305 - val_accuracy: 0.6667\n",
            "Epoch 147/200\n",
            "15/15 [==============================] - 0s 23ms/step - loss: 0.0143 - accuracy: 1.0000 - val_loss: 2.5573 - val_accuracy: 0.7333\n",
            "Epoch 148/200\n",
            "15/15 [==============================] - 0s 22ms/step - loss: 0.0033 - accuracy: 1.0000 - val_loss: 2.4757 - val_accuracy: 0.7333\n",
            "Epoch 149/200\n",
            "15/15 [==============================] - 0s 23ms/step - loss: 0.0074 - accuracy: 1.0000 - val_loss: 2.2489 - val_accuracy: 0.7333\n",
            "Epoch 150/200\n",
            "15/15 [==============================] - 0s 23ms/step - loss: 0.0078 - accuracy: 1.0000 - val_loss: 2.1321 - val_accuracy: 0.7333\n",
            "Epoch 151/200\n",
            "15/15 [==============================] - 0s 24ms/step - loss: 0.0083 - accuracy: 1.0000 - val_loss: 2.1652 - val_accuracy: 0.7333\n",
            "Epoch 152/200\n",
            "15/15 [==============================] - 0s 21ms/step - loss: 0.0024 - accuracy: 1.0000 - val_loss: 2.2234 - val_accuracy: 0.7333\n",
            "Epoch 153/200\n",
            "15/15 [==============================] - 0s 23ms/step - loss: 0.0060 - accuracy: 1.0000 - val_loss: 2.2773 - val_accuracy: 0.7333\n",
            "Epoch 154/200\n",
            "15/15 [==============================] - 0s 22ms/step - loss: 0.0016 - accuracy: 1.0000 - val_loss: 2.3711 - val_accuracy: 0.7333\n",
            "Epoch 155/200\n",
            "15/15 [==============================] - 0s 23ms/step - loss: 0.0092 - accuracy: 1.0000 - val_loss: 2.5030 - val_accuracy: 0.6667\n",
            "Epoch 156/200\n",
            "15/15 [==============================] - 0s 26ms/step - loss: 0.0011 - accuracy: 1.0000 - val_loss: 2.5850 - val_accuracy: 0.6667\n",
            "Epoch 157/200\n",
            "15/15 [==============================] - 0s 21ms/step - loss: 0.0072 - accuracy: 1.0000 - val_loss: 2.6918 - val_accuracy: 0.6667\n",
            "Epoch 158/200\n",
            "15/15 [==============================] - 0s 23ms/step - loss: 0.0082 - accuracy: 1.0000 - val_loss: 2.7069 - val_accuracy: 0.6667\n",
            "Epoch 159/200\n",
            "15/15 [==============================] - 0s 23ms/step - loss: 0.0028 - accuracy: 1.0000 - val_loss: 2.7304 - val_accuracy: 0.6667\n",
            "Epoch 160/200\n",
            "15/15 [==============================] - 0s 23ms/step - loss: 0.0028 - accuracy: 1.0000 - val_loss: 2.8148 - val_accuracy: 0.6667\n",
            "Epoch 161/200\n",
            "15/15 [==============================] - 0s 24ms/step - loss: 0.0308 - accuracy: 0.9835 - val_loss: 3.3814 - val_accuracy: 0.7333\n",
            "Epoch 162/200\n",
            "15/15 [==============================] - 0s 21ms/step - loss: 0.0261 - accuracy: 1.0000 - val_loss: 3.2586 - val_accuracy: 0.6667\n",
            "Epoch 163/200\n",
            "15/15 [==============================] - 0s 23ms/step - loss: 8.0533e-04 - accuracy: 1.0000 - val_loss: 3.3281 - val_accuracy: 0.6667\n",
            "Epoch 164/200\n",
            "15/15 [==============================] - 0s 23ms/step - loss: 0.0022 - accuracy: 1.0000 - val_loss: 3.4014 - val_accuracy: 0.6667\n",
            "Epoch 165/200\n",
            "15/15 [==============================] - 0s 23ms/step - loss: 0.0010 - accuracy: 1.0000 - val_loss: 3.3934 - val_accuracy: 0.6667\n",
            "Epoch 166/200\n",
            "15/15 [==============================] - 0s 23ms/step - loss: 7.2791e-04 - accuracy: 1.0000 - val_loss: 3.4123 - val_accuracy: 0.6667\n",
            "Epoch 167/200\n",
            "15/15 [==============================] - 0s 24ms/step - loss: 0.0012 - accuracy: 1.0000 - val_loss: 3.5630 - val_accuracy: 0.6667\n",
            "Epoch 168/200\n",
            "15/15 [==============================] - 0s 23ms/step - loss: 0.0131 - accuracy: 0.9924 - val_loss: 4.0569 - val_accuracy: 0.6667\n",
            "Epoch 169/200\n",
            "15/15 [==============================] - 0s 22ms/step - loss: 0.0040 - accuracy: 1.0000 - val_loss: 4.5832 - val_accuracy: 0.6667\n",
            "Epoch 170/200\n",
            "15/15 [==============================] - 0s 24ms/step - loss: 0.0057 - accuracy: 1.0000 - val_loss: 4.9497 - val_accuracy: 0.6667\n",
            "Epoch 171/200\n",
            "15/15 [==============================] - 0s 24ms/step - loss: 0.0787 - accuracy: 0.9561 - val_loss: 3.1270 - val_accuracy: 0.7333\n",
            "Epoch 172/200\n",
            "15/15 [==============================] - 0s 24ms/step - loss: 0.0542 - accuracy: 0.9503 - val_loss: 2.4787 - val_accuracy: 0.7333\n",
            "Epoch 173/200\n",
            "15/15 [==============================] - 0s 23ms/step - loss: 0.0061 - accuracy: 0.9941 - val_loss: 2.3954 - val_accuracy: 0.8000\n",
            "Epoch 174/200\n",
            "15/15 [==============================] - 0s 23ms/step - loss: 0.0014 - accuracy: 1.0000 - val_loss: 2.5523 - val_accuracy: 0.8000\n",
            "Epoch 175/200\n",
            "15/15 [==============================] - 0s 24ms/step - loss: 0.0043 - accuracy: 1.0000 - val_loss: 2.7642 - val_accuracy: 0.8000\n",
            "Epoch 176/200\n",
            "15/15 [==============================] - 0s 23ms/step - loss: 0.0764 - accuracy: 0.9503 - val_loss: 2.7535 - val_accuracy: 0.8000\n",
            "Epoch 177/200\n",
            "15/15 [==============================] - 0s 24ms/step - loss: 0.0282 - accuracy: 0.9771 - val_loss: 2.9617 - val_accuracy: 0.8000\n",
            "Epoch 178/200\n",
            "15/15 [==============================] - 0s 23ms/step - loss: 0.0119 - accuracy: 1.0000 - val_loss: 3.6410 - val_accuracy: 0.7333\n",
            "Epoch 179/200\n",
            "15/15 [==============================] - 0s 23ms/step - loss: 8.3667e-05 - accuracy: 1.0000 - val_loss: 3.9936 - val_accuracy: 0.7333\n",
            "Epoch 180/200\n",
            "15/15 [==============================] - 0s 23ms/step - loss: 0.0044 - accuracy: 1.0000 - val_loss: 3.8437 - val_accuracy: 0.6000\n",
            "Epoch 181/200\n",
            "15/15 [==============================] - 0s 22ms/step - loss: 6.5804e-05 - accuracy: 1.0000 - val_loss: 3.7024 - val_accuracy: 0.6667\n",
            "Epoch 182/200\n",
            "15/15 [==============================] - 0s 24ms/step - loss: 0.0242 - accuracy: 0.9884 - val_loss: 3.1253 - val_accuracy: 0.7333\n",
            "Epoch 183/200\n",
            "15/15 [==============================] - 0s 23ms/step - loss: 0.0371 - accuracy: 0.9941 - val_loss: 2.8204 - val_accuracy: 0.7333\n",
            "Epoch 184/200\n",
            "15/15 [==============================] - 0s 24ms/step - loss: 0.0012 - accuracy: 1.0000 - val_loss: 3.8176 - val_accuracy: 0.6000\n",
            "Epoch 185/200\n",
            "15/15 [==============================] - 0s 21ms/step - loss: 0.0275 - accuracy: 1.0000 - val_loss: 3.6019 - val_accuracy: 0.6667\n",
            "Epoch 186/200\n",
            "15/15 [==============================] - 0s 21ms/step - loss: 0.1502 - accuracy: 0.9083 - val_loss: 2.2318 - val_accuracy: 0.7333\n",
            "Epoch 187/200\n",
            "15/15 [==============================] - 0s 21ms/step - loss: 0.0044 - accuracy: 1.0000 - val_loss: 2.5836 - val_accuracy: 0.7333\n",
            "Epoch 188/200\n",
            "15/15 [==============================] - 0s 24ms/step - loss: 0.0114 - accuracy: 1.0000 - val_loss: 2.8037 - val_accuracy: 0.7333\n",
            "Epoch 189/200\n",
            "15/15 [==============================] - 0s 23ms/step - loss: 0.0132 - accuracy: 0.9924 - val_loss: 2.9712 - val_accuracy: 0.8000\n",
            "Epoch 190/200\n",
            "15/15 [==============================] - 0s 23ms/step - loss: 0.0097 - accuracy: 1.0000 - val_loss: 3.8045 - val_accuracy: 0.6667\n",
            "Epoch 191/200\n",
            "15/15 [==============================] - 0s 23ms/step - loss: 0.0012 - accuracy: 1.0000 - val_loss: 3.0787 - val_accuracy: 0.7333\n",
            "Epoch 192/200\n",
            "15/15 [==============================] - 0s 22ms/step - loss: 0.0036 - accuracy: 1.0000 - val_loss: 3.1639 - val_accuracy: 0.8000\n",
            "Epoch 193/200\n",
            "15/15 [==============================] - 0s 23ms/step - loss: 0.0160 - accuracy: 0.9835 - val_loss: 3.4764 - val_accuracy: 0.8000\n",
            "Epoch 194/200\n",
            "15/15 [==============================] - 0s 23ms/step - loss: 0.1069 - accuracy: 0.9607 - val_loss: 3.5176 - val_accuracy: 0.8000\n",
            "Epoch 195/200\n",
            "15/15 [==============================] - 0s 24ms/step - loss: 0.0013 - accuracy: 1.0000 - val_loss: 3.6724 - val_accuracy: 0.7333\n",
            "Epoch 196/200\n",
            "15/15 [==============================] - 0s 24ms/step - loss: 0.0059 - accuracy: 1.0000 - val_loss: 3.7640 - val_accuracy: 0.8000\n",
            "Epoch 197/200\n",
            "15/15 [==============================] - 0s 22ms/step - loss: 0.0017 - accuracy: 1.0000 - val_loss: 3.8480 - val_accuracy: 0.8000\n",
            "Epoch 198/200\n",
            "15/15 [==============================] - 0s 21ms/step - loss: 0.0016 - accuracy: 1.0000 - val_loss: 3.7640 - val_accuracy: 0.8000\n",
            "Epoch 199/200\n",
            "15/15 [==============================] - 0s 23ms/step - loss: 3.1167e-04 - accuracy: 1.0000 - val_loss: 3.6558 - val_accuracy: 0.8000\n",
            "Epoch 200/200\n",
            "15/15 [==============================] - 0s 23ms/step - loss: 0.0049 - accuracy: 1.0000 - val_loss: 3.4258 - val_accuracy: 0.8000\n"
          ],
          "name": "stdout"
        },
        {
          "output_type": "execute_result",
          "data": {
            "text/plain": [
              "<tensorflow.python.keras.callbacks.History at 0x7f470bcd1290>"
            ]
          },
          "metadata": {
            "tags": []
          },
          "execution_count": 12
        }
      ]
    },
    {
      "cell_type": "markdown",
      "metadata": {
        "id": "2Ewe4Ht0EpEd"
      },
      "source": [
        "### 모델 평가"
      ]
    },
    {
      "cell_type": "code",
      "metadata": {
        "colab": {
          "base_uri": "https://localhost:8080/"
        },
        "id": "XDZz2HcJFDCK",
        "outputId": "995dd3cc-bfcd-4b38-c1e4-86dca256a887"
      },
      "source": [
        "# acc = model.evaluate_generator(test_generator, steps=5) - deprecated\n",
        "acc = model.evaluate(test_generator, steps=5)\n",
        "print(f'Accuracy: {acc[1]:.4f}')"
      ],
      "execution_count": 13,
      "outputs": [
        {
          "output_type": "stream",
          "text": [
            "5/5 [==============================] - 0s 6ms/step - loss: 3.4258 - accuracy: 0.8000\n",
            "Accuracy: 0.8000\n"
          ],
          "name": "stdout"
        }
      ]
    },
    {
      "cell_type": "code",
      "metadata": {
        "id": "sxUdsGgKFNr9"
      },
      "source": [
        ""
      ],
      "execution_count": 13,
      "outputs": []
    }
  ]
}