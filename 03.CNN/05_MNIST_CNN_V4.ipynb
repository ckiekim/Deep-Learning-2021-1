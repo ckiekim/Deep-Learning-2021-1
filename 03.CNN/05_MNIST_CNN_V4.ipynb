{
  "nbformat": 4,
  "nbformat_minor": 0,
  "metadata": {
    "colab": {
      "name": "05_MNIST_CNN_V4.ipynb",
      "provenance": [],
      "collapsed_sections": []
    },
    "kernelspec": {
      "name": "python3",
      "display_name": "Python 3"
    },
    "language_info": {
      "name": "python"
    },
    "accelerator": "GPU"
  },
  "cells": [
    {
      "cell_type": "markdown",
      "metadata": {
        "id": "uONJvA2_dcJf"
      },
      "source": [
        "# MNIST 손글씨 - Convolutional Neural Network Ver.4\n",
        "- Conv2D 2 layers\n",
        "- MaxPooling2D 1 layer\n",
        "- Dropout 2 layers\n",
        "- Padding 추가"
      ]
    },
    {
      "cell_type": "code",
      "metadata": {
        "id": "v7JWAoF8dg4X"
      },
      "source": [
        "import numpy as np\n",
        "import tensorflow as tf\n",
        "import matplotlib.pyplot as plt\n",
        "%matplotlib inline"
      ],
      "execution_count": 1,
      "outputs": []
    },
    {
      "cell_type": "code",
      "metadata": {
        "id": "gej_diQtdr33"
      },
      "source": [
        "seed = 2021\n",
        "np.random.seed(seed)\n",
        "tf.random.set_seed(seed)"
      ],
      "execution_count": 2,
      "outputs": []
    },
    {
      "cell_type": "markdown",
      "metadata": {
        "id": "6xs1SK-bd4I3"
      },
      "source": [
        "### 데이터 전처리"
      ]
    },
    {
      "cell_type": "code",
      "metadata": {
        "colab": {
          "base_uri": "https://localhost:8080/"
        },
        "id": "TlaGqmJJd20w",
        "outputId": "13bc9140-547d-428a-c893-64be73238dac"
      },
      "source": [
        "from tensorflow.keras.datasets import mnist\n",
        "(X_train, y_train), (X_test, y_test) = mnist.load_data()"
      ],
      "execution_count": 3,
      "outputs": [
        {
          "output_type": "stream",
          "text": [
            "Downloading data from https://storage.googleapis.com/tensorflow/tf-keras-datasets/mnist.npz\n",
            "11493376/11490434 [==============================] - 0s 0us/step\n"
          ],
          "name": "stdout"
        }
      ]
    },
    {
      "cell_type": "code",
      "metadata": {
        "colab": {
          "base_uri": "https://localhost:8080/"
        },
        "id": "HntIMQBTeQHJ",
        "outputId": "806c69b0-3f00-43ae-c5df-101e4320cd31"
      },
      "source": [
        "X_train.shape, X_test.shape, y_train.shape"
      ],
      "execution_count": 4,
      "outputs": [
        {
          "output_type": "execute_result",
          "data": {
            "text/plain": [
              "((60000, 28, 28), (10000, 28, 28), (60000,))"
            ]
          },
          "metadata": {
            "tags": []
          },
          "execution_count": 4
        }
      ]
    },
    {
      "cell_type": "code",
      "metadata": {
        "id": "9lohTwn6fMqW"
      },
      "source": [
        "# 2차원 데이터(28x28)를 3차원으로(28, 28, 1)\n",
        "X_train = X_train.reshape(-1, 28, 28, 1)"
      ],
      "execution_count": 5,
      "outputs": []
    },
    {
      "cell_type": "code",
      "metadata": {
        "colab": {
          "base_uri": "https://localhost:8080/"
        },
        "id": "a0WqQLLBgJ0J",
        "outputId": "ec398b2c-6557-4bf6-d7f1-562e25df89ad"
      },
      "source": [
        "# 0 ~ 1 사이의 값으로 정규화 \n",
        "X_train = X_train / 255.0\n",
        "X_train.shape"
      ],
      "execution_count": 6,
      "outputs": [
        {
          "output_type": "execute_result",
          "data": {
            "text/plain": [
              "(60000, 28, 28, 1)"
            ]
          },
          "metadata": {
            "tags": []
          },
          "execution_count": 6
        }
      ]
    },
    {
      "cell_type": "code",
      "metadata": {
        "colab": {
          "base_uri": "https://localhost:8080/"
        },
        "id": "DOpvLno1gflg",
        "outputId": "891227ba-61c3-4d7c-8134-1251edade4d2"
      },
      "source": [
        "# X_test 에 대해서도 동일하게 처리\n",
        "X_test = X_test.reshape(-1, 28, 28, 1)\n",
        "X_test = X_test / 255.0\n",
        "X_test.shape"
      ],
      "execution_count": 7,
      "outputs": [
        {
          "output_type": "execute_result",
          "data": {
            "text/plain": [
              "(10000, 28, 28, 1)"
            ]
          },
          "metadata": {
            "tags": []
          },
          "execution_count": 7
        }
      ]
    },
    {
      "cell_type": "code",
      "metadata": {
        "colab": {
          "base_uri": "https://localhost:8080/"
        },
        "id": "m2_DZp9YguPY",
        "outputId": "52393146-774e-4b47-f929-e6336c2a573c"
      },
      "source": [
        "# One-hot encoding\n",
        "from tensorflow.keras.utils import to_categorical\n",
        "\n",
        "Y_train = to_categorical(y_train, 10)\n",
        "Y_test = to_categorical(y_test, 10)\n",
        "Y_train.shape, Y_test.shape"
      ],
      "execution_count": 8,
      "outputs": [
        {
          "output_type": "execute_result",
          "data": {
            "text/plain": [
              "((60000, 10), (10000, 10))"
            ]
          },
          "metadata": {
            "tags": []
          },
          "execution_count": 8
        }
      ]
    },
    {
      "cell_type": "markdown",
      "metadata": {
        "id": "qAuXRNrQhc4U"
      },
      "source": [
        "### 모델 정의, 설정, 학습"
      ]
    },
    {
      "cell_type": "code",
      "metadata": {
        "id": "vAz0M8R-hS1l"
      },
      "source": [
        "from tensorflow.keras.models import Sequential\n",
        "from tensorflow.keras.layers import Dense, Conv2D, Flatten, MaxPooling2D, Dropout\n",
        "from tensorflow.keras.callbacks import ModelCheckpoint, EarlyStopping\n",
        "import os"
      ],
      "execution_count": 9,
      "outputs": []
    },
    {
      "cell_type": "code",
      "metadata": {
        "id": "p6VGM_yHh586"
      },
      "source": [
        "MODEL_DIR = './model/'\n",
        "if not os.path.exists(MODEL_DIR):\n",
        "    os.mkdir(MODEL_DIR)"
      ],
      "execution_count": 10,
      "outputs": []
    },
    {
      "cell_type": "code",
      "metadata": {
        "colab": {
          "base_uri": "https://localhost:8080/"
        },
        "id": "_p8M6fFoiNWK",
        "outputId": "45c8b76c-bfbd-4604-d234-7e4fdfdc90c0"
      },
      "source": [
        "model = Sequential()\n",
        "model.add(Conv2D(32, (3,3), input_shape=(28,28,1), activation='relu', padding='same'))\n",
        "model.add(Conv2D(64, (3,3), activation='relu', padding='same'))\n",
        "model.add(MaxPooling2D())\n",
        "model.add(Dropout(0.25))\n",
        "model.add(Flatten())\n",
        "model.add(Dense(512, activation='relu'))\n",
        "model.add(Dropout(0.5))\n",
        "model.add(Dense(10, activation='softmax'))\n",
        "model.summary()"
      ],
      "execution_count": 11,
      "outputs": [
        {
          "output_type": "stream",
          "text": [
            "Model: \"sequential\"\n",
            "_________________________________________________________________\n",
            "Layer (type)                 Output Shape              Param #   \n",
            "=================================================================\n",
            "conv2d (Conv2D)              (None, 28, 28, 32)        320       \n",
            "_________________________________________________________________\n",
            "conv2d_1 (Conv2D)            (None, 28, 28, 64)        18496     \n",
            "_________________________________________________________________\n",
            "max_pooling2d (MaxPooling2D) (None, 14, 14, 64)        0         \n",
            "_________________________________________________________________\n",
            "dropout (Dropout)            (None, 14, 14, 64)        0         \n",
            "_________________________________________________________________\n",
            "flatten (Flatten)            (None, 12544)             0         \n",
            "_________________________________________________________________\n",
            "dense (Dense)                (None, 512)               6423040   \n",
            "_________________________________________________________________\n",
            "dropout_1 (Dropout)          (None, 512)               0         \n",
            "_________________________________________________________________\n",
            "dense_1 (Dense)              (None, 10)                5130      \n",
            "=================================================================\n",
            "Total params: 6,446,986\n",
            "Trainable params: 6,446,986\n",
            "Non-trainable params: 0\n",
            "_________________________________________________________________\n"
          ],
          "name": "stdout"
        }
      ]
    },
    {
      "cell_type": "code",
      "metadata": {
        "id": "vxdIXCVMi_QF"
      },
      "source": [
        "model.compile(loss='categorical_crossentropy', optimizer='adam', metrics=['accuracy'])"
      ],
      "execution_count": 12,
      "outputs": []
    },
    {
      "cell_type": "code",
      "metadata": {
        "id": "AeY89iRTjX0s"
      },
      "source": [
        "# 모델 최적화\n",
        "model_path = MODEL_DIR + 'best-mnist-cnn-v4.hdf5'\n",
        "checkpoint = ModelCheckpoint(filepath=model_path, monitor='val_loss', \n",
        "                             verbose=1, save_best_only=True)\n",
        "early_stopping = EarlyStopping(monitor='val_loss', patience=10)"
      ],
      "execution_count": 13,
      "outputs": []
    },
    {
      "cell_type": "code",
      "metadata": {
        "colab": {
          "base_uri": "https://localhost:8080/"
        },
        "id": "nCUh9YmnkItR",
        "outputId": "dd8f9002-0fc4-4003-b592-6523a2e78f36"
      },
      "source": [
        "history = model.fit(X_train, Y_train, validation_split=0.2,\n",
        "                    epochs=50, batch_size=200, verbose=0,\n",
        "                    callbacks=[checkpoint, early_stopping])"
      ],
      "execution_count": 14,
      "outputs": [
        {
          "output_type": "stream",
          "text": [
            "\n",
            "Epoch 00001: val_loss improved from inf to 0.05603, saving model to ./model/best-mnist-cnn-v4.hdf5\n",
            "\n",
            "Epoch 00002: val_loss improved from 0.05603 to 0.04626, saving model to ./model/best-mnist-cnn-v4.hdf5\n",
            "\n",
            "Epoch 00003: val_loss improved from 0.04626 to 0.03774, saving model to ./model/best-mnist-cnn-v4.hdf5\n",
            "\n",
            "Epoch 00004: val_loss improved from 0.03774 to 0.03744, saving model to ./model/best-mnist-cnn-v4.hdf5\n",
            "\n",
            "Epoch 00005: val_loss improved from 0.03744 to 0.03603, saving model to ./model/best-mnist-cnn-v4.hdf5\n",
            "\n",
            "Epoch 00006: val_loss did not improve from 0.03603\n",
            "\n",
            "Epoch 00007: val_loss did not improve from 0.03603\n",
            "\n",
            "Epoch 00008: val_loss did not improve from 0.03603\n",
            "\n",
            "Epoch 00009: val_loss did not improve from 0.03603\n",
            "\n",
            "Epoch 00010: val_loss improved from 0.03603 to 0.03417, saving model to ./model/best-mnist-cnn-v4.hdf5\n",
            "\n",
            "Epoch 00011: val_loss improved from 0.03417 to 0.03365, saving model to ./model/best-mnist-cnn-v4.hdf5\n",
            "\n",
            "Epoch 00012: val_loss did not improve from 0.03365\n",
            "\n",
            "Epoch 00013: val_loss improved from 0.03365 to 0.03351, saving model to ./model/best-mnist-cnn-v4.hdf5\n",
            "\n",
            "Epoch 00014: val_loss did not improve from 0.03351\n",
            "\n",
            "Epoch 00015: val_loss did not improve from 0.03351\n",
            "\n",
            "Epoch 00016: val_loss did not improve from 0.03351\n",
            "\n",
            "Epoch 00017: val_loss did not improve from 0.03351\n",
            "\n",
            "Epoch 00018: val_loss did not improve from 0.03351\n",
            "\n",
            "Epoch 00019: val_loss did not improve from 0.03351\n",
            "\n",
            "Epoch 00020: val_loss did not improve from 0.03351\n",
            "\n",
            "Epoch 00021: val_loss did not improve from 0.03351\n",
            "\n",
            "Epoch 00022: val_loss did not improve from 0.03351\n",
            "\n",
            "Epoch 00023: val_loss did not improve from 0.03351\n"
          ],
          "name": "stdout"
        }
      ]
    },
    {
      "cell_type": "code",
      "metadata": {
        "id": "_BMeRqgkk1O9"
      },
      "source": [
        "from tensorflow.keras.models import load_model\n",
        "best_model = load_model(model_path)"
      ],
      "execution_count": 15,
      "outputs": []
    },
    {
      "cell_type": "code",
      "metadata": {
        "colab": {
          "base_uri": "https://localhost:8080/"
        },
        "id": "JQXdKME1kivv",
        "outputId": "4c8b8096-3263-493c-9059-0798b77d1e69"
      },
      "source": [
        "# 정확도\n",
        "acc = best_model.evaluate(X_test, Y_test)\n",
        "print(f'정확도: {acc[1]:.4f}')"
      ],
      "execution_count": 16,
      "outputs": [
        {
          "output_type": "stream",
          "text": [
            "313/313 [==============================] - 1s 3ms/step - loss: 0.0263 - accuracy: 0.9922\n",
            "정확도: 0.9922\n"
          ],
          "name": "stdout"
        }
      ]
    },
    {
      "cell_type": "markdown",
      "metadata": {
        "id": "PNcklRGllwPV"
      },
      "source": [
        "### 훈련과정 시각화"
      ]
    },
    {
      "cell_type": "code",
      "metadata": {
        "id": "nCZKBnhNlR-r"
      },
      "source": [
        "# 훈련셋과 검증셋의 오차\n",
        "y_loss = history.history['loss']\n",
        "y_vloss = history.history['val_loss']"
      ],
      "execution_count": 17,
      "outputs": []
    },
    {
      "cell_type": "code",
      "metadata": {
        "colab": {
          "base_uri": "https://localhost:8080/",
          "height": 388
        },
        "id": "ho_a52XSmAU8",
        "outputId": "a4bc8d6a-63ec-4e04-a33c-6f22dd91f248"
      },
      "source": [
        "x_len = np.arange(1, len(y_loss)+1)\n",
        "plt.figure(figsize=(8,6))\n",
        "plt.plot(x_len, y_loss, c='red', marker='.', label='train set loss')\n",
        "plt.plot(x_len, y_vloss, c='blue', marker='.', label='validation set loss')\n",
        "\n",
        "plt.xlabel('epoch')\n",
        "plt.ylabel('loss')\n",
        "plt.grid()\n",
        "plt.legend()\n",
        "plt.show()"
      ],
      "execution_count": 18,
      "outputs": [
        {
          "output_type": "display_data",
          "data": {
            "image/png": "[encoded data removed]",
            "text/plain": [
              "<Figure size 576x432 with 1 Axes>"
            ]
          },
          "metadata": {
            "tags": [],
            "needs_background": "light"
          }
        }
      ]
    },
    {
      "cell_type": "code",
      "metadata": {
        "id": "68mBNArYmr5E"
      },
      "source": [
        ""
      ],
      "execution_count": null,
      "outputs": []
    }
  ]
}