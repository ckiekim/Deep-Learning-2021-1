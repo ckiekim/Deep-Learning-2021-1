{
  "nbformat": 4,
  "nbformat_minor": 0,
  "metadata": {
    "colab": {
      "name": "01_MNIST_DNN.ipynb",
      "provenance": [],
      "collapsed_sections": []
    },
    "kernelspec": {
      "name": "python3",
      "display_name": "Python 3"
    },
    "language_info": {
      "name": "python"
    }
  },
  "cells": [
    {
      "cell_type": "markdown",
      "metadata": {
        "id": "uONJvA2_dcJf"
      },
      "source": [
        "# MNIST 손글씨 - Neural Network"
      ]
    },
    {
      "cell_type": "code",
      "metadata": {
        "id": "v7JWAoF8dg4X"
      },
      "source": [
        "import numpy as np\n",
        "import tensorflow as tf\n",
        "import matplotlib.pyplot as plt\n",
        "%matplotlib inline"
      ],
      "execution_count": 1,
      "outputs": []
    },
    {
      "cell_type": "code",
      "metadata": {
        "id": "gej_diQtdr33"
      },
      "source": [
        "seed = 2021\n",
        "np.random.seed(seed)\n",
        "tf.random.set_seed(seed)"
      ],
      "execution_count": 2,
      "outputs": []
    },
    {
      "cell_type": "markdown",
      "metadata": {
        "id": "6xs1SK-bd4I3"
      },
      "source": [
        "### 데이터 전처리"
      ]
    },
    {
      "cell_type": "code",
      "metadata": {
        "colab": {
          "base_uri": "https://localhost:8080/"
        },
        "id": "TlaGqmJJd20w",
        "outputId": "4f91e865-1765-4eae-e042-f7519797fdbc"
      },
      "source": [
        "from tensorflow.keras.datasets import mnist\n",
        "(X_train, y_train), (X_test, y_test) = mnist.load_data()"
      ],
      "execution_count": 3,
      "outputs": [
        {
          "output_type": "stream",
          "text": [
            "Downloading data from https://storage.googleapis.com/tensorflow/tf-keras-datasets/mnist.npz\n",
            "11493376/11490434 [==============================] - 0s 0us/step\n"
          ],
          "name": "stdout"
        }
      ]
    },
    {
      "cell_type": "code",
      "metadata": {
        "colab": {
          "base_uri": "https://localhost:8080/"
        },
        "id": "HntIMQBTeQHJ",
        "outputId": "3c67a1d3-acf5-49b4-b3c2-00b92b96d3aa"
      },
      "source": [
        "X_train.shape, X_test.shape, y_train.shape"
      ],
      "execution_count": 4,
      "outputs": [
        {
          "output_type": "execute_result",
          "data": {
            "text/plain": [
              "((60000, 28, 28), (10000, 28, 28), (60000,))"
            ]
          },
          "metadata": {
            "tags": []
          },
          "execution_count": 4
        }
      ]
    },
    {
      "cell_type": "code",
      "metadata": {
        "colab": {
          "base_uri": "https://localhost:8080/",
          "height": 265
        },
        "id": "VqOKM7URefpL",
        "outputId": "c5e942e7-3635-4714-f0f7-51d801526125"
      },
      "source": [
        "plt.imshow(X_train[0], cmap='Greys')\n",
        "plt.show()"
      ],
      "execution_count": 5,
      "outputs": [
        {
          "output_type": "display_data",
          "data": {
            "image/png": "[encoded data removed]",
            "text/plain": [
              "<Figure size 432x288 with 1 Axes>"
            ]
          },
          "metadata": {
            "tags": [],
            "needs_background": "light"
          }
        }
      ]
    },
    {
      "cell_type": "code",
      "metadata": {
        "colab": {
          "base_uri": "https://localhost:8080/"
        },
        "id": "fDLXbCOReyQ-",
        "outputId": "d1d560a2-06a5-4c3b-b861-9ea2a5b65487"
      },
      "source": [
        "import sys\n",
        "for row in X_train[0]:\n",
        "    for i in row:\n",
        "        sys.stdout.write(f'{i:3d} ')\n",
        "    sys.stdout.write('\\n')"
      ],
      "execution_count": 6,
      "outputs": [
        {
          "output_type": "stream",
          "text": [
            "  0   0   0   0   0   0   0   0   0   0   0   0   0   0   0   0   0   0   0   0   0   0   0   0   0   0   0   0 \n",
            "  0   0   0   0   0   0   0   0   0   0   0   0   0   0   0   0   0   0   0   0   0   0   0   0   0   0   0   0 \n",
            "  0   0   0   0   0   0   0   0   0   0   0   0   0   0   0   0   0   0   0   0   0   0   0   0   0   0   0   0 \n",
            "  0   0   0   0   0   0   0   0   0   0   0   0   0   0   0   0   0   0   0   0   0   0   0   0   0   0   0   0 \n",
            "  0   0   0   0   0   0   0   0   0   0   0   0   0   0   0   0   0   0   0   0   0   0   0   0   0   0   0   0 \n",
            "  0   0   0   0   0   0   0   0   0   0   0   0   3  18  18  18 126 136 175  26 166 255 247 127   0   0   0   0 \n",
            "  0   0   0   0   0   0   0   0  30  36  94 154 170 253 253 253 253 253 225 172 253 242 195  64   0   0   0   0 \n",
            "  0   0   0   0   0   0   0  49 238 253 253 253 253 253 253 253 253 251  93  82  82  56  39   0   0   0   0   0 \n",
            "  0   0   0   0   0   0   0  18 219 253 253 253 253 253 198 182 247 241   0   0   0   0   0   0   0   0   0   0 \n",
            "  0   0   0   0   0   0   0   0  80 156 107 253 253 205  11   0  43 154   0   0   0   0   0   0   0   0   0   0 \n",
            "  0   0   0   0   0   0   0   0   0  14   1 154 253  90   0   0   0   0   0   0   0   0   0   0   0   0   0   0 \n",
            "  0   0   0   0   0   0   0   0   0   0   0 139 253 190   2   0   0   0   0   0   0   0   0   0   0   0   0   0 \n",
            "  0   0   0   0   0   0   0   0   0   0   0  11 190 253  70   0   0   0   0   0   0   0   0   0   0   0   0   0 \n",
            "  0   0   0   0   0   0   0   0   0   0   0   0  35 241 225 160 108   1   0   0   0   0   0   0   0   0   0   0 \n",
            "  0   0   0   0   0   0   0   0   0   0   0   0   0  81 240 253 253 119  25   0   0   0   0   0   0   0   0   0 \n",
            "  0   0   0   0   0   0   0   0   0   0   0   0   0   0  45 186 253 253 150  27   0   0   0   0   0   0   0   0 \n",
            "  0   0   0   0   0   0   0   0   0   0   0   0   0   0   0  16  93 252 253 187   0   0   0   0   0   0   0   0 \n",
            "  0   0   0   0   0   0   0   0   0   0   0   0   0   0   0   0   0 249 253 249  64   0   0   0   0   0   0   0 \n",
            "  0   0   0   0   0   0   0   0   0   0   0   0   0   0  46 130 183 253 253 207   2   0   0   0   0   0   0   0 \n",
            "  0   0   0   0   0   0   0   0   0   0   0   0  39 148 229 253 253 253 250 182   0   0   0   0   0   0   0   0 \n",
            "  0   0   0   0   0   0   0   0   0   0  24 114 221 253 253 253 253 201  78   0   0   0   0   0   0   0   0   0 \n",
            "  0   0   0   0   0   0   0   0  23  66 213 253 253 253 253 198  81   2   0   0   0   0   0   0   0   0   0   0 \n",
            "  0   0   0   0   0   0  18 171 219 253 253 253 253 195  80   9   0   0   0   0   0   0   0   0   0   0   0   0 \n",
            "  0   0   0   0  55 172 226 253 253 253 253 244 133  11   0   0   0   0   0   0   0   0   0   0   0   0   0   0 \n",
            "  0   0   0   0 136 253 253 253 212 135 132  16   0   0   0   0   0   0   0   0   0   0   0   0   0   0   0   0 \n",
            "  0   0   0   0   0   0   0   0   0   0   0   0   0   0   0   0   0   0   0   0   0   0   0   0   0   0   0   0 \n",
            "  0   0   0   0   0   0   0   0   0   0   0   0   0   0   0   0   0   0   0   0   0   0   0   0   0   0   0   0 \n",
            "  0   0   0   0   0   0   0   0   0   0   0   0   0   0   0   0   0   0   0   0   0   0   0   0   0   0   0   0 \n"
          ],
          "name": "stdout"
        }
      ]
    },
    {
      "cell_type": "code",
      "metadata": {
        "id": "9lohTwn6fMqW"
      },
      "source": [
        "# 2차원 데이터(28x28)를 1차원으로(784)\n",
        "X_train = X_train.reshape(-1, 784)"
      ],
      "execution_count": 7,
      "outputs": []
    },
    {
      "cell_type": "code",
      "metadata": {
        "colab": {
          "base_uri": "https://localhost:8080/"
        },
        "id": "a0WqQLLBgJ0J",
        "outputId": "4172069a-813b-4f03-bd6d-7270da2df11e"
      },
      "source": [
        "# 0 ~ 1 사이의 값으로 정규화 \n",
        "X_train = X_train / 255.0\n",
        "X_train.shape"
      ],
      "execution_count": 8,
      "outputs": [
        {
          "output_type": "execute_result",
          "data": {
            "text/plain": [
              "(60000, 784)"
            ]
          },
          "metadata": {
            "tags": []
          },
          "execution_count": 8
        }
      ]
    },
    {
      "cell_type": "code",
      "metadata": {
        "colab": {
          "base_uri": "https://localhost:8080/"
        },
        "id": "DOpvLno1gflg",
        "outputId": "4f7c2eb5-f67e-4307-82f0-39ed4baa7270"
      },
      "source": [
        "# X_test 에 대해서도 동일하게 처리\n",
        "X_test = X_test.reshape(-1, 784)\n",
        "X_test = X_test / 255.0\n",
        "X_test.shape"
      ],
      "execution_count": 9,
      "outputs": [
        {
          "output_type": "execute_result",
          "data": {
            "text/plain": [
              "(10000, 784)"
            ]
          },
          "metadata": {
            "tags": []
          },
          "execution_count": 9
        }
      ]
    },
    {
      "cell_type": "code",
      "metadata": {
        "colab": {
          "base_uri": "https://localhost:8080/"
        },
        "id": "m2_DZp9YguPY",
        "outputId": "c496907b-8268-4624-aef4-1aeb48b21b3b"
      },
      "source": [
        "# One-hot encoding\n",
        "from tensorflow.keras.utils import to_categorical\n",
        "\n",
        "Y_train = to_categorical(y_train, 10)\n",
        "Y_test = to_categorical(y_test, 10)\n",
        "Y_train.shape, Y_test.shape"
      ],
      "execution_count": 10,
      "outputs": [
        {
          "output_type": "execute_result",
          "data": {
            "text/plain": [
              "((60000, 10), (10000, 10))"
            ]
          },
          "metadata": {
            "tags": []
          },
          "execution_count": 10
        }
      ]
    },
    {
      "cell_type": "code",
      "metadata": {
        "colab": {
          "base_uri": "https://localhost:8080/"
        },
        "id": "4SG5Wh3BhN_g",
        "outputId": "c921577a-b8ec-41c7-f66f-9308a0ffb3b8"
      },
      "source": [
        "Y_train[0]"
      ],
      "execution_count": 11,
      "outputs": [
        {
          "output_type": "execute_result",
          "data": {
            "text/plain": [
              "array([0., 0., 0., 0., 0., 1., 0., 0., 0., 0.], dtype=float32)"
            ]
          },
          "metadata": {
            "tags": []
          },
          "execution_count": 11
        }
      ]
    },
    {
      "cell_type": "markdown",
      "metadata": {
        "id": "qAuXRNrQhc4U"
      },
      "source": [
        "### 모델 정의, 설정, 학습"
      ]
    },
    {
      "cell_type": "code",
      "metadata": {
        "id": "vAz0M8R-hS1l"
      },
      "source": [
        "from tensorflow.keras.models import Sequential\n",
        "from tensorflow.keras.layers import Dense \n",
        "from tensorflow.keras.callbacks import ModelCheckpoint, EarlyStopping\n",
        "import os"
      ],
      "execution_count": 13,
      "outputs": []
    },
    {
      "cell_type": "code",
      "metadata": {
        "id": "p6VGM_yHh586"
      },
      "source": [
        "MODEL_DIR = './model/'\n",
        "if not os.path.exists(MODEL_DIR):\n",
        "    os.mkdir(MODEL_DIR)"
      ],
      "execution_count": 14,
      "outputs": []
    },
    {
      "cell_type": "code",
      "metadata": {
        "colab": {
          "base_uri": "https://localhost:8080/"
        },
        "id": "_p8M6fFoiNWK",
        "outputId": "ed9b6a6b-77ad-4b35-c12e-75477f3cb7a0"
      },
      "source": [
        "model = Sequential()\n",
        "model.add(Dense(512, input_dim=784, activation='relu'))\n",
        "model.add(Dense(10, activation='softmax'))\n",
        "model.summary()"
      ],
      "execution_count": 15,
      "outputs": [
        {
          "output_type": "stream",
          "text": [
            "Model: \"sequential\"\n",
            "_________________________________________________________________\n",
            "Layer (type)                 Output Shape              Param #   \n",
            "=================================================================\n",
            "dense (Dense)                (None, 512)               401920    \n",
            "_________________________________________________________________\n",
            "dense_1 (Dense)              (None, 10)                5130      \n",
            "=================================================================\n",
            "Total params: 407,050\n",
            "Trainable params: 407,050\n",
            "Non-trainable params: 0\n",
            "_________________________________________________________________\n"
          ],
          "name": "stdout"
        }
      ]
    },
    {
      "cell_type": "code",
      "metadata": {
        "id": "vxdIXCVMi_QF"
      },
      "source": [
        "model.compile(loss='categorical_crossentropy', optimizer='adam', metrics=['accuracy'])"
      ],
      "execution_count": 16,
      "outputs": []
    },
    {
      "cell_type": "code",
      "metadata": {
        "id": "AeY89iRTjX0s"
      },
      "source": [
        "# 모델 최적화\n",
        "model_path = MODEL_DIR + 'best-mnist-dnn.hdf5'\n",
        "checkpoint = ModelCheckpoint(filepath=model_path, monitor='val_loss', \n",
        "                             verbose=1, save_best_only=True)\n",
        "early_stopping = EarlyStopping(monitor='val_loss', patience=10)"
      ],
      "execution_count": 17,
      "outputs": []
    },
    {
      "cell_type": "code",
      "metadata": {
        "colab": {
          "base_uri": "https://localhost:8080/"
        },
        "id": "nCUh9YmnkItR",
        "outputId": "99164005-05ff-41a8-e3f2-15882bb57e60"
      },
      "source": [
        "history = model.fit(X_train, Y_train, validation_split=0.2,\n",
        "                    epochs=50, batch_size=200, verbose=0,\n",
        "                    callbacks=[checkpoint, early_stopping])"
      ],
      "execution_count": 18,
      "outputs": [
        {
          "output_type": "stream",
          "text": [
            "\n",
            "Epoch 00001: val_loss improved from inf to 0.17144, saving model to ./model/best-mnist-dnn.hdf5\n",
            "\n",
            "Epoch 00002: val_loss improved from 0.17144 to 0.12332, saving model to ./model/best-mnist-dnn.hdf5\n",
            "\n",
            "Epoch 00003: val_loss improved from 0.12332 to 0.10247, saving model to ./model/best-mnist-dnn.hdf5\n",
            "\n",
            "Epoch 00004: val_loss improved from 0.10247 to 0.08734, saving model to ./model/best-mnist-dnn.hdf5\n",
            "\n",
            "Epoch 00005: val_loss improved from 0.08734 to 0.08358, saving model to ./model/best-mnist-dnn.hdf5\n",
            "\n",
            "Epoch 00006: val_loss did not improve from 0.08358\n",
            "\n",
            "Epoch 00007: val_loss improved from 0.08358 to 0.07434, saving model to ./model/best-mnist-dnn.hdf5\n",
            "\n",
            "Epoch 00008: val_loss did not improve from 0.07434\n",
            "\n",
            "Epoch 00009: val_loss improved from 0.07434 to 0.07222, saving model to ./model/best-mnist-dnn.hdf5\n",
            "\n",
            "Epoch 00010: val_loss did not improve from 0.07222\n",
            "\n",
            "Epoch 00011: val_loss did not improve from 0.07222\n",
            "\n",
            "Epoch 00012: val_loss did not improve from 0.07222\n",
            "\n",
            "Epoch 00013: val_loss did not improve from 0.07222\n",
            "\n",
            "Epoch 00014: val_loss did not improve from 0.07222\n",
            "\n",
            "Epoch 00015: val_loss did not improve from 0.07222\n",
            "\n",
            "Epoch 00016: val_loss did not improve from 0.07222\n",
            "\n",
            "Epoch 00017: val_loss did not improve from 0.07222\n",
            "\n",
            "Epoch 00018: val_loss did not improve from 0.07222\n",
            "\n",
            "Epoch 00019: val_loss did not improve from 0.07222\n"
          ],
          "name": "stdout"
        }
      ]
    },
    {
      "cell_type": "code",
      "metadata": {
        "id": "_BMeRqgkk1O9"
      },
      "source": [
        "from tensorflow.keras.models import load_model\n",
        "best_model = load_model(model_path)"
      ],
      "execution_count": 19,
      "outputs": []
    },
    {
      "cell_type": "code",
      "metadata": {
        "colab": {
          "base_uri": "https://localhost:8080/"
        },
        "id": "JQXdKME1kivv",
        "outputId": "ce6f5079-c424-44f0-8315-6b8f6d6189ca"
      },
      "source": [
        "# 정확도\n",
        "acc = best_model.evaluate(X_test, Y_test)"
      ],
      "execution_count": 20,
      "outputs": [
        {
          "output_type": "stream",
          "text": [
            "313/313 [==============================] - 1s 2ms/step - loss: 0.0650 - accuracy: 0.9789\n"
          ],
          "name": "stdout"
        }
      ]
    },
    {
      "cell_type": "code",
      "metadata": {
        "colab": {
          "base_uri": "https://localhost:8080/"
        },
        "id": "rorw3bIIlI_b",
        "outputId": "2d7ef356-7943-41a7-db7c-d87647a07b6b"
      },
      "source": [
        "print(f'정확도: {acc[1]:.4f}')"
      ],
      "execution_count": 21,
      "outputs": [
        {
          "output_type": "stream",
          "text": [
            "정확도: 0.9789\n"
          ],
          "name": "stdout"
        }
      ]
    },
    {
      "cell_type": "markdown",
      "metadata": {
        "id": "PNcklRGllwPV"
      },
      "source": [
        "### 훈련과정 시각화"
      ]
    },
    {
      "cell_type": "code",
      "metadata": {
        "id": "nCZKBnhNlR-r"
      },
      "source": [
        "# 훈련셋과 검증셋의 오차\n",
        "y_loss = history.history['loss']\n",
        "y_vloss = history.history['val_loss']"
      ],
      "execution_count": 22,
      "outputs": []
    },
    {
      "cell_type": "code",
      "metadata": {
        "colab": {
          "base_uri": "https://localhost:8080/",
          "height": 392
        },
        "id": "ho_a52XSmAU8",
        "outputId": "a753273b-5347-4839-8b18-b95e194b7cb3"
      },
      "source": [
        "x_len = np.arange(1, len(y_loss)+1)\n",
        "plt.figure(figsize=(8,6))\n",
        "plt.plot(x_len, y_loss, c='red', marker='.', label='train set loss')\n",
        "plt.plot(x_len, y_vloss, c='blue', marker='.', label='validation set loss')\n",
        "\n",
        "plt.xlabel('epoch')\n",
        "plt.ylabel('loss')\n",
        "plt.grid()\n",
        "plt.legend()\n",
        "plt.show()"
      ],
      "execution_count": 25,
      "outputs": [
        {
          "output_type": "display_data",
          "data": {
            "image/png": "[encoded data removed]",
            "text/plain": [
              "<Figure size 576x432 with 1 Axes>"
            ]
          },
          "metadata": {
            "tags": [],
            "needs_background": "light"
          }
        }
      ]
    },
    {
      "cell_type": "code",
      "metadata": {
        "id": "68mBNArYmr5E"
      },
      "source": [
        ""
      ],
      "execution_count": null,
      "outputs": []
    }
  ]
}